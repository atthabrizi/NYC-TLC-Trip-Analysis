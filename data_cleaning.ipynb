{
 "cells": [
  {
   "cell_type": "markdown",
   "metadata": {},
   "source": [
    "# ***Data Cleaning and Understanding***\n",
    "***"
   ]
  },
  {
   "cell_type": "code",
   "execution_count": 29,
   "metadata": {},
   "outputs": [],
   "source": [
    "import pandas as pd\n",
    "import numpy as np\n",
    "import matplotlib.pyplot as plt\n",
    "import seaborn as sns\n",
    "import datetime as dt\n",
    "import missingno as msno\n",
    "import warnings\n",
    "\n",
    "warnings.filterwarnings('ignore')"
   ]
  },
  {
   "cell_type": "code",
   "execution_count": 30,
   "metadata": {},
   "outputs": [
    {
     "data": {
      "text/html": [
       "<div>\n",
       "<style scoped>\n",
       "    .dataframe tbody tr th:only-of-type {\n",
       "        vertical-align: middle;\n",
       "    }\n",
       "\n",
       "    .dataframe tbody tr th {\n",
       "        vertical-align: top;\n",
       "    }\n",
       "\n",
       "    .dataframe thead th {\n",
       "        text-align: right;\n",
       "    }\n",
       "</style>\n",
       "<table border=\"1\" class=\"dataframe\">\n",
       "  <thead>\n",
       "    <tr style=\"text-align: right;\">\n",
       "      <th></th>\n",
       "      <th>VendorID</th>\n",
       "      <th>lpep_pickup_datetime</th>\n",
       "      <th>lpep_dropoff_datetime</th>\n",
       "      <th>store_and_fwd_flag</th>\n",
       "      <th>RatecodeID</th>\n",
       "      <th>PULocationID</th>\n",
       "      <th>DOLocationID</th>\n",
       "      <th>passenger_count</th>\n",
       "      <th>trip_distance</th>\n",
       "      <th>fare_amount</th>\n",
       "      <th>extra</th>\n",
       "      <th>mta_tax</th>\n",
       "      <th>tip_amount</th>\n",
       "      <th>tolls_amount</th>\n",
       "      <th>ehail_fee</th>\n",
       "      <th>improvement_surcharge</th>\n",
       "      <th>total_amount</th>\n",
       "      <th>payment_type</th>\n",
       "      <th>trip_type</th>\n",
       "      <th>congestion_surcharge</th>\n",
       "    </tr>\n",
       "  </thead>\n",
       "  <tbody>\n",
       "    <tr>\n",
       "      <th>0</th>\n",
       "      <td>2</td>\n",
       "      <td>2023-01-01 00:26:10</td>\n",
       "      <td>2023-01-01 00:37:11</td>\n",
       "      <td>N</td>\n",
       "      <td>1.0</td>\n",
       "      <td>166</td>\n",
       "      <td>143</td>\n",
       "      <td>1.0</td>\n",
       "      <td>2.58</td>\n",
       "      <td>14.9</td>\n",
       "      <td>1.0</td>\n",
       "      <td>0.5</td>\n",
       "      <td>4.03</td>\n",
       "      <td>0.0</td>\n",
       "      <td>NaN</td>\n",
       "      <td>1.0</td>\n",
       "      <td>24.18</td>\n",
       "      <td>1.0</td>\n",
       "      <td>1.0</td>\n",
       "      <td>2.75</td>\n",
       "    </tr>\n",
       "    <tr>\n",
       "      <th>1</th>\n",
       "      <td>2</td>\n",
       "      <td>2023-01-01 00:51:03</td>\n",
       "      <td>2023-01-01 00:57:49</td>\n",
       "      <td>N</td>\n",
       "      <td>1.0</td>\n",
       "      <td>24</td>\n",
       "      <td>43</td>\n",
       "      <td>1.0</td>\n",
       "      <td>1.81</td>\n",
       "      <td>10.7</td>\n",
       "      <td>1.0</td>\n",
       "      <td>0.5</td>\n",
       "      <td>2.64</td>\n",
       "      <td>0.0</td>\n",
       "      <td>NaN</td>\n",
       "      <td>1.0</td>\n",
       "      <td>15.84</td>\n",
       "      <td>1.0</td>\n",
       "      <td>1.0</td>\n",
       "      <td>0.00</td>\n",
       "    </tr>\n",
       "    <tr>\n",
       "      <th>2</th>\n",
       "      <td>2</td>\n",
       "      <td>2023-01-01 00:35:12</td>\n",
       "      <td>2023-01-01 00:41:32</td>\n",
       "      <td>N</td>\n",
       "      <td>1.0</td>\n",
       "      <td>223</td>\n",
       "      <td>179</td>\n",
       "      <td>1.0</td>\n",
       "      <td>0.00</td>\n",
       "      <td>7.2</td>\n",
       "      <td>1.0</td>\n",
       "      <td>0.5</td>\n",
       "      <td>1.94</td>\n",
       "      <td>0.0</td>\n",
       "      <td>NaN</td>\n",
       "      <td>1.0</td>\n",
       "      <td>11.64</td>\n",
       "      <td>1.0</td>\n",
       "      <td>1.0</td>\n",
       "      <td>0.00</td>\n",
       "    </tr>\n",
       "  </tbody>\n",
       "</table>\n",
       "</div>"
      ],
      "text/plain": [
       "   VendorID lpep_pickup_datetime lpep_dropoff_datetime store_and_fwd_flag  \\\n",
       "0         2  2023-01-01 00:26:10   2023-01-01 00:37:11                  N   \n",
       "1         2  2023-01-01 00:51:03   2023-01-01 00:57:49                  N   \n",
       "2         2  2023-01-01 00:35:12   2023-01-01 00:41:32                  N   \n",
       "\n",
       "   RatecodeID  PULocationID  DOLocationID  passenger_count  trip_distance  \\\n",
       "0         1.0           166           143              1.0           2.58   \n",
       "1         1.0            24            43              1.0           1.81   \n",
       "2         1.0           223           179              1.0           0.00   \n",
       "\n",
       "   fare_amount  extra  mta_tax  tip_amount  tolls_amount  ehail_fee  \\\n",
       "0         14.9    1.0      0.5        4.03           0.0        NaN   \n",
       "1         10.7    1.0      0.5        2.64           0.0        NaN   \n",
       "2          7.2    1.0      0.5        1.94           0.0        NaN   \n",
       "\n",
       "   improvement_surcharge  total_amount  payment_type  trip_type  \\\n",
       "0                    1.0         24.18           1.0        1.0   \n",
       "1                    1.0         15.84           1.0        1.0   \n",
       "2                    1.0         11.64           1.0        1.0   \n",
       "\n",
       "   congestion_surcharge  \n",
       "0                  2.75  \n",
       "1                  0.00  \n",
       "2                  0.00  "
      ]
     },
     "metadata": {},
     "output_type": "display_data"
    },
    {
     "data": {
      "text/html": [
       "<div>\n",
       "<style scoped>\n",
       "    .dataframe tbody tr th:only-of-type {\n",
       "        vertical-align: middle;\n",
       "    }\n",
       "\n",
       "    .dataframe tbody tr th {\n",
       "        vertical-align: top;\n",
       "    }\n",
       "\n",
       "    .dataframe thead th {\n",
       "        text-align: right;\n",
       "    }\n",
       "</style>\n",
       "<table border=\"1\" class=\"dataframe\">\n",
       "  <thead>\n",
       "    <tr style=\"text-align: right;\">\n",
       "      <th></th>\n",
       "      <th>VendorID</th>\n",
       "      <th>lpep_pickup_datetime</th>\n",
       "      <th>lpep_dropoff_datetime</th>\n",
       "      <th>store_and_fwd_flag</th>\n",
       "      <th>RatecodeID</th>\n",
       "      <th>PULocationID</th>\n",
       "      <th>DOLocationID</th>\n",
       "      <th>passenger_count</th>\n",
       "      <th>trip_distance</th>\n",
       "      <th>fare_amount</th>\n",
       "      <th>extra</th>\n",
       "      <th>mta_tax</th>\n",
       "      <th>tip_amount</th>\n",
       "      <th>tolls_amount</th>\n",
       "      <th>ehail_fee</th>\n",
       "      <th>improvement_surcharge</th>\n",
       "      <th>total_amount</th>\n",
       "      <th>payment_type</th>\n",
       "      <th>trip_type</th>\n",
       "      <th>congestion_surcharge</th>\n",
       "    </tr>\n",
       "  </thead>\n",
       "  <tbody>\n",
       "    <tr>\n",
       "      <th>68208</th>\n",
       "      <td>2</td>\n",
       "      <td>2023-01-31 23:46:00</td>\n",
       "      <td>2023-02-01 00:02:00</td>\n",
       "      <td>NaN</td>\n",
       "      <td>NaN</td>\n",
       "      <td>66</td>\n",
       "      <td>37</td>\n",
       "      <td>NaN</td>\n",
       "      <td>3.44</td>\n",
       "      <td>16.53</td>\n",
       "      <td>0.0</td>\n",
       "      <td>0.0</td>\n",
       "      <td>3.51</td>\n",
       "      <td>0.0</td>\n",
       "      <td>NaN</td>\n",
       "      <td>1.0</td>\n",
       "      <td>21.04</td>\n",
       "      <td>NaN</td>\n",
       "      <td>NaN</td>\n",
       "      <td>NaN</td>\n",
       "    </tr>\n",
       "    <tr>\n",
       "      <th>68209</th>\n",
       "      <td>2</td>\n",
       "      <td>2023-01-31 23:01:00</td>\n",
       "      <td>2023-01-31 23:19:00</td>\n",
       "      <td>NaN</td>\n",
       "      <td>NaN</td>\n",
       "      <td>225</td>\n",
       "      <td>189</td>\n",
       "      <td>NaN</td>\n",
       "      <td>3.03</td>\n",
       "      <td>14.98</td>\n",
       "      <td>0.0</td>\n",
       "      <td>0.0</td>\n",
       "      <td>3.20</td>\n",
       "      <td>0.0</td>\n",
       "      <td>NaN</td>\n",
       "      <td>1.0</td>\n",
       "      <td>19.18</td>\n",
       "      <td>NaN</td>\n",
       "      <td>NaN</td>\n",
       "      <td>NaN</td>\n",
       "    </tr>\n",
       "    <tr>\n",
       "      <th>68210</th>\n",
       "      <td>2</td>\n",
       "      <td>2023-01-31 23:51:00</td>\n",
       "      <td>2023-02-01 00:07:00</td>\n",
       "      <td>NaN</td>\n",
       "      <td>NaN</td>\n",
       "      <td>256</td>\n",
       "      <td>140</td>\n",
       "      <td>NaN</td>\n",
       "      <td>5.82</td>\n",
       "      <td>23.65</td>\n",
       "      <td>0.0</td>\n",
       "      <td>0.0</td>\n",
       "      <td>2.00</td>\n",
       "      <td>0.0</td>\n",
       "      <td>NaN</td>\n",
       "      <td>1.0</td>\n",
       "      <td>29.40</td>\n",
       "      <td>NaN</td>\n",
       "      <td>NaN</td>\n",
       "      <td>NaN</td>\n",
       "    </tr>\n",
       "  </tbody>\n",
       "</table>\n",
       "</div>"
      ],
      "text/plain": [
       "       VendorID lpep_pickup_datetime lpep_dropoff_datetime store_and_fwd_flag  \\\n",
       "68208         2  2023-01-31 23:46:00   2023-02-01 00:02:00                NaN   \n",
       "68209         2  2023-01-31 23:01:00   2023-01-31 23:19:00                NaN   \n",
       "68210         2  2023-01-31 23:51:00   2023-02-01 00:07:00                NaN   \n",
       "\n",
       "       RatecodeID  PULocationID  DOLocationID  passenger_count  trip_distance  \\\n",
       "68208         NaN            66            37              NaN           3.44   \n",
       "68209         NaN           225           189              NaN           3.03   \n",
       "68210         NaN           256           140              NaN           5.82   \n",
       "\n",
       "       fare_amount  extra  mta_tax  tip_amount  tolls_amount  ehail_fee  \\\n",
       "68208        16.53    0.0      0.0        3.51           0.0        NaN   \n",
       "68209        14.98    0.0      0.0        3.20           0.0        NaN   \n",
       "68210        23.65    0.0      0.0        2.00           0.0        NaN   \n",
       "\n",
       "       improvement_surcharge  total_amount  payment_type  trip_type  \\\n",
       "68208                    1.0         21.04           NaN        NaN   \n",
       "68209                    1.0         19.18           NaN        NaN   \n",
       "68210                    1.0         29.40           NaN        NaN   \n",
       "\n",
       "       congestion_surcharge  \n",
       "68208                   NaN  \n",
       "68209                   NaN  \n",
       "68210                   NaN  "
      ]
     },
     "metadata": {},
     "output_type": "display_data"
    }
   ],
   "source": [
    "# Importing main data\n",
    "df = pd.read_csv('data/NYC TLC Trip Record.csv')\n",
    "display(df.head(3),df.tail(3))\n",
    "# df.tail(1000)"
   ]
  },
  {
   "cell_type": "code",
   "execution_count": 31,
   "metadata": {},
   "outputs": [
    {
     "data": {
      "text/html": [
       "<div>\n",
       "<style scoped>\n",
       "    .dataframe tbody tr th:only-of-type {\n",
       "        vertical-align: middle;\n",
       "    }\n",
       "\n",
       "    .dataframe tbody tr th {\n",
       "        vertical-align: top;\n",
       "    }\n",
       "\n",
       "    .dataframe thead th {\n",
       "        text-align: right;\n",
       "    }\n",
       "</style>\n",
       "<table border=\"1\" class=\"dataframe\">\n",
       "  <thead>\n",
       "    <tr style=\"text-align: right;\">\n",
       "      <th></th>\n",
       "      <th>LocationID</th>\n",
       "      <th>zone</th>\n",
       "      <th>borough</th>\n",
       "    </tr>\n",
       "  </thead>\n",
       "  <tbody>\n",
       "    <tr>\n",
       "      <th>0</th>\n",
       "      <td>1</td>\n",
       "      <td>Newark Airport</td>\n",
       "      <td>EWR</td>\n",
       "    </tr>\n",
       "    <tr>\n",
       "      <th>1</th>\n",
       "      <td>2</td>\n",
       "      <td>Jamaica Bay</td>\n",
       "      <td>Queens</td>\n",
       "    </tr>\n",
       "    <tr>\n",
       "      <th>2</th>\n",
       "      <td>3</td>\n",
       "      <td>Allerton/Pelham Gardens</td>\n",
       "      <td>Bronx</td>\n",
       "    </tr>\n",
       "    <tr>\n",
       "      <th>3</th>\n",
       "      <td>4</td>\n",
       "      <td>Alphabet City</td>\n",
       "      <td>Manhattan</td>\n",
       "    </tr>\n",
       "    <tr>\n",
       "      <th>4</th>\n",
       "      <td>5</td>\n",
       "      <td>Arden Heights</td>\n",
       "      <td>Staten Island</td>\n",
       "    </tr>\n",
       "    <tr>\n",
       "      <th>...</th>\n",
       "      <td>...</td>\n",
       "      <td>...</td>\n",
       "      <td>...</td>\n",
       "    </tr>\n",
       "    <tr>\n",
       "      <th>258</th>\n",
       "      <td>256</td>\n",
       "      <td>Williamsburg (South Side)</td>\n",
       "      <td>Brooklyn</td>\n",
       "    </tr>\n",
       "    <tr>\n",
       "      <th>259</th>\n",
       "      <td>259</td>\n",
       "      <td>Woodlawn/Wakefield</td>\n",
       "      <td>Bronx</td>\n",
       "    </tr>\n",
       "    <tr>\n",
       "      <th>260</th>\n",
       "      <td>260</td>\n",
       "      <td>Woodside</td>\n",
       "      <td>Queens</td>\n",
       "    </tr>\n",
       "    <tr>\n",
       "      <th>261</th>\n",
       "      <td>261</td>\n",
       "      <td>World Trade Center</td>\n",
       "      <td>Manhattan</td>\n",
       "    </tr>\n",
       "    <tr>\n",
       "      <th>262</th>\n",
       "      <td>262</td>\n",
       "      <td>Yorkville East</td>\n",
       "      <td>Manhattan</td>\n",
       "    </tr>\n",
       "  </tbody>\n",
       "</table>\n",
       "<p>263 rows × 3 columns</p>\n",
       "</div>"
      ],
      "text/plain": [
       "     LocationID                       zone        borough\n",
       "0             1             Newark Airport            EWR\n",
       "1             2                Jamaica Bay         Queens\n",
       "2             3    Allerton/Pelham Gardens          Bronx\n",
       "3             4              Alphabet City      Manhattan\n",
       "4             5              Arden Heights  Staten Island\n",
       "..          ...                        ...            ...\n",
       "258         256  Williamsburg (South Side)       Brooklyn\n",
       "259         259         Woodlawn/Wakefield          Bronx\n",
       "260         260                   Woodside         Queens\n",
       "261         261         World Trade Center      Manhattan\n",
       "262         262             Yorkville East      Manhattan\n",
       "\n",
       "[263 rows x 3 columns]"
      ]
     },
     "execution_count": 31,
     "metadata": {},
     "output_type": "execute_result"
    }
   ],
   "source": [
    "# importing supporting data = Location ID Zone\n",
    "df2 = pd.read_csv('data/taxi_zones.csv')\n",
    "locID = df2[['LocationID','zone','borough']]\n",
    "locID\n"
   ]
  },
  {
   "cell_type": "markdown",
   "metadata": {},
   "source": [
    "## ***Data Wrangling***\n",
    "***"
   ]
  },
  {
   "cell_type": "markdown",
   "metadata": {},
   "source": [
    "Dataset tersebut berisi rekaman TLC (Taxi and Limousine) New York City pada bulan Januari 2023. "
   ]
  },
  {
   "cell_type": "markdown",
   "metadata": {},
   "source": [
    "#### ***Column Index***\n",
    "***"
   ]
  },
  {
   "cell_type": "code",
   "execution_count": 32,
   "metadata": {},
   "outputs": [],
   "source": [
    "\n",
    "def columnindex(x):\n",
    "    listItem = []\n",
    "    for col in x.columns :\n",
    "        listItem.append( [col, x[col].nunique(),x[col].isna().any(),x[col].dtypes,x[col].unique() ])\n",
    "\n",
    "    tabeldesc = pd.DataFrame(columns=['Column Name', 'Number of Unique','isna','dtype','Unique Sample'],\n",
    "                         data=listItem)\n",
    "    # tabeldesc.drop([1,2], axis=0) # drop date and time karena terlalu panjang\n",
    "    tabeldesc\n",
    "    return tabeldesc\n"
   ]
  },
  {
   "cell_type": "code",
   "execution_count": 33,
   "metadata": {},
   "outputs": [
    {
     "data": {
      "text/html": [
       "<div>\n",
       "<style scoped>\n",
       "    .dataframe tbody tr th:only-of-type {\n",
       "        vertical-align: middle;\n",
       "    }\n",
       "\n",
       "    .dataframe tbody tr th {\n",
       "        vertical-align: top;\n",
       "    }\n",
       "\n",
       "    .dataframe thead th {\n",
       "        text-align: right;\n",
       "    }\n",
       "</style>\n",
       "<table border=\"1\" class=\"dataframe\">\n",
       "  <thead>\n",
       "    <tr style=\"text-align: right;\">\n",
       "      <th></th>\n",
       "      <th>Column Name</th>\n",
       "      <th>Number of Unique</th>\n",
       "      <th>isna</th>\n",
       "      <th>dtype</th>\n",
       "      <th>Unique Sample</th>\n",
       "    </tr>\n",
       "  </thead>\n",
       "  <tbody>\n",
       "    <tr>\n",
       "      <th>0</th>\n",
       "      <td>VendorID</td>\n",
       "      <td>2</td>\n",
       "      <td>False</td>\n",
       "      <td>int64</td>\n",
       "      <td>[2, 1]</td>\n",
       "    </tr>\n",
       "    <tr>\n",
       "      <th>1</th>\n",
       "      <td>lpep_pickup_datetime</td>\n",
       "      <td>66575</td>\n",
       "      <td>False</td>\n",
       "      <td>object</td>\n",
       "      <td>[2023-01-01 00:26:10, 2023-01-01 00:51:03, 202...</td>\n",
       "    </tr>\n",
       "    <tr>\n",
       "      <th>2</th>\n",
       "      <td>lpep_dropoff_datetime</td>\n",
       "      <td>66519</td>\n",
       "      <td>False</td>\n",
       "      <td>object</td>\n",
       "      <td>[2023-01-01 00:37:11, 2023-01-01 00:57:49, 202...</td>\n",
       "    </tr>\n",
       "    <tr>\n",
       "      <th>3</th>\n",
       "      <td>store_and_fwd_flag</td>\n",
       "      <td>2</td>\n",
       "      <td>True</td>\n",
       "      <td>object</td>\n",
       "      <td>[N, Y, nan]</td>\n",
       "    </tr>\n",
       "    <tr>\n",
       "      <th>4</th>\n",
       "      <td>RatecodeID</td>\n",
       "      <td>6</td>\n",
       "      <td>True</td>\n",
       "      <td>float64</td>\n",
       "      <td>[1.0, 5.0, 4.0, 3.0, 2.0, 99.0, nan]</td>\n",
       "    </tr>\n",
       "    <tr>\n",
       "      <th>5</th>\n",
       "      <td>PULocationID</td>\n",
       "      <td>226</td>\n",
       "      <td>False</td>\n",
       "      <td>int64</td>\n",
       "      <td>[166, 24, 223, 41, 181, 255, 75, 66, 195, 83, ...</td>\n",
       "    </tr>\n",
       "    <tr>\n",
       "      <th>6</th>\n",
       "      <td>DOLocationID</td>\n",
       "      <td>249</td>\n",
       "      <td>False</td>\n",
       "      <td>int64</td>\n",
       "      <td>[143, 43, 179, 238, 74, 262, 45, 75, 166, 140,...</td>\n",
       "    </tr>\n",
       "    <tr>\n",
       "      <th>7</th>\n",
       "      <td>passenger_count</td>\n",
       "      <td>10</td>\n",
       "      <td>True</td>\n",
       "      <td>float64</td>\n",
       "      <td>[1.0, 2.0, 4.0, 3.0, 6.0, 5.0, 0.0, 7.0, 9.0, ...</td>\n",
       "    </tr>\n",
       "    <tr>\n",
       "      <th>8</th>\n",
       "      <td>trip_distance</td>\n",
       "      <td>1870</td>\n",
       "      <td>False</td>\n",
       "      <td>float64</td>\n",
       "      <td>[2.58, 1.81, 0.0, 1.3, 1.1, 2.78, 3.8, 1.88, 1...</td>\n",
       "    </tr>\n",
       "    <tr>\n",
       "      <th>9</th>\n",
       "      <td>fare_amount</td>\n",
       "      <td>2553</td>\n",
       "      <td>False</td>\n",
       "      <td>float64</td>\n",
       "      <td>[14.9, 10.7, 7.2, 6.5, 6.0, 17.7, 19.1, 14.2, ...</td>\n",
       "    </tr>\n",
       "    <tr>\n",
       "      <th>10</th>\n",
       "      <td>extra</td>\n",
       "      <td>16</td>\n",
       "      <td>False</td>\n",
       "      <td>float64</td>\n",
       "      <td>[1.0, 0.5, 3.75, 0.0, 3.25, 6.0, 5.0, 2.75, 5....</td>\n",
       "    </tr>\n",
       "    <tr>\n",
       "      <th>11</th>\n",
       "      <td>mta_tax</td>\n",
       "      <td>6</td>\n",
       "      <td>False</td>\n",
       "      <td>float64</td>\n",
       "      <td>[0.5, 1.5, 0.0, 1.0, -0.5, 2.75]</td>\n",
       "    </tr>\n",
       "    <tr>\n",
       "      <th>12</th>\n",
       "      <td>tip_amount</td>\n",
       "      <td>1492</td>\n",
       "      <td>False</td>\n",
       "      <td>float64</td>\n",
       "      <td>[4.03, 2.64, 1.94, 1.7, 0.0, 4.85, 1.0, 3.0, 3...</td>\n",
       "    </tr>\n",
       "    <tr>\n",
       "      <th>13</th>\n",
       "      <td>tolls_amount</td>\n",
       "      <td>26</td>\n",
       "      <td>False</td>\n",
       "      <td>float64</td>\n",
       "      <td>[0.0, 6.55, 4.0, 13.75, 9.0, 3.0, 11.75, 2.45,...</td>\n",
       "    </tr>\n",
       "    <tr>\n",
       "      <th>14</th>\n",
       "      <td>ehail_fee</td>\n",
       "      <td>0</td>\n",
       "      <td>True</td>\n",
       "      <td>float64</td>\n",
       "      <td>[nan]</td>\n",
       "    </tr>\n",
       "    <tr>\n",
       "      <th>15</th>\n",
       "      <td>improvement_surcharge</td>\n",
       "      <td>5</td>\n",
       "      <td>False</td>\n",
       "      <td>float64</td>\n",
       "      <td>[1.0, 0.0, 0.3, -1.0, -0.3]</td>\n",
       "    </tr>\n",
       "    <tr>\n",
       "      <th>16</th>\n",
       "      <td>total_amount</td>\n",
       "      <td>4670</td>\n",
       "      <td>False</td>\n",
       "      <td>float64</td>\n",
       "      <td>[24.18, 15.84, 11.64, 10.2, 8.0, 22.95, 29.2, ...</td>\n",
       "    </tr>\n",
       "    <tr>\n",
       "      <th>17</th>\n",
       "      <td>payment_type</td>\n",
       "      <td>5</td>\n",
       "      <td>True</td>\n",
       "      <td>float64</td>\n",
       "      <td>[1.0, 2.0, 3.0, 4.0, 5.0, nan]</td>\n",
       "    </tr>\n",
       "    <tr>\n",
       "      <th>18</th>\n",
       "      <td>trip_type</td>\n",
       "      <td>2</td>\n",
       "      <td>True</td>\n",
       "      <td>float64</td>\n",
       "      <td>[1.0, 2.0, nan]</td>\n",
       "    </tr>\n",
       "    <tr>\n",
       "      <th>19</th>\n",
       "      <td>congestion_surcharge</td>\n",
       "      <td>4</td>\n",
       "      <td>True</td>\n",
       "      <td>float64</td>\n",
       "      <td>[2.75, 0.0, 2.5, -2.75, nan]</td>\n",
       "    </tr>\n",
       "  </tbody>\n",
       "</table>\n",
       "</div>"
      ],
      "text/plain": [
       "              Column Name  Number of Unique   isna    dtype  \\\n",
       "0                VendorID                 2  False    int64   \n",
       "1    lpep_pickup_datetime             66575  False   object   \n",
       "2   lpep_dropoff_datetime             66519  False   object   \n",
       "3      store_and_fwd_flag                 2   True   object   \n",
       "4              RatecodeID                 6   True  float64   \n",
       "5            PULocationID               226  False    int64   \n",
       "6            DOLocationID               249  False    int64   \n",
       "7         passenger_count                10   True  float64   \n",
       "8           trip_distance              1870  False  float64   \n",
       "9             fare_amount              2553  False  float64   \n",
       "10                  extra                16  False  float64   \n",
       "11                mta_tax                 6  False  float64   \n",
       "12             tip_amount              1492  False  float64   \n",
       "13           tolls_amount                26  False  float64   \n",
       "14              ehail_fee                 0   True  float64   \n",
       "15  improvement_surcharge                 5  False  float64   \n",
       "16           total_amount              4670  False  float64   \n",
       "17           payment_type                 5   True  float64   \n",
       "18              trip_type                 2   True  float64   \n",
       "19   congestion_surcharge                 4   True  float64   \n",
       "\n",
       "                                        Unique Sample  \n",
       "0                                              [2, 1]  \n",
       "1   [2023-01-01 00:26:10, 2023-01-01 00:51:03, 202...  \n",
       "2   [2023-01-01 00:37:11, 2023-01-01 00:57:49, 202...  \n",
       "3                                         [N, Y, nan]  \n",
       "4                [1.0, 5.0, 4.0, 3.0, 2.0, 99.0, nan]  \n",
       "5   [166, 24, 223, 41, 181, 255, 75, 66, 195, 83, ...  \n",
       "6   [143, 43, 179, 238, 74, 262, 45, 75, 166, 140,...  \n",
       "7   [1.0, 2.0, 4.0, 3.0, 6.0, 5.0, 0.0, 7.0, 9.0, ...  \n",
       "8   [2.58, 1.81, 0.0, 1.3, 1.1, 2.78, 3.8, 1.88, 1...  \n",
       "9   [14.9, 10.7, 7.2, 6.5, 6.0, 17.7, 19.1, 14.2, ...  \n",
       "10  [1.0, 0.5, 3.75, 0.0, 3.25, 6.0, 5.0, 2.75, 5....  \n",
       "11                   [0.5, 1.5, 0.0, 1.0, -0.5, 2.75]  \n",
       "12  [4.03, 2.64, 1.94, 1.7, 0.0, 4.85, 1.0, 3.0, 3...  \n",
       "13  [0.0, 6.55, 4.0, 13.75, 9.0, 3.0, 11.75, 2.45,...  \n",
       "14                                              [nan]  \n",
       "15                        [1.0, 0.0, 0.3, -1.0, -0.3]  \n",
       "16  [24.18, 15.84, 11.64, 10.2, 8.0, 22.95, 29.2, ...  \n",
       "17                     [1.0, 2.0, 3.0, 4.0, 5.0, nan]  \n",
       "18                                    [1.0, 2.0, nan]  \n",
       "19                       [2.75, 0.0, 2.5, -2.75, nan]  "
      ]
     },
     "execution_count": 33,
     "metadata": {},
     "output_type": "execute_result"
    }
   ],
   "source": [
    "columnindex(df)"
   ]
  },
  {
   "cell_type": "markdown",
   "metadata": {},
   "source": [
    "**Insights**\n",
    "- ***VendorID*** `int` = There are no NaN values, and the data is neat and organized <br>\n",
    "\n",
    "- ***lpep_picup_datetime*** `object` = There are date that is not on this analysis timeframe. <br >The datasets needs to be formatted into date-time format to be analyzed. The column name will be renamed to PUDatetime for easier analysis. <br>\n",
    "- ***lpep_dropoff_datetime*** `object` = There are date that is not on this analysis timeframe. <br >The dataset  needs to be formatted into date-time format to be analyzed. The column name will be renamed to DODatetime for easier analysis. <br>\n",
    "- ***store_and_fwd*** `objet` = The data has NaN values, but the rest of the values are correct (Y or N), to analyze better this data will be encoded.<br>\n",
    "- ***RatecodeID*** `float` = The data has NaN values, the data are encoded and there are datas with value anomaly that is not supposed to be in the data **[99.0]** <br>\n",
    "- ***PULocationD*** `int` = The Data values are neat. But there are Location IDs that is not in the Location ID Mapping **[264 and 265]**<br>\n",
    "- ***DOLocationID*** `int` = The Data values are neat. But there are Location IDs that is not in the Location ID Mapping **[264 and 265]**<br>\n",
    "- ***passenger_count*** `float` = There are NaN values, and there are data with value anomaly **[0.0]**<br>\n",
    "- ***trip_distance*** `float` = The Data values are neat (outliers will be further analyzed).<br>\n",
    "- ***fare_amount*** `float` = The Data values are neat (outliers will be further analyzed). <br>\n",
    "- ***extra*** `float` = The columns will be dropped since the data has no relevance towards the problem that are being solved.<br>\n",
    "- ***mta_tax*** `float` = The columns will be dropped since the data has no relevance towards the problem that are being solved.<br>\n",
    "- ***tip_amount*** `float` = The Data values are neat (outliers will be further analyzed).  <br>\n",
    "- ***tolls_amount*** `float` = The columns will be dropped since there are only NaN values and the data has no relevance towards the problem that are being solved.<br>\n",
    "- ***ehail fee*** `float` = The columns will be dropped since there are only NaN values and the data has no relevance towards the problem that are being solved.<br>\n",
    "- ***improvement_surcharge*** `float` = The columns will be dropped since the data has no relevance towards the problem that are being solved. <br>\n",
    "- ***total_amont*** `float` = The Data values are neat (outliers will be further analyzed).  <br>\n",
    "- ***payment_tpe*** `float` = The data has NaN values, but the rest of the values are neat.<br>\n",
    "- ***trip_type*** `float` = The data has NaN values, but the rest of the values are correct (1 or 2).<br>\n",
    "- ***congestion_surcharge*** `float` =The columns will be dropped since the data has no relevance towards the problem that are being solved.  <br>"
   ]
  },
  {
   "cell_type": "markdown",
   "metadata": {},
   "source": [
    "### ***Formatting Date and Time***\n",
    "\n",
    "Transforming the pickup and dropoff time to a more eligible format, and adding the day name.\n",
    "***"
   ]
  },
  {
   "cell_type": "code",
   "execution_count": 34,
   "metadata": {},
   "outputs": [
    {
     "data": {
      "text/plain": [
       "dtype('<M8[ns]')"
      ]
     },
     "metadata": {},
     "output_type": "display_data"
    },
    {
     "data": {
      "text/plain": [
       "dtype('<M8[ns]')"
      ]
     },
     "metadata": {},
     "output_type": "display_data"
    }
   ],
   "source": [
    "df['lpep_pickup_datetime'] = pd.to_datetime(df['lpep_pickup_datetime'])\n",
    "df['lpep_dropoff_datetime'] = pd.to_datetime(df['lpep_dropoff_datetime'])\n",
    "display(df['lpep_pickup_datetime'].dtype,\n",
    "        df['lpep_dropoff_datetime'].dtype)"
   ]
  },
  {
   "cell_type": "markdown",
   "metadata": {},
   "source": [
    "**Adding new columns :  `day` and `duration_min`**\n",
    "\n",
    "`day`: Create a new column that will contain the day name for each trip, representing the day of the week when the trip occurred.\n",
    "\n",
    "`duration_min`: Calculate and include a new column to display the trip duration in minutes, which can be derived from your existing 'duration' data."
   ]
  },
  {
   "cell_type": "code",
   "execution_count": 35,
   "metadata": {},
   "outputs": [],
   "source": [
    "daycolumn = df['lpep_pickup_datetime'].dt.day_name()\n",
    "df.insert(3,'day',daycolumn)"
   ]
  },
  {
   "cell_type": "code",
   "execution_count": 36,
   "metadata": {},
   "outputs": [
    {
     "name": "stdout",
     "output_type": "stream",
     "text": [
      "\"VendorID\",\n",
      "\"RatecodeID\",\n",
      "\"PULocationID\",\n",
      "\"DOLocationID\",\n",
      "\"passenger_count\",\n",
      "\"trip_distance\",\n",
      "\"extra\",\n",
      "\"mta_tax\",\n",
      "\"tip_amount\",\n",
      "\"tolls_amount\",\n",
      "\"improvement_surcharge\",\n",
      "\"total_amount\",\n",
      "\"payment_type\",\n",
      "\"trip_type\",\n",
      "\"congestion_surcharge\",\n"
     ]
    }
   ],
   "source": [
    "data = {\n",
    "    'VendorID': [2, 2, 2],\n",
    "    'RatecodeID': [1.0, 1.0, 1.0],\n",
    "    'PULocationID': [179, 75, 236],\n",
    "    'DOLocationID': [234, 74, 75],\n",
    "    'passenger_count': [1.0, 1.0, 1.0],\n",
    "    'trip_distance': [5.51, 1.28, 0.53],\n",
    "    'extra': [1.0, 0.0, 0.0],\n",
    "    'mta_tax': [0.5, 0.5, 0.5],\n",
    "    'tip_amount': [7.84, 0.00, 1.32],\n",
    "    'tolls_amount': [0.0, 0.0, 0.0],\n",
    "    'improvement_surcharge': [1.0, 1.0, 1.0],\n",
    "    'total_amount': [39.19, 12.20, 7.92],\n",
    "    'payment_type': [1.0, 2.0, 1.0],\n",
    "    'trip_type': [1.0, 1.0, 1.0],\n",
    "    'congestion_surcharge': [2.75, 0.00, 0.00]\n",
    "}\n",
    "\n",
    "for i in data.keys():\n",
    "    print('\"'+i+'\",')"
   ]
  },
  {
   "cell_type": "code",
   "execution_count": 37,
   "metadata": {},
   "outputs": [],
   "source": [
    "df['lpep_pickup_datetime'] = pd.to_datetime(df['lpep_pickup_datetime'], format=r'%Y-%m-%d %H:%M:%S')\n",
    "df['lpep_dropoff_datetime'] = pd.to_datetime(df['lpep_dropoff_datetime'], format=r'%Y-%m-%d %H:%M:%S')\n",
    "\n",
    "duration = (df['lpep_dropoff_datetime'] - df['lpep_pickup_datetime']).dt.total_seconds() / 60\n",
    "df.insert(6,'duration_min',duration.round(2))"
   ]
  },
  {
   "cell_type": "code",
   "execution_count": 38,
   "metadata": {},
   "outputs": [
    {
     "data": {
      "text/html": [
       "<div>\n",
       "<style scoped>\n",
       "    .dataframe tbody tr th:only-of-type {\n",
       "        vertical-align: middle;\n",
       "    }\n",
       "\n",
       "    .dataframe tbody tr th {\n",
       "        vertical-align: top;\n",
       "    }\n",
       "\n",
       "    .dataframe thead th {\n",
       "        text-align: right;\n",
       "    }\n",
       "</style>\n",
       "<table border=\"1\" class=\"dataframe\">\n",
       "  <thead>\n",
       "    <tr style=\"text-align: right;\">\n",
       "      <th></th>\n",
       "      <th>VendorID</th>\n",
       "      <th>lpep_pickup_datetime</th>\n",
       "      <th>lpep_dropoff_datetime</th>\n",
       "      <th>day</th>\n",
       "      <th>store_and_fwd_flag</th>\n",
       "      <th>RatecodeID</th>\n",
       "      <th>duration_min</th>\n",
       "      <th>PULocationID</th>\n",
       "      <th>DOLocationID</th>\n",
       "      <th>passenger_count</th>\n",
       "      <th>...</th>\n",
       "      <th>extra</th>\n",
       "      <th>mta_tax</th>\n",
       "      <th>tip_amount</th>\n",
       "      <th>tolls_amount</th>\n",
       "      <th>ehail_fee</th>\n",
       "      <th>improvement_surcharge</th>\n",
       "      <th>total_amount</th>\n",
       "      <th>payment_type</th>\n",
       "      <th>trip_type</th>\n",
       "      <th>congestion_surcharge</th>\n",
       "    </tr>\n",
       "  </thead>\n",
       "  <tbody>\n",
       "    <tr>\n",
       "      <th>54283</th>\n",
       "      <td>2</td>\n",
       "      <td>2023-01-27 09:01:46</td>\n",
       "      <td>2023-01-27 09:31:00</td>\n",
       "      <td>Friday</td>\n",
       "      <td>N</td>\n",
       "      <td>1.0</td>\n",
       "      <td>29.23</td>\n",
       "      <td>83</td>\n",
       "      <td>24</td>\n",
       "      <td>2.0</td>\n",
       "      <td>...</td>\n",
       "      <td>0.0</td>\n",
       "      <td>0.5</td>\n",
       "      <td>0.00</td>\n",
       "      <td>6.55</td>\n",
       "      <td>NaN</td>\n",
       "      <td>1.0</td>\n",
       "      <td>46.75</td>\n",
       "      <td>2.0</td>\n",
       "      <td>1.0</td>\n",
       "      <td>0.0</td>\n",
       "    </tr>\n",
       "    <tr>\n",
       "      <th>9809</th>\n",
       "      <td>2</td>\n",
       "      <td>2023-01-06 10:20:38</td>\n",
       "      <td>2023-01-06 10:29:35</td>\n",
       "      <td>Friday</td>\n",
       "      <td>N</td>\n",
       "      <td>1.0</td>\n",
       "      <td>8.95</td>\n",
       "      <td>116</td>\n",
       "      <td>136</td>\n",
       "      <td>1.0</td>\n",
       "      <td>...</td>\n",
       "      <td>0.0</td>\n",
       "      <td>0.5</td>\n",
       "      <td>3.42</td>\n",
       "      <td>0.00</td>\n",
       "      <td>NaN</td>\n",
       "      <td>1.0</td>\n",
       "      <td>20.52</td>\n",
       "      <td>1.0</td>\n",
       "      <td>1.0</td>\n",
       "      <td>0.0</td>\n",
       "    </tr>\n",
       "    <tr>\n",
       "      <th>10817</th>\n",
       "      <td>2</td>\n",
       "      <td>2023-01-06 17:33:56</td>\n",
       "      <td>2023-01-06 17:43:48</td>\n",
       "      <td>Friday</td>\n",
       "      <td>N</td>\n",
       "      <td>1.0</td>\n",
       "      <td>9.87</td>\n",
       "      <td>166</td>\n",
       "      <td>166</td>\n",
       "      <td>1.0</td>\n",
       "      <td>...</td>\n",
       "      <td>2.5</td>\n",
       "      <td>0.5</td>\n",
       "      <td>0.00</td>\n",
       "      <td>0.00</td>\n",
       "      <td>NaN</td>\n",
       "      <td>1.0</td>\n",
       "      <td>16.10</td>\n",
       "      <td>2.0</td>\n",
       "      <td>1.0</td>\n",
       "      <td>0.0</td>\n",
       "    </tr>\n",
       "  </tbody>\n",
       "</table>\n",
       "<p>3 rows × 22 columns</p>\n",
       "</div>"
      ],
      "text/plain": [
       "       VendorID lpep_pickup_datetime lpep_dropoff_datetime     day  \\\n",
       "54283         2  2023-01-27 09:01:46   2023-01-27 09:31:00  Friday   \n",
       "9809          2  2023-01-06 10:20:38   2023-01-06 10:29:35  Friday   \n",
       "10817         2  2023-01-06 17:33:56   2023-01-06 17:43:48  Friday   \n",
       "\n",
       "      store_and_fwd_flag  RatecodeID  duration_min  PULocationID  \\\n",
       "54283                  N         1.0         29.23            83   \n",
       "9809                   N         1.0          8.95           116   \n",
       "10817                  N         1.0          9.87           166   \n",
       "\n",
       "       DOLocationID  passenger_count  ...  extra  mta_tax  tip_amount  \\\n",
       "54283            24              2.0  ...    0.0      0.5        0.00   \n",
       "9809            136              1.0  ...    0.0      0.5        3.42   \n",
       "10817           166              1.0  ...    2.5      0.5        0.00   \n",
       "\n",
       "       tolls_amount  ehail_fee  improvement_surcharge  total_amount  \\\n",
       "54283          6.55        NaN                    1.0         46.75   \n",
       "9809           0.00        NaN                    1.0         20.52   \n",
       "10817          0.00        NaN                    1.0         16.10   \n",
       "\n",
       "       payment_type  trip_type  congestion_surcharge  \n",
       "54283           2.0        1.0                   0.0  \n",
       "9809            1.0        1.0                   0.0  \n",
       "10817           2.0        1.0                   0.0  \n",
       "\n",
       "[3 rows x 22 columns]"
      ]
     },
     "execution_count": 38,
     "metadata": {},
     "output_type": "execute_result"
    }
   ],
   "source": [
    "df.sample(3)"
   ]
  },
  {
   "cell_type": "markdown",
   "metadata": {},
   "source": [
    "**Renaming and splitting column :  `PUtime` and `DOtime`**\n",
    "\n",
    "`PUdate` and `PUtime`: Splitting `lpep_pickup_datetime` into new columns for the date and time.\n",
    "\n",
    "`DOdate` and `DOtime`: Splitting `lpep_dropoff_datetime`  into new columns for the date and time."
   ]
  },
  {
   "cell_type": "code",
   "execution_count": 39,
   "metadata": {},
   "outputs": [],
   "source": [
    "# splitting the column into date and name\n",
    "PUdate = pd.to_datetime(df['lpep_pickup_datetime']).dt.date\n",
    "PUtime = pd.to_datetime(df['lpep_pickup_datetime']).dt.time\n",
    "DOdate = pd.to_datetime(df['lpep_dropoff_datetime']).dt.date\n",
    "DOtime = pd.to_datetime(df['lpep_dropoff_datetime']).dt.time\n"
   ]
  },
  {
   "cell_type": "code",
   "execution_count": 40,
   "metadata": {},
   "outputs": [],
   "source": [
    "# inserting new columns\n",
    "df.insert(3,'PUdate',PUdate)\n",
    "df.insert(4,'DOdate',DOdate)\n",
    "df.insert(5,'PUtime',PUtime)\n",
    "df.insert(6,'DOtime',DOtime)\n",
    "\n",
    "df.drop(columns=['lpep_pickup_datetime','lpep_dropoff_datetime'], inplace=True) # dropping the initial column"
   ]
  },
  {
   "cell_type": "markdown",
   "metadata": {},
   "source": [
    "### ***Decoding Data***\n",
    "\n",
    "The data are mostly constructed in ***integers*** data type to make it easier to analyze. For visualization purposes, each data columns that are encoded will be decoded back into their categorical value.\n",
    "***"
   ]
  },
  {
   "cell_type": "markdown",
   "metadata": {},
   "source": [
    "> This process are working only on the encoded datasets, undetected outliers and missing values are to be dealt with later."
   ]
  },
  {
   "cell_type": "markdown",
   "metadata": {},
   "source": [
    "#### `RatecodeID`\n",
    "***\n",
    "\n",
    "The ratecode ID will be decoded based on this mapping:\n",
    "\n",
    "|ID|Ratecode|\n",
    "|-|-|\n",
    "|1|\tStandard rate|\n",
    "|2|\tJFK Airport|\n",
    "|3|\tNewark Airport|\n",
    "|4|\tWestchester Village/Unionport|\n",
    "|5|\tNegotiated fare|\n",
    "|6|\tGroup ride|"
   ]
  },
  {
   "cell_type": "code",
   "execution_count": 41,
   "metadata": {},
   "outputs": [],
   "source": [
    "ratecode_map = {1: 'Standard rate', 2: 'JFK Airport', 3: 'Newark Airport', 4: 'Westchester Village/Unionport', 5: 'Negotiated fare', 6: 'Group ride'}\n",
    "df['RatecodeID'] = df['RatecodeID'].replace(ratecode_map)"
   ]
  },
  {
   "cell_type": "code",
   "execution_count": 42,
   "metadata": {},
   "outputs": [
    {
     "data": {
      "text/plain": [
       "array(['Standard rate', 'Negotiated fare',\n",
       "       'Westchester Village/Unionport', 'Newark Airport', 'JFK Airport',\n",
       "       99.0, nan], dtype=object)"
      ]
     },
     "execution_count": 42,
     "metadata": {},
     "output_type": "execute_result"
    }
   ],
   "source": [
    "df['RatecodeID'].unique()"
   ]
  },
  {
   "cell_type": "markdown",
   "metadata": {},
   "source": [
    "#### `PULocationID` and `DOLocationID`\n",
    "***\n",
    "\n",
    "To decode these columns we are extracting the zones and boroughs data from our `locID` datasets, creating new column that is filled with the respective zones and boroughs.\n",
    "\n",
    "`DOzone` and `PUzone`: \n",
    "\n",
    "Decoding Location IDs, namely `DOLocationID` and `PULocationID` , to identify and categorize the respective zones of each trip.\n",
    "\n",
    "`DOborough` and `PUborough`: \n",
    "\n",
    "Decoding Location IDs, namely `DOLocationID` and `PULocationID` , to identify and categorize the respective boroughs of each trip."
   ]
  },
  {
   "cell_type": "code",
   "execution_count": 43,
   "metadata": {},
   "outputs": [
    {
     "data": {
      "text/html": [
       "<div>\n",
       "<style scoped>\n",
       "    .dataframe tbody tr th:only-of-type {\n",
       "        vertical-align: middle;\n",
       "    }\n",
       "\n",
       "    .dataframe tbody tr th {\n",
       "        vertical-align: top;\n",
       "    }\n",
       "\n",
       "    .dataframe thead th {\n",
       "        text-align: right;\n",
       "    }\n",
       "</style>\n",
       "<table border=\"1\" class=\"dataframe\">\n",
       "  <thead>\n",
       "    <tr style=\"text-align: right;\">\n",
       "      <th></th>\n",
       "      <th>LocationID</th>\n",
       "      <th>zone</th>\n",
       "      <th>borough</th>\n",
       "    </tr>\n",
       "  </thead>\n",
       "  <tbody>\n",
       "    <tr>\n",
       "      <th>0</th>\n",
       "      <td>1</td>\n",
       "      <td>Newark Airport</td>\n",
       "      <td>EWR</td>\n",
       "    </tr>\n",
       "    <tr>\n",
       "      <th>1</th>\n",
       "      <td>2</td>\n",
       "      <td>Jamaica Bay</td>\n",
       "      <td>Queens</td>\n",
       "    </tr>\n",
       "    <tr>\n",
       "      <th>2</th>\n",
       "      <td>3</td>\n",
       "      <td>Allerton/Pelham Gardens</td>\n",
       "      <td>Bronx</td>\n",
       "    </tr>\n",
       "    <tr>\n",
       "      <th>3</th>\n",
       "      <td>4</td>\n",
       "      <td>Alphabet City</td>\n",
       "      <td>Manhattan</td>\n",
       "    </tr>\n",
       "    <tr>\n",
       "      <th>4</th>\n",
       "      <td>5</td>\n",
       "      <td>Arden Heights</td>\n",
       "      <td>Staten Island</td>\n",
       "    </tr>\n",
       "    <tr>\n",
       "      <th>...</th>\n",
       "      <td>...</td>\n",
       "      <td>...</td>\n",
       "      <td>...</td>\n",
       "    </tr>\n",
       "    <tr>\n",
       "      <th>258</th>\n",
       "      <td>256</td>\n",
       "      <td>Williamsburg (South Side)</td>\n",
       "      <td>Brooklyn</td>\n",
       "    </tr>\n",
       "    <tr>\n",
       "      <th>259</th>\n",
       "      <td>259</td>\n",
       "      <td>Woodlawn/Wakefield</td>\n",
       "      <td>Bronx</td>\n",
       "    </tr>\n",
       "    <tr>\n",
       "      <th>260</th>\n",
       "      <td>260</td>\n",
       "      <td>Woodside</td>\n",
       "      <td>Queens</td>\n",
       "    </tr>\n",
       "    <tr>\n",
       "      <th>261</th>\n",
       "      <td>261</td>\n",
       "      <td>World Trade Center</td>\n",
       "      <td>Manhattan</td>\n",
       "    </tr>\n",
       "    <tr>\n",
       "      <th>262</th>\n",
       "      <td>262</td>\n",
       "      <td>Yorkville East</td>\n",
       "      <td>Manhattan</td>\n",
       "    </tr>\n",
       "  </tbody>\n",
       "</table>\n",
       "<p>263 rows × 3 columns</p>\n",
       "</div>"
      ],
      "text/plain": [
       "     LocationID                       zone        borough\n",
       "0             1             Newark Airport            EWR\n",
       "1             2                Jamaica Bay         Queens\n",
       "2             3    Allerton/Pelham Gardens          Bronx\n",
       "3             4              Alphabet City      Manhattan\n",
       "4             5              Arden Heights  Staten Island\n",
       "..          ...                        ...            ...\n",
       "258         256  Williamsburg (South Side)       Brooklyn\n",
       "259         259         Woodlawn/Wakefield          Bronx\n",
       "260         260                   Woodside         Queens\n",
       "261         261         World Trade Center      Manhattan\n",
       "262         262             Yorkville East      Manhattan\n",
       "\n",
       "[263 rows x 3 columns]"
      ]
     },
     "execution_count": 43,
     "metadata": {},
     "output_type": "execute_result"
    }
   ],
   "source": [
    "# dataframe from the supporting datasets\n",
    "locID"
   ]
  },
  {
   "cell_type": "code",
   "execution_count": 44,
   "metadata": {},
   "outputs": [],
   "source": [
    "# merging to extract the pickup zone and borough \n",
    "df = df.merge(locID.set_index('LocationID'), left_on='PULocationID', how='left', right_index=True)\n",
    "df.rename(columns={'zone':'PUzone','borough':'PUborough'},inplace=True)\n",
    "\n",
    "\n",
    "# merging to extract the dropoff zone and borough \n",
    "df = df.merge(locID.set_index('LocationID'), left_on='DOLocationID', how='left', right_index=True)\n",
    "df.rename(columns={'zone':'DOzone','borough':'DOborough'},inplace=True)"
   ]
  },
  {
   "cell_type": "code",
   "execution_count": 45,
   "metadata": {},
   "outputs": [],
   "source": [
    "df = df[['PUdate', 'DOdate', 'PUtime', 'DOtime', 'day', 'RatecodeID', \n",
    "     'PUzone', 'PUborough',\n",
    "    'DOzone', 'DOborough', 'duration_min',\n",
    "    'passenger_count', 'trip_distance', 'fare_amount', 'tip_amount',\n",
    "    'total_amount', 'payment_type', 'trip_type','congestion_surcharge']]"
   ]
  },
  {
   "cell_type": "markdown",
   "metadata": {},
   "source": [
    "> However, there are location IDs that are now NaN values, this is because initially there are datas that has the 264 and 265, which do not correspond to any valid location IDs within the `locID` database."
   ]
  },
  {
   "cell_type": "code",
   "execution_count": 46,
   "metadata": {},
   "outputs": [
    {
     "data": {
      "text/plain": [
       "PUzone       203\n",
       "PUborough    203\n",
       "DOzone       684\n",
       "DOborough    684\n",
       "dtype: int64"
      ]
     },
     "execution_count": 46,
     "metadata": {},
     "output_type": "execute_result"
    }
   ],
   "source": [
    "df[['PUzone','PUborough','DOzone','DOborough']].isna().sum()"
   ]
  },
  {
   "cell_type": "markdown",
   "metadata": {},
   "source": [
    "##### **Payment Type**"
   ]
  },
  {
   "cell_type": "markdown",
   "metadata": {},
   "source": [
    "#### `payment_type`\n",
    "***\n",
    "\n",
    "The payment types will be decoded based on this mapping:\n",
    "\n",
    "|ID|Payment Type|\n",
    "|-|-|\n",
    "|1|\tCredit card|\n",
    "|2|\tCash|\n",
    "|3|\tNo charge|\n",
    "|4|\tDispute|\n",
    "|5|\tUnknown|\n",
    "|6|\tVoided Trip|"
   ]
  },
  {
   "cell_type": "code",
   "execution_count": 47,
   "metadata": {},
   "outputs": [],
   "source": [
    "payment_map = {1: 'Credit card',2: 'Cash',3: 'No charge',4: 'Dispute',5: 'Unknown',6: 'Voided trip'}\n",
    "df['payment_type'] = df['payment_type'].replace(payment_map)"
   ]
  },
  {
   "cell_type": "code",
   "execution_count": 48,
   "metadata": {},
   "outputs": [
    {
     "data": {
      "text/plain": [
       "array(['Credit card', 'Cash', 'No charge', 'Dispute', 'Unknown', nan],\n",
       "      dtype=object)"
      ]
     },
     "execution_count": 48,
     "metadata": {},
     "output_type": "execute_result"
    }
   ],
   "source": [
    "df['payment_type'].unique()"
   ]
  },
  {
   "cell_type": "markdown",
   "metadata": {},
   "source": [
    "#### `trip_type`\n",
    "***\n",
    "\n",
    "The payment types will be decoded based on this mapping:\n",
    "|ID|Trip Type|\n",
    "|-|-|\n",
    "|1|\tStreet hail|\n",
    "|2|\tDispatch|\n"
   ]
  },
  {
   "cell_type": "code",
   "execution_count": 49,
   "metadata": {},
   "outputs": [],
   "source": [
    "df['trip_type'] = df['trip_type'].replace({1: 'street hail', 2: 'dispatch'})"
   ]
  },
  {
   "cell_type": "code",
   "execution_count": 50,
   "metadata": {},
   "outputs": [
    {
     "data": {
      "text/plain": [
       "array(['street hail', 'dispatch', nan], dtype=object)"
      ]
     },
     "execution_count": 50,
     "metadata": {},
     "output_type": "execute_result"
    }
   ],
   "source": [
    "df['trip_type'].unique()"
   ]
  },
  {
   "cell_type": "markdown",
   "metadata": {},
   "source": [
    "##### **Decoded Datasets**\n",
    "\n",
    "***\n"
   ]
  },
  {
   "cell_type": "code",
   "execution_count": 51,
   "metadata": {},
   "outputs": [
    {
     "data": {
      "text/html": [
       "<div>\n",
       "<style scoped>\n",
       "    .dataframe tbody tr th:only-of-type {\n",
       "        vertical-align: middle;\n",
       "    }\n",
       "\n",
       "    .dataframe tbody tr th {\n",
       "        vertical-align: top;\n",
       "    }\n",
       "\n",
       "    .dataframe thead th {\n",
       "        text-align: right;\n",
       "    }\n",
       "</style>\n",
       "<table border=\"1\" class=\"dataframe\">\n",
       "  <thead>\n",
       "    <tr style=\"text-align: right;\">\n",
       "      <th></th>\n",
       "      <th>PUdate</th>\n",
       "      <th>DOdate</th>\n",
       "      <th>PUtime</th>\n",
       "      <th>DOtime</th>\n",
       "      <th>day</th>\n",
       "      <th>RatecodeID</th>\n",
       "      <th>PUzone</th>\n",
       "      <th>PUborough</th>\n",
       "      <th>DOzone</th>\n",
       "      <th>DOborough</th>\n",
       "      <th>duration_min</th>\n",
       "      <th>passenger_count</th>\n",
       "      <th>trip_distance</th>\n",
       "      <th>fare_amount</th>\n",
       "      <th>tip_amount</th>\n",
       "      <th>total_amount</th>\n",
       "      <th>payment_type</th>\n",
       "      <th>trip_type</th>\n",
       "      <th>congestion_surcharge</th>\n",
       "    </tr>\n",
       "  </thead>\n",
       "  <tbody>\n",
       "    <tr>\n",
       "      <th>0</th>\n",
       "      <td>2023-01-01</td>\n",
       "      <td>2023-01-01</td>\n",
       "      <td>00:26:10</td>\n",
       "      <td>00:37:11</td>\n",
       "      <td>Sunday</td>\n",
       "      <td>Standard rate</td>\n",
       "      <td>Morningside Heights</td>\n",
       "      <td>Manhattan</td>\n",
       "      <td>Lincoln Square West</td>\n",
       "      <td>Manhattan</td>\n",
       "      <td>11.02</td>\n",
       "      <td>1.0</td>\n",
       "      <td>2.58</td>\n",
       "      <td>14.90</td>\n",
       "      <td>4.03</td>\n",
       "      <td>24.18</td>\n",
       "      <td>Credit card</td>\n",
       "      <td>street hail</td>\n",
       "      <td>2.75</td>\n",
       "    </tr>\n",
       "    <tr>\n",
       "      <th>1</th>\n",
       "      <td>2023-01-01</td>\n",
       "      <td>2023-01-01</td>\n",
       "      <td>00:51:03</td>\n",
       "      <td>00:57:49</td>\n",
       "      <td>Sunday</td>\n",
       "      <td>Standard rate</td>\n",
       "      <td>Bloomingdale</td>\n",
       "      <td>Manhattan</td>\n",
       "      <td>Central Park</td>\n",
       "      <td>Manhattan</td>\n",
       "      <td>6.77</td>\n",
       "      <td>1.0</td>\n",
       "      <td>1.81</td>\n",
       "      <td>10.70</td>\n",
       "      <td>2.64</td>\n",
       "      <td>15.84</td>\n",
       "      <td>Credit card</td>\n",
       "      <td>street hail</td>\n",
       "      <td>0.00</td>\n",
       "    </tr>\n",
       "    <tr>\n",
       "      <th>2</th>\n",
       "      <td>2023-01-01</td>\n",
       "      <td>2023-01-01</td>\n",
       "      <td>00:35:12</td>\n",
       "      <td>00:41:32</td>\n",
       "      <td>Sunday</td>\n",
       "      <td>Standard rate</td>\n",
       "      <td>Steinway</td>\n",
       "      <td>Queens</td>\n",
       "      <td>Old Astoria</td>\n",
       "      <td>Queens</td>\n",
       "      <td>6.33</td>\n",
       "      <td>1.0</td>\n",
       "      <td>0.00</td>\n",
       "      <td>7.20</td>\n",
       "      <td>1.94</td>\n",
       "      <td>11.64</td>\n",
       "      <td>Credit card</td>\n",
       "      <td>street hail</td>\n",
       "      <td>0.00</td>\n",
       "    </tr>\n",
       "    <tr>\n",
       "      <th>3</th>\n",
       "      <td>2023-01-01</td>\n",
       "      <td>2023-01-01</td>\n",
       "      <td>00:13:14</td>\n",
       "      <td>00:19:03</td>\n",
       "      <td>Sunday</td>\n",
       "      <td>Standard rate</td>\n",
       "      <td>Central Harlem</td>\n",
       "      <td>Manhattan</td>\n",
       "      <td>Upper West Side North</td>\n",
       "      <td>Manhattan</td>\n",
       "      <td>5.82</td>\n",
       "      <td>1.0</td>\n",
       "      <td>1.30</td>\n",
       "      <td>6.50</td>\n",
       "      <td>1.70</td>\n",
       "      <td>10.20</td>\n",
       "      <td>Credit card</td>\n",
       "      <td>street hail</td>\n",
       "      <td>0.00</td>\n",
       "    </tr>\n",
       "    <tr>\n",
       "      <th>4</th>\n",
       "      <td>2023-01-01</td>\n",
       "      <td>2023-01-01</td>\n",
       "      <td>00:33:04</td>\n",
       "      <td>00:39:02</td>\n",
       "      <td>Sunday</td>\n",
       "      <td>Standard rate</td>\n",
       "      <td>Central Harlem</td>\n",
       "      <td>Manhattan</td>\n",
       "      <td>East Harlem North</td>\n",
       "      <td>Manhattan</td>\n",
       "      <td>5.97</td>\n",
       "      <td>1.0</td>\n",
       "      <td>1.10</td>\n",
       "      <td>6.00</td>\n",
       "      <td>0.00</td>\n",
       "      <td>8.00</td>\n",
       "      <td>Credit card</td>\n",
       "      <td>street hail</td>\n",
       "      <td>0.00</td>\n",
       "    </tr>\n",
       "    <tr>\n",
       "      <th>...</th>\n",
       "      <td>...</td>\n",
       "      <td>...</td>\n",
       "      <td>...</td>\n",
       "      <td>...</td>\n",
       "      <td>...</td>\n",
       "      <td>...</td>\n",
       "      <td>...</td>\n",
       "      <td>...</td>\n",
       "      <td>...</td>\n",
       "      <td>...</td>\n",
       "      <td>...</td>\n",
       "      <td>...</td>\n",
       "      <td>...</td>\n",
       "      <td>...</td>\n",
       "      <td>...</td>\n",
       "      <td>...</td>\n",
       "      <td>...</td>\n",
       "      <td>...</td>\n",
       "      <td>...</td>\n",
       "    </tr>\n",
       "    <tr>\n",
       "      <th>68206</th>\n",
       "      <td>2023-01-31</td>\n",
       "      <td>2023-01-31</td>\n",
       "      <td>22:29:00</td>\n",
       "      <td>22:42:00</td>\n",
       "      <td>Tuesday</td>\n",
       "      <td>NaN</td>\n",
       "      <td>Clinton Hill</td>\n",
       "      <td>Brooklyn</td>\n",
       "      <td>Crown Heights South</td>\n",
       "      <td>Brooklyn</td>\n",
       "      <td>13.00</td>\n",
       "      <td>NaN</td>\n",
       "      <td>4070.82</td>\n",
       "      <td>15.70</td>\n",
       "      <td>0.00</td>\n",
       "      <td>16.70</td>\n",
       "      <td>NaN</td>\n",
       "      <td>NaN</td>\n",
       "      <td>NaN</td>\n",
       "    </tr>\n",
       "    <tr>\n",
       "      <th>68207</th>\n",
       "      <td>2023-01-31</td>\n",
       "      <td>2023-01-31</td>\n",
       "      <td>22:40:00</td>\n",
       "      <td>22:48:00</td>\n",
       "      <td>Tuesday</td>\n",
       "      <td>NaN</td>\n",
       "      <td>Baisley Park</td>\n",
       "      <td>Queens</td>\n",
       "      <td>Saint Albans</td>\n",
       "      <td>Queens</td>\n",
       "      <td>8.00</td>\n",
       "      <td>NaN</td>\n",
       "      <td>2.14</td>\n",
       "      <td>4.41</td>\n",
       "      <td>0.00</td>\n",
       "      <td>5.41</td>\n",
       "      <td>NaN</td>\n",
       "      <td>NaN</td>\n",
       "      <td>NaN</td>\n",
       "    </tr>\n",
       "    <tr>\n",
       "      <th>68208</th>\n",
       "      <td>2023-01-31</td>\n",
       "      <td>2023-02-01</td>\n",
       "      <td>23:46:00</td>\n",
       "      <td>00:02:00</td>\n",
       "      <td>Tuesday</td>\n",
       "      <td>NaN</td>\n",
       "      <td>DUMBO/Vinegar Hill</td>\n",
       "      <td>Brooklyn</td>\n",
       "      <td>Bushwick South</td>\n",
       "      <td>Brooklyn</td>\n",
       "      <td>16.00</td>\n",
       "      <td>NaN</td>\n",
       "      <td>3.44</td>\n",
       "      <td>16.53</td>\n",
       "      <td>3.51</td>\n",
       "      <td>21.04</td>\n",
       "      <td>NaN</td>\n",
       "      <td>NaN</td>\n",
       "      <td>NaN</td>\n",
       "    </tr>\n",
       "    <tr>\n",
       "      <th>68209</th>\n",
       "      <td>2023-01-31</td>\n",
       "      <td>2023-01-31</td>\n",
       "      <td>23:01:00</td>\n",
       "      <td>23:19:00</td>\n",
       "      <td>Tuesday</td>\n",
       "      <td>NaN</td>\n",
       "      <td>Stuyvesant Heights</td>\n",
       "      <td>Brooklyn</td>\n",
       "      <td>Prospect Heights</td>\n",
       "      <td>Brooklyn</td>\n",
       "      <td>18.00</td>\n",
       "      <td>NaN</td>\n",
       "      <td>3.03</td>\n",
       "      <td>14.98</td>\n",
       "      <td>3.20</td>\n",
       "      <td>19.18</td>\n",
       "      <td>NaN</td>\n",
       "      <td>NaN</td>\n",
       "      <td>NaN</td>\n",
       "    </tr>\n",
       "    <tr>\n",
       "      <th>68210</th>\n",
       "      <td>2023-01-31</td>\n",
       "      <td>2023-02-01</td>\n",
       "      <td>23:51:00</td>\n",
       "      <td>00:07:00</td>\n",
       "      <td>Tuesday</td>\n",
       "      <td>NaN</td>\n",
       "      <td>Williamsburg (South Side)</td>\n",
       "      <td>Brooklyn</td>\n",
       "      <td>Lenox Hill East</td>\n",
       "      <td>Manhattan</td>\n",
       "      <td>16.00</td>\n",
       "      <td>NaN</td>\n",
       "      <td>5.82</td>\n",
       "      <td>23.65</td>\n",
       "      <td>2.00</td>\n",
       "      <td>29.40</td>\n",
       "      <td>NaN</td>\n",
       "      <td>NaN</td>\n",
       "      <td>NaN</td>\n",
       "    </tr>\n",
       "  </tbody>\n",
       "</table>\n",
       "<p>68658 rows × 19 columns</p>\n",
       "</div>"
      ],
      "text/plain": [
       "           PUdate      DOdate    PUtime    DOtime      day     RatecodeID  \\\n",
       "0      2023-01-01  2023-01-01  00:26:10  00:37:11   Sunday  Standard rate   \n",
       "1      2023-01-01  2023-01-01  00:51:03  00:57:49   Sunday  Standard rate   \n",
       "2      2023-01-01  2023-01-01  00:35:12  00:41:32   Sunday  Standard rate   \n",
       "3      2023-01-01  2023-01-01  00:13:14  00:19:03   Sunday  Standard rate   \n",
       "4      2023-01-01  2023-01-01  00:33:04  00:39:02   Sunday  Standard rate   \n",
       "...           ...         ...       ...       ...      ...            ...   \n",
       "68206  2023-01-31  2023-01-31  22:29:00  22:42:00  Tuesday            NaN   \n",
       "68207  2023-01-31  2023-01-31  22:40:00  22:48:00  Tuesday            NaN   \n",
       "68208  2023-01-31  2023-02-01  23:46:00  00:02:00  Tuesday            NaN   \n",
       "68209  2023-01-31  2023-01-31  23:01:00  23:19:00  Tuesday            NaN   \n",
       "68210  2023-01-31  2023-02-01  23:51:00  00:07:00  Tuesday            NaN   \n",
       "\n",
       "                          PUzone  PUborough                 DOzone  DOborough  \\\n",
       "0            Morningside Heights  Manhattan    Lincoln Square West  Manhattan   \n",
       "1                   Bloomingdale  Manhattan           Central Park  Manhattan   \n",
       "2                       Steinway     Queens            Old Astoria     Queens   \n",
       "3                 Central Harlem  Manhattan  Upper West Side North  Manhattan   \n",
       "4                 Central Harlem  Manhattan      East Harlem North  Manhattan   \n",
       "...                          ...        ...                    ...        ...   \n",
       "68206               Clinton Hill   Brooklyn    Crown Heights South   Brooklyn   \n",
       "68207               Baisley Park     Queens           Saint Albans     Queens   \n",
       "68208         DUMBO/Vinegar Hill   Brooklyn         Bushwick South   Brooklyn   \n",
       "68209         Stuyvesant Heights   Brooklyn       Prospect Heights   Brooklyn   \n",
       "68210  Williamsburg (South Side)   Brooklyn        Lenox Hill East  Manhattan   \n",
       "\n",
       "       duration_min  passenger_count  trip_distance  fare_amount  tip_amount  \\\n",
       "0             11.02              1.0           2.58        14.90        4.03   \n",
       "1              6.77              1.0           1.81        10.70        2.64   \n",
       "2              6.33              1.0           0.00         7.20        1.94   \n",
       "3              5.82              1.0           1.30         6.50        1.70   \n",
       "4              5.97              1.0           1.10         6.00        0.00   \n",
       "...             ...              ...            ...          ...         ...   \n",
       "68206         13.00              NaN        4070.82        15.70        0.00   \n",
       "68207          8.00              NaN           2.14         4.41        0.00   \n",
       "68208         16.00              NaN           3.44        16.53        3.51   \n",
       "68209         18.00              NaN           3.03        14.98        3.20   \n",
       "68210         16.00              NaN           5.82        23.65        2.00   \n",
       "\n",
       "       total_amount payment_type    trip_type  congestion_surcharge  \n",
       "0             24.18  Credit card  street hail                  2.75  \n",
       "1             15.84  Credit card  street hail                  0.00  \n",
       "2             11.64  Credit card  street hail                  0.00  \n",
       "3             10.20  Credit card  street hail                  0.00  \n",
       "4              8.00  Credit card  street hail                  0.00  \n",
       "...             ...          ...          ...                   ...  \n",
       "68206         16.70          NaN          NaN                   NaN  \n",
       "68207          5.41          NaN          NaN                   NaN  \n",
       "68208         21.04          NaN          NaN                   NaN  \n",
       "68209         19.18          NaN          NaN                   NaN  \n",
       "68210         29.40          NaN          NaN                   NaN  \n",
       "\n",
       "[68658 rows x 19 columns]"
      ]
     },
     "execution_count": 51,
     "metadata": {},
     "output_type": "execute_result"
    }
   ],
   "source": [
    "df"
   ]
  },
  {
   "cell_type": "markdown",
   "metadata": {},
   "source": [
    "## ***Data Cleaning***"
   ]
  },
  {
   "cell_type": "markdown",
   "metadata": {},
   "source": [
    "### ***Column Index****"
   ]
  },
  {
   "cell_type": "code",
   "execution_count": 52,
   "metadata": {},
   "outputs": [
    {
     "data": {
      "text/html": [
       "<div>\n",
       "<style scoped>\n",
       "    .dataframe tbody tr th:only-of-type {\n",
       "        vertical-align: middle;\n",
       "    }\n",
       "\n",
       "    .dataframe tbody tr th {\n",
       "        vertical-align: top;\n",
       "    }\n",
       "\n",
       "    .dataframe thead th {\n",
       "        text-align: right;\n",
       "    }\n",
       "</style>\n",
       "<table border=\"1\" class=\"dataframe\">\n",
       "  <thead>\n",
       "    <tr style=\"text-align: right;\">\n",
       "      <th></th>\n",
       "      <th>Column Name</th>\n",
       "      <th>Number of Unique</th>\n",
       "      <th>isna</th>\n",
       "      <th>dtype</th>\n",
       "      <th>Unique Sample</th>\n",
       "    </tr>\n",
       "  </thead>\n",
       "  <tbody>\n",
       "    <tr>\n",
       "      <th>0</th>\n",
       "      <td>PUdate</td>\n",
       "      <td>34</td>\n",
       "      <td>False</td>\n",
       "      <td>object</td>\n",
       "      <td>[2023-01-01, 2022-12-09, 2023-01-02, 2023-01-0...</td>\n",
       "    </tr>\n",
       "    <tr>\n",
       "      <th>1</th>\n",
       "      <td>DOdate</td>\n",
       "      <td>34</td>\n",
       "      <td>False</td>\n",
       "      <td>object</td>\n",
       "      <td>[2023-01-01, 2023-01-02, 2022-12-09, 2023-01-0...</td>\n",
       "    </tr>\n",
       "    <tr>\n",
       "      <th>2</th>\n",
       "      <td>PUtime</td>\n",
       "      <td>41521</td>\n",
       "      <td>False</td>\n",
       "      <td>object</td>\n",
       "      <td>[00:26:10, 00:51:03, 00:35:12, 00:13:14, 00:33...</td>\n",
       "    </tr>\n",
       "    <tr>\n",
       "      <th>3</th>\n",
       "      <td>DOtime</td>\n",
       "      <td>41484</td>\n",
       "      <td>False</td>\n",
       "      <td>object</td>\n",
       "      <td>[00:37:11, 00:57:49, 00:41:32, 00:19:03, 00:39...</td>\n",
       "    </tr>\n",
       "    <tr>\n",
       "      <th>4</th>\n",
       "      <td>day</td>\n",
       "      <td>7</td>\n",
       "      <td>False</td>\n",
       "      <td>object</td>\n",
       "      <td>[Sunday, Friday, Monday, Tuesday, Wednesday, T...</td>\n",
       "    </tr>\n",
       "    <tr>\n",
       "      <th>5</th>\n",
       "      <td>RatecodeID</td>\n",
       "      <td>6</td>\n",
       "      <td>True</td>\n",
       "      <td>object</td>\n",
       "      <td>[Standard rate, Negotiated fare, Westchester V...</td>\n",
       "    </tr>\n",
       "    <tr>\n",
       "      <th>6</th>\n",
       "      <td>PUzone</td>\n",
       "      <td>223</td>\n",
       "      <td>True</td>\n",
       "      <td>object</td>\n",
       "      <td>[Morningside Heights, Bloomingdale, Steinway, ...</td>\n",
       "    </tr>\n",
       "    <tr>\n",
       "      <th>7</th>\n",
       "      <td>PUborough</td>\n",
       "      <td>6</td>\n",
       "      <td>True</td>\n",
       "      <td>object</td>\n",
       "      <td>[Manhattan, Queens, Brooklyn, Bronx, nan, Stat...</td>\n",
       "    </tr>\n",
       "    <tr>\n",
       "      <th>8</th>\n",
       "      <td>DOzone</td>\n",
       "      <td>246</td>\n",
       "      <td>True</td>\n",
       "      <td>object</td>\n",
       "      <td>[Lincoln Square West, Central Park, Old Astori...</td>\n",
       "    </tr>\n",
       "    <tr>\n",
       "      <th>9</th>\n",
       "      <td>DOborough</td>\n",
       "      <td>6</td>\n",
       "      <td>True</td>\n",
       "      <td>object</td>\n",
       "      <td>[Manhattan, Queens, Brooklyn, nan, Bronx, Stat...</td>\n",
       "    </tr>\n",
       "    <tr>\n",
       "      <th>10</th>\n",
       "      <td>duration_min</td>\n",
       "      <td>3663</td>\n",
       "      <td>False</td>\n",
       "      <td>float64</td>\n",
       "      <td>[11.02, 6.77, 6.33, 5.82, 5.97, 17.55, 17.42, ...</td>\n",
       "    </tr>\n",
       "    <tr>\n",
       "      <th>11</th>\n",
       "      <td>passenger_count</td>\n",
       "      <td>10</td>\n",
       "      <td>True</td>\n",
       "      <td>float64</td>\n",
       "      <td>[1.0, 2.0, 4.0, 3.0, 6.0, 5.0, 0.0, 7.0, 9.0, ...</td>\n",
       "    </tr>\n",
       "    <tr>\n",
       "      <th>12</th>\n",
       "      <td>trip_distance</td>\n",
       "      <td>1870</td>\n",
       "      <td>False</td>\n",
       "      <td>float64</td>\n",
       "      <td>[2.58, 1.81, 0.0, 1.3, 1.1, 2.78, 3.8, 1.88, 1...</td>\n",
       "    </tr>\n",
       "    <tr>\n",
       "      <th>13</th>\n",
       "      <td>fare_amount</td>\n",
       "      <td>2553</td>\n",
       "      <td>False</td>\n",
       "      <td>float64</td>\n",
       "      <td>[14.9, 10.7, 7.2, 6.5, 6.0, 17.7, 19.1, 14.2, ...</td>\n",
       "    </tr>\n",
       "    <tr>\n",
       "      <th>14</th>\n",
       "      <td>tip_amount</td>\n",
       "      <td>1492</td>\n",
       "      <td>False</td>\n",
       "      <td>float64</td>\n",
       "      <td>[4.03, 2.64, 1.94, 1.7, 0.0, 4.85, 1.0, 3.0, 3...</td>\n",
       "    </tr>\n",
       "    <tr>\n",
       "      <th>15</th>\n",
       "      <td>total_amount</td>\n",
       "      <td>4670</td>\n",
       "      <td>False</td>\n",
       "      <td>float64</td>\n",
       "      <td>[24.18, 15.84, 11.64, 10.2, 8.0, 22.95, 29.2, ...</td>\n",
       "    </tr>\n",
       "    <tr>\n",
       "      <th>16</th>\n",
       "      <td>payment_type</td>\n",
       "      <td>5</td>\n",
       "      <td>True</td>\n",
       "      <td>object</td>\n",
       "      <td>[Credit card, Cash, No charge, Dispute, Unknow...</td>\n",
       "    </tr>\n",
       "    <tr>\n",
       "      <th>17</th>\n",
       "      <td>trip_type</td>\n",
       "      <td>2</td>\n",
       "      <td>True</td>\n",
       "      <td>object</td>\n",
       "      <td>[street hail, dispatch, nan]</td>\n",
       "    </tr>\n",
       "    <tr>\n",
       "      <th>18</th>\n",
       "      <td>congestion_surcharge</td>\n",
       "      <td>4</td>\n",
       "      <td>True</td>\n",
       "      <td>float64</td>\n",
       "      <td>[2.75, 0.0, 2.5, -2.75, nan]</td>\n",
       "    </tr>\n",
       "  </tbody>\n",
       "</table>\n",
       "</div>"
      ],
      "text/plain": [
       "             Column Name  Number of Unique   isna    dtype  \\\n",
       "0                 PUdate                34  False   object   \n",
       "1                 DOdate                34  False   object   \n",
       "2                 PUtime             41521  False   object   \n",
       "3                 DOtime             41484  False   object   \n",
       "4                    day                 7  False   object   \n",
       "5             RatecodeID                 6   True   object   \n",
       "6                 PUzone               223   True   object   \n",
       "7              PUborough                 6   True   object   \n",
       "8                 DOzone               246   True   object   \n",
       "9              DOborough                 6   True   object   \n",
       "10          duration_min              3663  False  float64   \n",
       "11       passenger_count                10   True  float64   \n",
       "12         trip_distance              1870  False  float64   \n",
       "13           fare_amount              2553  False  float64   \n",
       "14            tip_amount              1492  False  float64   \n",
       "15          total_amount              4670  False  float64   \n",
       "16          payment_type                 5   True   object   \n",
       "17             trip_type                 2   True   object   \n",
       "18  congestion_surcharge                 4   True  float64   \n",
       "\n",
       "                                        Unique Sample  \n",
       "0   [2023-01-01, 2022-12-09, 2023-01-02, 2023-01-0...  \n",
       "1   [2023-01-01, 2023-01-02, 2022-12-09, 2023-01-0...  \n",
       "2   [00:26:10, 00:51:03, 00:35:12, 00:13:14, 00:33...  \n",
       "3   [00:37:11, 00:57:49, 00:41:32, 00:19:03, 00:39...  \n",
       "4   [Sunday, Friday, Monday, Tuesday, Wednesday, T...  \n",
       "5   [Standard rate, Negotiated fare, Westchester V...  \n",
       "6   [Morningside Heights, Bloomingdale, Steinway, ...  \n",
       "7   [Manhattan, Queens, Brooklyn, Bronx, nan, Stat...  \n",
       "8   [Lincoln Square West, Central Park, Old Astori...  \n",
       "9   [Manhattan, Queens, Brooklyn, nan, Bronx, Stat...  \n",
       "10  [11.02, 6.77, 6.33, 5.82, 5.97, 17.55, 17.42, ...  \n",
       "11  [1.0, 2.0, 4.0, 3.0, 6.0, 5.0, 0.0, 7.0, 9.0, ...  \n",
       "12  [2.58, 1.81, 0.0, 1.3, 1.1, 2.78, 3.8, 1.88, 1...  \n",
       "13  [14.9, 10.7, 7.2, 6.5, 6.0, 17.7, 19.1, 14.2, ...  \n",
       "14  [4.03, 2.64, 1.94, 1.7, 0.0, 4.85, 1.0, 3.0, 3...  \n",
       "15  [24.18, 15.84, 11.64, 10.2, 8.0, 22.95, 29.2, ...  \n",
       "16  [Credit card, Cash, No charge, Dispute, Unknow...  \n",
       "17                       [street hail, dispatch, nan]  \n",
       "18                       [2.75, 0.0, 2.5, -2.75, nan]  "
      ]
     },
     "execution_count": 52,
     "metadata": {},
     "output_type": "execute_result"
    }
   ],
   "source": [
    "columnindex(df)"
   ]
  },
  {
   "cell_type": "code",
   "execution_count": 53,
   "metadata": {},
   "outputs": [
    {
     "data": {
      "text/html": [
       "<div>\n",
       "<style scoped>\n",
       "    .dataframe tbody tr th:only-of-type {\n",
       "        vertical-align: middle;\n",
       "    }\n",
       "\n",
       "    .dataframe tbody tr th {\n",
       "        vertical-align: top;\n",
       "    }\n",
       "\n",
       "    .dataframe thead th {\n",
       "        text-align: right;\n",
       "    }\n",
       "</style>\n",
       "<table border=\"1\" class=\"dataframe\">\n",
       "  <thead>\n",
       "    <tr style=\"text-align: right;\">\n",
       "      <th></th>\n",
       "      <th>duration_min</th>\n",
       "      <th>passenger_count</th>\n",
       "      <th>trip_distance</th>\n",
       "      <th>fare_amount</th>\n",
       "      <th>tip_amount</th>\n",
       "      <th>total_amount</th>\n",
       "      <th>congestion_surcharge</th>\n",
       "    </tr>\n",
       "  </thead>\n",
       "  <tbody>\n",
       "    <tr>\n",
       "      <th>count</th>\n",
       "      <td>68658.000000</td>\n",
       "      <td>64322.000000</td>\n",
       "      <td>68658.000000</td>\n",
       "      <td>68658.000000</td>\n",
       "      <td>68658.000000</td>\n",
       "      <td>68658.000000</td>\n",
       "      <td>64322.000000</td>\n",
       "    </tr>\n",
       "    <tr>\n",
       "      <th>mean</th>\n",
       "      <td>18.084133</td>\n",
       "      <td>1.315444</td>\n",
       "      <td>8.076382</td>\n",
       "      <td>16.595820</td>\n",
       "      <td>2.129921</td>\n",
       "      <td>21.768156</td>\n",
       "      <td>0.721957</td>\n",
       "    </tr>\n",
       "    <tr>\n",
       "      <th>std</th>\n",
       "      <td>74.828558</td>\n",
       "      <td>0.977949</td>\n",
       "      <td>583.198360</td>\n",
       "      <td>13.446101</td>\n",
       "      <td>3.048400</td>\n",
       "      <td>15.428186</td>\n",
       "      <td>1.210258</td>\n",
       "    </tr>\n",
       "    <tr>\n",
       "      <th>min</th>\n",
       "      <td>0.000000</td>\n",
       "      <td>0.000000</td>\n",
       "      <td>0.000000</td>\n",
       "      <td>-70.000000</td>\n",
       "      <td>-10.500000</td>\n",
       "      <td>-71.500000</td>\n",
       "      <td>-2.750000</td>\n",
       "    </tr>\n",
       "    <tr>\n",
       "      <th>25%</th>\n",
       "      <td>7.220000</td>\n",
       "      <td>1.000000</td>\n",
       "      <td>1.110000</td>\n",
       "      <td>9.300000</td>\n",
       "      <td>0.000000</td>\n",
       "      <td>12.900000</td>\n",
       "      <td>0.000000</td>\n",
       "    </tr>\n",
       "    <tr>\n",
       "      <th>50%</th>\n",
       "      <td>11.400000</td>\n",
       "      <td>1.000000</td>\n",
       "      <td>1.850000</td>\n",
       "      <td>13.500000</td>\n",
       "      <td>1.520000</td>\n",
       "      <td>17.880000</td>\n",
       "      <td>0.000000</td>\n",
       "    </tr>\n",
       "    <tr>\n",
       "      <th>75%</th>\n",
       "      <td>17.470000</td>\n",
       "      <td>1.000000</td>\n",
       "      <td>3.200000</td>\n",
       "      <td>19.800000</td>\n",
       "      <td>3.300000</td>\n",
       "      <td>26.150000</td>\n",
       "      <td>2.750000</td>\n",
       "    </tr>\n",
       "    <tr>\n",
       "      <th>max</th>\n",
       "      <td>1439.880000</td>\n",
       "      <td>9.000000</td>\n",
       "      <td>120098.840000</td>\n",
       "      <td>490.000000</td>\n",
       "      <td>222.220000</td>\n",
       "      <td>491.000000</td>\n",
       "      <td>2.750000</td>\n",
       "    </tr>\n",
       "  </tbody>\n",
       "</table>\n",
       "</div>"
      ],
      "text/plain": [
       "       duration_min  passenger_count  trip_distance   fare_amount  \\\n",
       "count  68658.000000     64322.000000   68658.000000  68658.000000   \n",
       "mean      18.084133         1.315444       8.076382     16.595820   \n",
       "std       74.828558         0.977949     583.198360     13.446101   \n",
       "min        0.000000         0.000000       0.000000    -70.000000   \n",
       "25%        7.220000         1.000000       1.110000      9.300000   \n",
       "50%       11.400000         1.000000       1.850000     13.500000   \n",
       "75%       17.470000         1.000000       3.200000     19.800000   \n",
       "max     1439.880000         9.000000  120098.840000    490.000000   \n",
       "\n",
       "         tip_amount  total_amount  congestion_surcharge  \n",
       "count  68658.000000  68658.000000          64322.000000  \n",
       "mean       2.129921     21.768156              0.721957  \n",
       "std        3.048400     15.428186              1.210258  \n",
       "min      -10.500000    -71.500000             -2.750000  \n",
       "25%        0.000000     12.900000              0.000000  \n",
       "50%        1.520000     17.880000              0.000000  \n",
       "75%        3.300000     26.150000              2.750000  \n",
       "max      222.220000    491.000000              2.750000  "
      ]
     },
     "execution_count": 53,
     "metadata": {},
     "output_type": "execute_result"
    }
   ],
   "source": [
    "df.describe(include='float')"
   ]
  },
  {
   "cell_type": "markdown",
   "metadata": {},
   "source": [
    "### ***Missing Value and Outliers***\n",
    "***"
   ]
  },
  {
   "cell_type": "code",
   "execution_count": 54,
   "metadata": {},
   "outputs": [
    {
     "data": {
      "text/html": [
       "<div>\n",
       "<style scoped>\n",
       "    .dataframe tbody tr th:only-of-type {\n",
       "        vertical-align: middle;\n",
       "    }\n",
       "\n",
       "    .dataframe tbody tr th {\n",
       "        vertical-align: top;\n",
       "    }\n",
       "\n",
       "    .dataframe thead th {\n",
       "        text-align: right;\n",
       "    }\n",
       "</style>\n",
       "<table border=\"1\" class=\"dataframe\">\n",
       "  <thead>\n",
       "    <tr style=\"text-align: right;\">\n",
       "      <th></th>\n",
       "      <th>PUdate</th>\n",
       "      <th>DOdate</th>\n",
       "      <th>PUtime</th>\n",
       "      <th>DOtime</th>\n",
       "      <th>day</th>\n",
       "      <th>RatecodeID</th>\n",
       "      <th>PUzone</th>\n",
       "      <th>PUborough</th>\n",
       "      <th>DOzone</th>\n",
       "      <th>DOborough</th>\n",
       "      <th>duration_min</th>\n",
       "      <th>passenger_count</th>\n",
       "      <th>trip_distance</th>\n",
       "      <th>fare_amount</th>\n",
       "      <th>tip_amount</th>\n",
       "      <th>total_amount</th>\n",
       "      <th>payment_type</th>\n",
       "      <th>trip_type</th>\n",
       "      <th>congestion_surcharge</th>\n",
       "    </tr>\n",
       "  </thead>\n",
       "  <tbody>\n",
       "    <tr>\n",
       "      <th>67825</th>\n",
       "      <td>2023-01-28</td>\n",
       "      <td>2023-01-28</td>\n",
       "      <td>22:15:00</td>\n",
       "      <td>22:31:00</td>\n",
       "      <td>Saturday</td>\n",
       "      <td>NaN</td>\n",
       "      <td>Steinway</td>\n",
       "      <td>Queens</td>\n",
       "      <td>Washington Heights South</td>\n",
       "      <td>Manhattan</td>\n",
       "      <td>16.00</td>\n",
       "      <td>NaN</td>\n",
       "      <td>7.36</td>\n",
       "      <td>26.45</td>\n",
       "      <td>6.80</td>\n",
       "      <td>40.80</td>\n",
       "      <td>NaN</td>\n",
       "      <td>NaN</td>\n",
       "      <td>NaN</td>\n",
       "    </tr>\n",
       "    <tr>\n",
       "      <th>28677</th>\n",
       "      <td>2023-01-15</td>\n",
       "      <td>2023-01-15</td>\n",
       "      <td>05:08:20</td>\n",
       "      <td>05:08:22</td>\n",
       "      <td>Sunday</td>\n",
       "      <td>Negotiated fare</td>\n",
       "      <td>East Williamsburg</td>\n",
       "      <td>Brooklyn</td>\n",
       "      <td>NaN</td>\n",
       "      <td>NaN</td>\n",
       "      <td>0.03</td>\n",
       "      <td>3.0</td>\n",
       "      <td>0.25</td>\n",
       "      <td>45.00</td>\n",
       "      <td>11.50</td>\n",
       "      <td>57.50</td>\n",
       "      <td>Credit card</td>\n",
       "      <td>dispatch</td>\n",
       "      <td>0.0</td>\n",
       "    </tr>\n",
       "    <tr>\n",
       "      <th>65586</th>\n",
       "      <td>2023-01-13</td>\n",
       "      <td>2023-01-13</td>\n",
       "      <td>14:31:00</td>\n",
       "      <td>14:53:00</td>\n",
       "      <td>Friday</td>\n",
       "      <td>NaN</td>\n",
       "      <td>Washington Heights South</td>\n",
       "      <td>Manhattan</td>\n",
       "      <td>Fordham South</td>\n",
       "      <td>Bronx</td>\n",
       "      <td>22.00</td>\n",
       "      <td>NaN</td>\n",
       "      <td>3.20</td>\n",
       "      <td>19.36</td>\n",
       "      <td>0.35</td>\n",
       "      <td>20.71</td>\n",
       "      <td>NaN</td>\n",
       "      <td>NaN</td>\n",
       "      <td>NaN</td>\n",
       "    </tr>\n",
       "    <tr>\n",
       "      <th>65676</th>\n",
       "      <td>2023-01-14</td>\n",
       "      <td>2023-01-14</td>\n",
       "      <td>00:21:00</td>\n",
       "      <td>00:39:00</td>\n",
       "      <td>Saturday</td>\n",
       "      <td>NaN</td>\n",
       "      <td>Washington Heights South</td>\n",
       "      <td>Manhattan</td>\n",
       "      <td>Clinton East</td>\n",
       "      <td>Manhattan</td>\n",
       "      <td>18.00</td>\n",
       "      <td>NaN</td>\n",
       "      <td>6.58</td>\n",
       "      <td>29.55</td>\n",
       "      <td>5.00</td>\n",
       "      <td>38.30</td>\n",
       "      <td>NaN</td>\n",
       "      <td>NaN</td>\n",
       "      <td>NaN</td>\n",
       "    </tr>\n",
       "  </tbody>\n",
       "</table>\n",
       "</div>"
      ],
      "text/plain": [
       "           PUdate      DOdate    PUtime    DOtime       day       RatecodeID  \\\n",
       "67825  2023-01-28  2023-01-28  22:15:00  22:31:00  Saturday              NaN   \n",
       "28677  2023-01-15  2023-01-15  05:08:20  05:08:22    Sunday  Negotiated fare   \n",
       "65586  2023-01-13  2023-01-13  14:31:00  14:53:00    Friday              NaN   \n",
       "65676  2023-01-14  2023-01-14  00:21:00  00:39:00  Saturday              NaN   \n",
       "\n",
       "                         PUzone  PUborough                    DOzone  \\\n",
       "67825                  Steinway     Queens  Washington Heights South   \n",
       "28677         East Williamsburg   Brooklyn                       NaN   \n",
       "65586  Washington Heights South  Manhattan             Fordham South   \n",
       "65676  Washington Heights South  Manhattan              Clinton East   \n",
       "\n",
       "       DOborough  duration_min  passenger_count  trip_distance  fare_amount  \\\n",
       "67825  Manhattan         16.00              NaN           7.36        26.45   \n",
       "28677        NaN          0.03              3.0           0.25        45.00   \n",
       "65586      Bronx         22.00              NaN           3.20        19.36   \n",
       "65676  Manhattan         18.00              NaN           6.58        29.55   \n",
       "\n",
       "       tip_amount  total_amount payment_type trip_type  congestion_surcharge  \n",
       "67825        6.80         40.80          NaN       NaN                   NaN  \n",
       "28677       11.50         57.50  Credit card  dispatch                   0.0  \n",
       "65586        0.35         20.71          NaN       NaN                   NaN  \n",
       "65676        5.00         38.30          NaN       NaN                   NaN  "
      ]
     },
     "execution_count": 54,
     "metadata": {},
     "output_type": "execute_result"
    }
   ],
   "source": [
    "df[df.isna().any(axis=1)].sample(4)"
   ]
  },
  {
   "cell_type": "markdown",
   "metadata": {},
   "source": [
    "***Insights***\n",
    "> Other than `trip_type`, all columns that are missing datas are missing them in the same amount.\n",
    "And using sampling it is concluded that most of the columns with missing data are located within the same rows."
   ]
  },
  {
   "cell_type": "markdown",
   "metadata": {},
   "source": [
    "- `PUdate` and `DOdate` : Filter the data that is not in the analysis timeframe (2023-01-1 until 2023-01-31)\n",
    "- `PUzone` and `DOzone` : Dealing with outliers\n",
    "\n",
    "- `duration_min` : Deaeling with outliers \n",
    "- `RatecodeID`: Dealing with NaN values and wrong input [99.0]\n",
    "- `passenger_count`: Handling the NaN values and passengers that are off the NYC passenger limit (min=1, max-4)   [Ref](https://www.takewalks.com/blog/nyc-taxis)\n",
    "- `trip_distance` : Dealing with outliers and Nan values. Assuming that the upper bound is 50 (Furthest drive in NYC)  [Ref](https://intip.in/NYCfurthest)\n",
    "- `fare_amount` :  Dealing with outliers and NaN values. There are some numbers that doesn't make sense (negative and overly paid). - Negative can mean out of pocket (so just make it +)\n",
    "- `tip_amount` : Dealing with outliers and NaN values.\n",
    "- `total_amount`: Dealing with outliers and NaN values.\n",
    "- `payment_type` and `trip_type`: Dealing with NaN values."
   ]
  },
  {
   "cell_type": "markdown",
   "metadata": {},
   "source": [
    "#### `PUdate` and `DOdate`\n",
    "***\n",
    "Dropping and excluding data which the `PUdate` falls outside the specified analysis timeframe, which spans from January 1, 2023, to January 31, 2023.\n"
   ]
  },
  {
   "cell_type": "code",
   "execution_count": 55,
   "metadata": {},
   "outputs": [],
   "source": [
    "df['PUdate'] = pd.to_datetime(df['PUdate'])\n",
    "df['DOdate'] = pd.to_datetime(df['DOdate'])\n",
    "\n",
    "start_date = pd.Timestamp('2023-01-01')\n",
    "end_date = pd.Timestamp('2023-01-31')"
   ]
  },
  {
   "cell_type": "code",
   "execution_count": 56,
   "metadata": {},
   "outputs": [
    {
     "name": "stdout",
     "output_type": "stream",
     "text": [
      "\n",
      "      Initial data: 68658\n",
      "      Processed data: 68653\n",
      "      Data dropped: 5\n"
     ]
    }
   ],
   "source": [
    "initial = df.copy()\n",
    "\n",
    "# filtering the date\n",
    "df = df[(df['PUdate'] >= start_date) & (df['PUdate'] <= end_date)]\n",
    "\n",
    "print(f'''\n",
    "      Initial data: {len(initial)}\n",
    "      Processed data: {len(df)}\n",
    "      Data dropped: {len(initial)-len(df)}''')"
   ]
  },
  {
   "cell_type": "markdown",
   "metadata": {},
   "source": [
    "#### `duration_min`\n",
    "***\n",
    "- The duration are limited to 60 minutes, since it is the time of NYC's in-city furthest drive.\n"
   ]
  },
  {
   "cell_type": "code",
   "execution_count": 57,
   "metadata": {},
   "outputs": [
    {
     "data": {
      "text/plain": [
       "0.0"
      ]
     },
     "execution_count": 57,
     "metadata": {},
     "output_type": "execute_result"
    }
   ],
   "source": [
    "df['duration_min'].min()"
   ]
  },
  {
   "cell_type": "code",
   "execution_count": 58,
   "metadata": {},
   "outputs": [
    {
     "data": {
      "text/plain": [
       "<Axes: >"
      ]
     },
     "execution_count": 58,
     "metadata": {},
     "output_type": "execute_result"
    },
    {
     "data": {
      "image/png": "[encoded data removed]",
      "text/plain": [
       "<Figure size 1000x200 with 1 Axes>"
      ]
     },
     "metadata": {},
     "output_type": "display_data"
    }
   ],
   "source": [
    "plt.figure(figsize=(10,2))\n",
    "sns.boxplot(df['duration_min'], orient='h')"
   ]
  },
  {
   "cell_type": "code",
   "execution_count": 59,
   "metadata": {},
   "outputs": [
    {
     "name": "stdout",
     "output_type": "stream",
     "text": [
      "\n",
      "      Initial data: 68653\n",
      "      Processed data: 68024\n",
      "      Data dropped: 629\n"
     ]
    }
   ],
   "source": [
    "initial = df.copy()\n",
    "df = df[(df['duration_min']<60)]\n",
    "\n",
    "print(f'''\n",
    "      Initial data: {len(initial)}\n",
    "      Processed data: {len(df)}\n",
    "      Data dropped: {len(initial)-len(df)}''')"
   ]
  },
  {
   "cell_type": "code",
   "execution_count": 60,
   "metadata": {},
   "outputs": [
    {
     "data": {
      "text/plain": [
       "<Axes: >"
      ]
     },
     "execution_count": 60,
     "metadata": {},
     "output_type": "execute_result"
    },
    {
     "data": {
      "image/png": "[encoded data removed]",
      "text/plain": [
       "<Figure size 1000x200 with 1 Axes>"
      ]
     },
     "metadata": {},
     "output_type": "display_data"
    }
   ],
   "source": [
    "plt.figure(figsize=(10,2))\n",
    "sns.boxplot(df['duration_min'], orient='h')"
   ]
  },
  {
   "cell_type": "markdown",
   "metadata": {},
   "source": [
    "#### `PUzone` and `DOzone`\n",
    "***\n",
    "The filtered data pickup and dropoff location produce some NaN values because of the undetected location IDs. <br> These data will be dropped assuming that the location ID is not on NYC's taxi zone."
   ]
  },
  {
   "cell_type": "code",
   "execution_count": 61,
   "metadata": {},
   "outputs": [
    {
     "data": {
      "text/plain": [
       "PUzone       194\n",
       "PUborough    194\n",
       "DOzone       652\n",
       "DOborough    652\n",
       "dtype: int64"
      ]
     },
     "execution_count": 61,
     "metadata": {},
     "output_type": "execute_result"
    }
   ],
   "source": [
    "df[['PUzone','PUborough','DOzone','DOborough']].isna().sum()"
   ]
  },
  {
   "cell_type": "code",
   "execution_count": 62,
   "metadata": {},
   "outputs": [
    {
     "name": "stdout",
     "output_type": "stream",
     "text": [
      "\n",
      "      Initial data: 68024\n",
      "      Processed data: 67334\n",
      "      Data dropped: 690\n"
     ]
    }
   ],
   "source": [
    "initial = df.copy()\n",
    "\n",
    "# dropping the NaNs\n",
    "df.dropna(subset=['PUzone','DOzone'], inplace=True)\n",
    "\n",
    "print(f'''\n",
    "      Initial data: {len(initial)}\n",
    "      Processed data: {len(df)}\n",
    "      Data dropped: {len(initial)-len(df)}''')"
   ]
  },
  {
   "cell_type": "code",
   "execution_count": 63,
   "metadata": {},
   "outputs": [
    {
     "data": {
      "text/plain": [
       "PUzone       0\n",
       "PUborough    0\n",
       "DOzone       0\n",
       "DOborough    0\n",
       "dtype: int64"
      ]
     },
     "execution_count": 63,
     "metadata": {},
     "output_type": "execute_result"
    }
   ],
   "source": [
    "df[['PUzone','PUborough','DOzone','DOborough']].isna().sum()"
   ]
  },
  {
   "cell_type": "markdown",
   "metadata": {},
   "source": [
    "### `RatecodeID`\n",
    "***\n",
    "- If the Ratecode data are 99.0 then it will be assigned as NaN\n",
    "- If the Drop-off Zone are one of **JFK, Newark, Westchester** it will be assigned to the respective fare.\n",
    "- If the `total amount` are integers, then it will be assumed to 5 (Negotiated fare).\n",
    "- If the values are neither of these criteria, it will be assigned to 1 (Standard Rate)\n",
    "\n"
   ]
  },
  {
   "cell_type": "code",
   "execution_count": 64,
   "metadata": {},
   "outputs": [
    {
     "data": {
      "text/plain": [
       "array(['Standard rate', 'Negotiated fare', 'Newark Airport',\n",
       "       'JFK Airport', 99.0, 'Westchester Village/Unionport', nan],\n",
       "      dtype=object)"
      ]
     },
     "execution_count": 64,
     "metadata": {},
     "output_type": "execute_result"
    }
   ],
   "source": [
    "df['RatecodeID'].unique()"
   ]
  },
  {
   "cell_type": "code",
   "execution_count": 65,
   "metadata": {},
   "outputs": [
    {
     "data": {
      "text/html": [
       "<div>\n",
       "<style scoped>\n",
       "    .dataframe tbody tr th:only-of-type {\n",
       "        vertical-align: middle;\n",
       "    }\n",
       "\n",
       "    .dataframe tbody tr th {\n",
       "        vertical-align: top;\n",
       "    }\n",
       "\n",
       "    .dataframe thead th {\n",
       "        text-align: right;\n",
       "    }\n",
       "</style>\n",
       "<table border=\"1\" class=\"dataframe\">\n",
       "  <thead>\n",
       "    <tr style=\"text-align: right;\">\n",
       "      <th></th>\n",
       "      <th>PUdate</th>\n",
       "      <th>DOdate</th>\n",
       "      <th>PUtime</th>\n",
       "      <th>DOtime</th>\n",
       "      <th>day</th>\n",
       "      <th>RatecodeID</th>\n",
       "      <th>PUzone</th>\n",
       "      <th>PUborough</th>\n",
       "      <th>DOzone</th>\n",
       "      <th>DOborough</th>\n",
       "    </tr>\n",
       "  </thead>\n",
       "  <tbody>\n",
       "    <tr>\n",
       "      <th>66609</th>\n",
       "      <td>2023-01-20</td>\n",
       "      <td>2023-01-20</td>\n",
       "      <td>12:17:00</td>\n",
       "      <td>12:18:00</td>\n",
       "      <td>Friday</td>\n",
       "      <td>NaN</td>\n",
       "      <td>JFK Airport</td>\n",
       "      <td>Queens</td>\n",
       "      <td>JFK Airport</td>\n",
       "      <td>Queens</td>\n",
       "    </tr>\n",
       "    <tr>\n",
       "      <th>65394</th>\n",
       "      <td>2023-01-12</td>\n",
       "      <td>2023-01-12</td>\n",
       "      <td>10:22:00</td>\n",
       "      <td>10:46:00</td>\n",
       "      <td>Thursday</td>\n",
       "      <td>NaN</td>\n",
       "      <td>Westchester Village/Unionport</td>\n",
       "      <td>Bronx</td>\n",
       "      <td>Claremont/Bathgate</td>\n",
       "      <td>Bronx</td>\n",
       "    </tr>\n",
       "    <tr>\n",
       "      <th>63983</th>\n",
       "      <td>2023-01-01</td>\n",
       "      <td>2023-01-01</td>\n",
       "      <td>08:01:00</td>\n",
       "      <td>08:29:00</td>\n",
       "      <td>Sunday</td>\n",
       "      <td>NaN</td>\n",
       "      <td>Bedford</td>\n",
       "      <td>Brooklyn</td>\n",
       "      <td>JFK Airport</td>\n",
       "      <td>Queens</td>\n",
       "    </tr>\n",
       "    <tr>\n",
       "      <th>64952</th>\n",
       "      <td>2023-01-09</td>\n",
       "      <td>2023-01-09</td>\n",
       "      <td>04:06:00</td>\n",
       "      <td>04:58:00</td>\n",
       "      <td>Monday</td>\n",
       "      <td>NaN</td>\n",
       "      <td>Forest Hills</td>\n",
       "      <td>Queens</td>\n",
       "      <td>Newark Airport</td>\n",
       "      <td>EWR</td>\n",
       "    </tr>\n",
       "    <tr>\n",
       "      <th>68048</th>\n",
       "      <td>2023-01-30</td>\n",
       "      <td>2023-01-30</td>\n",
       "      <td>17:03:00</td>\n",
       "      <td>17:29:00</td>\n",
       "      <td>Monday</td>\n",
       "      <td>NaN</td>\n",
       "      <td>East Harlem South</td>\n",
       "      <td>Manhattan</td>\n",
       "      <td>Westchester Village/Unionport</td>\n",
       "      <td>Bronx</td>\n",
       "    </tr>\n",
       "  </tbody>\n",
       "</table>\n",
       "</div>"
      ],
      "text/plain": [
       "          PUdate     DOdate    PUtime    DOtime       day RatecodeID  \\\n",
       "66609 2023-01-20 2023-01-20  12:17:00  12:18:00    Friday        NaN   \n",
       "65394 2023-01-12 2023-01-12  10:22:00  10:46:00  Thursday        NaN   \n",
       "63983 2023-01-01 2023-01-01  08:01:00  08:29:00    Sunday        NaN   \n",
       "64952 2023-01-09 2023-01-09  04:06:00  04:58:00    Monday        NaN   \n",
       "68048 2023-01-30 2023-01-30  17:03:00  17:29:00    Monday        NaN   \n",
       "\n",
       "                              PUzone  PUborough  \\\n",
       "66609                    JFK Airport     Queens   \n",
       "65394  Westchester Village/Unionport      Bronx   \n",
       "63983                        Bedford   Brooklyn   \n",
       "64952                   Forest Hills     Queens   \n",
       "68048              East Harlem South  Manhattan   \n",
       "\n",
       "                              DOzone DOborough  \n",
       "66609                    JFK Airport    Queens  \n",
       "65394             Claremont/Bathgate     Bronx  \n",
       "63983                    JFK Airport    Queens  \n",
       "64952                 Newark Airport       EWR  \n",
       "68048  Westchester Village/Unionport     Bronx  "
      ]
     },
     "execution_count": 65,
     "metadata": {},
     "output_type": "execute_result"
    }
   ],
   "source": [
    "columnshowed = ['PUdate', 'DOdate', 'PUtime', 'DOtime', 'day', 'RatecodeID','PUzone', 'PUborough', 'DOzone','DOborough'] # limiting column \n",
    "ratecode_mapping = ['Westchester Village/Unionport',  'Newark Airport',  'JFK Airport']\n",
    "\n",
    "# Displaying the sample of NaN ratecode within the mapping\n",
    "dfisna = df[df['RatecodeID'].isna()]\n",
    "PUzoneNaN = dfisna[dfisna['PUzone'].isin(ratecode_mapping)][columnshowed].sort_values(by='PUzone').drop_duplicates(subset='PUzone',keep='first')\n",
    "DOzoneNaN = dfisna[dfisna['DOzone'].isin(ratecode_mapping)][columnshowed].sort_values(by='DOzone').drop_duplicates(subset='DOzone',keep='first')\n",
    "ratecodeNaNsample = pd.concat([PUzoneNaN,DOzoneNaN])\n",
    "\n",
    "ratecodeNaNsample"
   ]
  },
  {
   "cell_type": "code",
   "execution_count": 66,
   "metadata": {},
   "outputs": [],
   "source": [
    "# changing the 99.0 values to NaN\n",
    "df['RatecodeID'] = np.where(df['RatecodeID']==99, np.nan, df['RatecodeID'])\n",
    "\n",
    "# Imputating all the NaN values based on the criteria\n",
    "df['RatecodeID'] = np.where(\n",
    "df['RatecodeID'].isna(),\n",
    "np.where(df['DOzone'].isin(ratecode_mapping),\n",
    "df['DOzone'],\n",
    "np.where(df['PUzone'].isin(ratecode_mapping),\n",
    "df['PUzone'],\n",
    "np.where(df['total_amount'] % 1 == 0,\n",
    "'Negotiated fare', 'Standard rate'))),df['RatecodeID'])"
   ]
  },
  {
   "cell_type": "code",
   "execution_count": 67,
   "metadata": {},
   "outputs": [
    {
     "data": {
      "text/plain": [
       "array(['Standard rate', 'Negotiated fare', 'Newark Airport',\n",
       "       'JFK Airport', 'Westchester Village/Unionport'], dtype=object)"
      ]
     },
     "execution_count": 67,
     "metadata": {},
     "output_type": "execute_result"
    }
   ],
   "source": [
    "df['RatecodeID'].unique()"
   ]
  },
  {
   "cell_type": "markdown",
   "metadata": {},
   "source": [
    "### `passenger_count`\n",
    "***\n",
    "- If the values are below 1 and NaN, the data will be assigned to 1 (minimum passenger counts) \n",
    "- If passengers that are off the NYC passenger limit, the data will be assigned to the NYC maximum passenger limit = 4  [Ref](https://www.takewalks.com/blog/nyc-taxis)"
   ]
  },
  {
   "cell_type": "code",
   "execution_count": 68,
   "metadata": {},
   "outputs": [
    {
     "data": {
      "text/plain": [
       "[0.0, 1.0, 2.0, 3.0, 4.0, 5.0, 6.0, 7.0, 8.0, 9.0, nan]"
      ]
     },
     "execution_count": 68,
     "metadata": {},
     "output_type": "execute_result"
    }
   ],
   "source": [
    "sorted(df['passenger_count'].unique())"
   ]
  },
  {
   "cell_type": "code",
   "execution_count": 69,
   "metadata": {},
   "outputs": [
    {
     "data": {
      "text/plain": [
       "4285"
      ]
     },
     "execution_count": 69,
     "metadata": {},
     "output_type": "execute_result"
    }
   ],
   "source": [
    "df['passenger_count'].isna().sum()"
   ]
  },
  {
   "cell_type": "code",
   "execution_count": 70,
   "metadata": {},
   "outputs": [],
   "source": [
    "df['passenger_count'] = np.where((df['passenger_count'] > 4) | (np.isnan(df['passenger_count'])), 4, np.where(df['passenger_count']<1, 1, df['passenger_count']))"
   ]
  },
  {
   "cell_type": "code",
   "execution_count": 71,
   "metadata": {},
   "outputs": [
    {
     "data": {
      "text/plain": [
       "[1.0, 2.0, 3.0, 4.0]"
      ]
     },
     "execution_count": 71,
     "metadata": {},
     "output_type": "execute_result"
    }
   ],
   "source": [
    "sorted(df['passenger_count'].unique())"
   ]
  },
  {
   "cell_type": "markdown",
   "metadata": {},
   "source": [
    "### `trip_distance`\n",
    "***\n",
    "- Assuming the upper bound is 50 (Furthest drive in NYC)  [Ref](https://intip.in/NYCfurthes)\n",
    "- If the values are outside the upper bound and the fare amount, it will be dropped. Because in this analysis we are primarily focusing on the taxi rides inside of NYC.\n",
    "- If the values are below 1 the data will be dropped. Since it is assumed that it was unlikely and has no significant correlation with other columns, therefore it is hard to predict the imputation"
   ]
  },
  {
   "cell_type": "code",
   "execution_count": 72,
   "metadata": {},
   "outputs": [
    {
     "data": {
      "text/plain": [
       "duration_min            0.010849\n",
       "passenger_count         0.025265\n",
       "trip_distance           1.000000\n",
       "fare_amount             0.013983\n",
       "tip_amount              0.003264\n",
       "total_amount            0.012487\n",
       "congestion_surcharge    0.088527\n",
       "Name: trip_distance, dtype: float64"
      ]
     },
     "execution_count": 72,
     "metadata": {},
     "output_type": "execute_result"
    }
   ],
   "source": [
    "df.corr(numeric_only='True')['trip_distance']"
   ]
  },
  {
   "cell_type": "code",
   "execution_count": 73,
   "metadata": {},
   "outputs": [
    {
     "data": {
      "text/plain": [
       "<Axes: >"
      ]
     },
     "execution_count": 73,
     "metadata": {},
     "output_type": "execute_result"
    },
    {
     "data": {
      "image/png": "[encoded data removed]",
      "text/plain": [
       "<Figure size 2000x400 with 1 Axes>"
      ]
     },
     "metadata": {},
     "output_type": "display_data"
    }
   ],
   "source": [
    "plt.figure(figsize=(20,4))\n",
    "sns.boxplot(df['trip_distance'], orient='h')"
   ]
  },
  {
   "cell_type": "code",
   "execution_count": 74,
   "metadata": {},
   "outputs": [
    {
     "name": "stdout",
     "output_type": "stream",
     "text": [
      "\n",
      "      Initial data: 67334\n",
      "      Processed data: 53722\n",
      "      Data dropped: 13612\n"
     ]
    }
   ],
   "source": [
    "initial = df.copy()\n",
    "\n",
    "# converting the 0 to NaN and dropping them\n",
    "df['trip_distance'] = np.where((df['trip_distance']<1) | (df['trip_distance']>50) , np.nan, df['trip_distance'])\n",
    "df.dropna(subset=['trip_distance'], inplace=True)\n",
    "\n",
    "\n",
    "print(f'''\n",
    "      Initial data: {len(initial)}\n",
    "      Processed data: {len(df)}\n",
    "      Data dropped: {len(initial)-len(df)}''')"
   ]
  },
  {
   "cell_type": "code",
   "execution_count": 75,
   "metadata": {},
   "outputs": [
    {
     "data": {
      "text/plain": [
       "<Axes: >"
      ]
     },
     "execution_count": 75,
     "metadata": {},
     "output_type": "execute_result"
    },
    {
     "data": {
      "image/png": "[encoded data removed]",
      "text/plain": [
       "<Figure size 2000x400 with 1 Axes>"
      ]
     },
     "metadata": {},
     "output_type": "display_data"
    }
   ],
   "source": [
    "plt.figure(figsize=(20,4))\n",
    "sns.boxplot(df['trip_distance'], orient='h')"
   ]
  },
  {
   "cell_type": "markdown",
   "metadata": {},
   "source": [
    "> There are still outliers in the data, primarily due to the occasional occurrence of extended trips across NYC, despite the majority of trips being of shorter duration."
   ]
  },
  {
   "cell_type": "code",
   "execution_count": 76,
   "metadata": {},
   "outputs": [
    {
     "data": {
      "text/plain": [
       "40942    140.2\n",
       "Name: fare_amount, dtype: float64"
      ]
     },
     "execution_count": 76,
     "metadata": {},
     "output_type": "execute_result"
    }
   ],
   "source": [
    "df[df['trip_distance'] == df['trip_distance'].max()]['fare_amount']"
   ]
  },
  {
   "cell_type": "markdown",
   "metadata": {},
   "source": [
    "### `fare_amount` :  \n",
    "***\n",
    "- If the fare amount is negative, then it will be assigned to it's absolute counterparts (positive)\n",
    "- If the fare amount is more than 150 then it will considered an outliers, and will be dropped.\n",
    "- If the fare amount in $ 1.5 it will be considered not significant enough for the data, and will be dropped.\n",
    "\n",
    "> The fare amount of the longest trip distance is 140"
   ]
  },
  {
   "cell_type": "code",
   "execution_count": 77,
   "metadata": {},
   "outputs": [
    {
     "name": "stdout",
     "output_type": "stream",
     "text": [
      "\n",
      "      Initial data: 53722\n",
      "      Processed data: 53706\n",
      "      Data dropped: 16\n"
     ]
    }
   ],
   "source": [
    "initial = df.copy()\n",
    "\n",
    "# converting the 0 to NaN and dropping them\n",
    "df['fare_amount'] = np.where(df['fare_amount']<0, df['fare_amount']*-1,\n",
    "                    np.where((df['fare_amount']>150) | (df['fare_amount']<=1.5), np.nan, \n",
    "                     df['fare_amount']\n",
    "                             )) \n",
    "\n",
    "df.dropna(subset='fare_amount', inplace=True)\n",
    "\n",
    "print(f'''\n",
    "      Initial data: {len(initial)}\n",
    "      Processed data: {len(df)}\n",
    "      Data dropped: {len(initial)-len(df)}''')"
   ]
  },
  {
   "cell_type": "markdown",
   "metadata": {},
   "source": [
    "- Looking the correlation between fare and total"
   ]
  },
  {
   "cell_type": "code",
   "execution_count": 123,
   "metadata": {},
   "outputs": [
    {
     "data": {
      "text/plain": [
       "<matplotlib.collections.PathCollection at 0x1a6e94ac6d0>"
      ]
     },
     "execution_count": 123,
     "metadata": {},
     "output_type": "execute_result"
    },
    {
     "data": {
      "image/png": "[encoded data removed]",
      "text/plain": [
       "<Figure size 1000x600 with 1 Axes>"
      ]
     },
     "metadata": {},
     "output_type": "display_data"
    }
   ],
   "source": [
    "a = df[['fare_amount','trip_distance']]\n",
    "# plt.scatter(y=df['fare_amount'],x=df['trip_distance'], scatter_kws={'alpha':0.5})\n",
    "\n",
    "plt.figure(figsize=(10, 6))\n",
    "plt.scatter(y=df['fare_amount'],x=df['trip_distance'], alpha=0.5, s=50)"
   ]
  },
  {
   "cell_type": "code",
   "execution_count": 135,
   "metadata": {},
   "outputs": [
    {
     "data": {
      "text/plain": [
       "array(['Standard rate', 'Negotiated fare', 'Newark Airport',\n",
       "       'JFK Airport', 'Westchester Village/Unionport'], dtype=object)"
      ]
     },
     "execution_count": 135,
     "metadata": {},
     "output_type": "execute_result"
    }
   ],
   "source": [
    "df.RatecodeID.unique()[0:5]"
   ]
  },
  {
   "cell_type": "code",
   "execution_count": 160,
   "metadata": {},
   "outputs": [
    {
     "data": {
      "image/png": "[encoded data removed]",
      "text/plain": [
       "<Figure size 1800x800 with 5 Axes>"
      ]
     },
     "metadata": {},
     "output_type": "display_data"
    }
   ],
   "source": [
    "fig, ax = plt.subplots(2, 3, figsize=(18, 8))\n",
    "\n",
    "conditions = [(\"RatecodeID == 'Standard rate'\", 'skyblue'),\n",
    "    (\"RatecodeID == 'Negotiated fare'\", 'seagreen'),\n",
    "    (\"RatecodeID == 'Newark Airport'\", 'red'),\n",
    "    (\"RatecodeID == 'JFK Airport'\", 'purple'),\n",
    "    (\"RatecodeID == 'Westchester Village/Unionport'\", 'orange')]\n",
    "titles = ['Standard Rate', 'Negotiated Fare', 'Newark Airport', 'JFK Airport','Westchester Village/Unionport']\n",
    "\n",
    "for i, (condition, color) in enumerate(conditions):\n",
    "    subplot = ax[i // 3, i % 3]\n",
    "    data = df.query(condition)\n",
    "    subplot.scatter(x=data['trip_distance'], y=data['fare_amount'], alpha=0.8, s=50, c=color)\n",
    "    subplot.set_title(titles[i])\n",
    "\n",
    "fig.delaxes(ax[1, 2])\n",
    "plt.tight_layout()\n",
    "\n",
    "plt.show()\n"
   ]
  },
  {
   "cell_type": "code",
   "execution_count": 79,
   "metadata": {},
   "outputs": [
    {
     "data": {
      "text/html": [
       "<div>\n",
       "<style scoped>\n",
       "    .dataframe tbody tr th:only-of-type {\n",
       "        vertical-align: middle;\n",
       "    }\n",
       "\n",
       "    .dataframe tbody tr th {\n",
       "        vertical-align: top;\n",
       "    }\n",
       "\n",
       "    .dataframe thead th {\n",
       "        text-align: right;\n",
       "    }\n",
       "</style>\n",
       "<table border=\"1\" class=\"dataframe\">\n",
       "  <thead>\n",
       "    <tr style=\"text-align: right;\">\n",
       "      <th></th>\n",
       "      <th>PUdate</th>\n",
       "      <th>DOdate</th>\n",
       "      <th>PUtime</th>\n",
       "      <th>DOtime</th>\n",
       "      <th>day</th>\n",
       "      <th>RatecodeID</th>\n",
       "      <th>PUzone</th>\n",
       "      <th>PUborough</th>\n",
       "      <th>DOzone</th>\n",
       "      <th>DOborough</th>\n",
       "      <th>duration_min</th>\n",
       "      <th>passenger_count</th>\n",
       "      <th>trip_distance</th>\n",
       "      <th>fare_amount</th>\n",
       "      <th>tip_amount</th>\n",
       "      <th>total_amount</th>\n",
       "      <th>payment_type</th>\n",
       "      <th>trip_type</th>\n",
       "      <th>congestion_surcharge</th>\n",
       "    </tr>\n",
       "  </thead>\n",
       "  <tbody>\n",
       "    <tr>\n",
       "      <th>64487</th>\n",
       "      <td>2023-01-05</td>\n",
       "      <td>2023-01-05</td>\n",
       "      <td>10:51:00</td>\n",
       "      <td>11:20:00</td>\n",
       "      <td>Thursday</td>\n",
       "      <td>Standard rate</td>\n",
       "      <td>Hamilton Heights</td>\n",
       "      <td>Manhattan</td>\n",
       "      <td>Manhattan Valley</td>\n",
       "      <td>Manhattan</td>\n",
       "      <td>29.0</td>\n",
       "      <td>4.0</td>\n",
       "      <td>2.22</td>\n",
       "      <td>43.54</td>\n",
       "      <td>0.76</td>\n",
       "      <td>-41.78</td>\n",
       "      <td>NaN</td>\n",
       "      <td>NaN</td>\n",
       "      <td>NaN</td>\n",
       "    </tr>\n",
       "    <tr>\n",
       "      <th>65108</th>\n",
       "      <td>2023-01-10</td>\n",
       "      <td>2023-01-10</td>\n",
       "      <td>10:00:00</td>\n",
       "      <td>10:26:00</td>\n",
       "      <td>Tuesday</td>\n",
       "      <td>Standard rate</td>\n",
       "      <td>Mott Haven/Port Morris</td>\n",
       "      <td>Bronx</td>\n",
       "      <td>Melrose South</td>\n",
       "      <td>Bronx</td>\n",
       "      <td>26.0</td>\n",
       "      <td>4.0</td>\n",
       "      <td>3.45</td>\n",
       "      <td>17.38</td>\n",
       "      <td>0.26</td>\n",
       "      <td>-16.12</td>\n",
       "      <td>NaN</td>\n",
       "      <td>NaN</td>\n",
       "      <td>NaN</td>\n",
       "    </tr>\n",
       "    <tr>\n",
       "      <th>67461</th>\n",
       "      <td>2023-01-26</td>\n",
       "      <td>2023-01-26</td>\n",
       "      <td>10:10:00</td>\n",
       "      <td>10:20:00</td>\n",
       "      <td>Thursday</td>\n",
       "      <td>Standard rate</td>\n",
       "      <td>West Farms/Bronx River</td>\n",
       "      <td>Bronx</td>\n",
       "      <td>Hunts Point</td>\n",
       "      <td>Bronx</td>\n",
       "      <td>10.0</td>\n",
       "      <td>4.0</td>\n",
       "      <td>1.51</td>\n",
       "      <td>15.53</td>\n",
       "      <td>0.22</td>\n",
       "      <td>-14.31</td>\n",
       "      <td>NaN</td>\n",
       "      <td>NaN</td>\n",
       "      <td>NaN</td>\n",
       "    </tr>\n",
       "  </tbody>\n",
       "</table>\n",
       "</div>"
      ],
      "text/plain": [
       "          PUdate     DOdate    PUtime    DOtime       day     RatecodeID  \\\n",
       "64487 2023-01-05 2023-01-05  10:51:00  11:20:00  Thursday  Standard rate   \n",
       "65108 2023-01-10 2023-01-10  10:00:00  10:26:00   Tuesday  Standard rate   \n",
       "67461 2023-01-26 2023-01-26  10:10:00  10:20:00  Thursday  Standard rate   \n",
       "\n",
       "                       PUzone  PUborough            DOzone  DOborough  \\\n",
       "64487        Hamilton Heights  Manhattan  Manhattan Valley  Manhattan   \n",
       "65108  Mott Haven/Port Morris      Bronx     Melrose South      Bronx   \n",
       "67461  West Farms/Bronx River      Bronx       Hunts Point      Bronx   \n",
       "\n",
       "       duration_min  passenger_count  trip_distance  fare_amount  tip_amount  \\\n",
       "64487          29.0              4.0           2.22        43.54        0.76   \n",
       "65108          26.0              4.0           3.45        17.38        0.26   \n",
       "67461          10.0              4.0           1.51        15.53        0.22   \n",
       "\n",
       "       total_amount payment_type trip_type  congestion_surcharge  \n",
       "64487        -41.78          NaN       NaN                   NaN  \n",
       "65108        -16.12          NaN       NaN                   NaN  \n",
       "67461        -14.31          NaN       NaN                   NaN  "
      ]
     },
     "execution_count": 79,
     "metadata": {},
     "output_type": "execute_result"
    }
   ],
   "source": [
    "df[df['total_amount']<(df['fare_amount']+df['tip_amount'])]"
   ]
  },
  {
   "cell_type": "markdown",
   "metadata": {},
   "source": [
    "### `tip_amount` :  \n",
    "***\n",
    "- If the tip amount is not reasonable (more than 100% the fare amount) it will be dropped, because it might alter the data conclusion"
   ]
  },
  {
   "cell_type": "code",
   "execution_count": 80,
   "metadata": {},
   "outputs": [
    {
     "data": {
      "text/plain": [
       "<Axes: >"
      ]
     },
     "execution_count": 80,
     "metadata": {},
     "output_type": "execute_result"
    },
    {
     "data": {
      "image/png": "[encoded data removed]",
      "text/plain": [
       "<Figure size 1000x200 with 1 Axes>"
      ]
     },
     "metadata": {},
     "output_type": "display_data"
    }
   ],
   "source": [
    "plt.figure(figsize=(10,2))\n",
    "sns.boxplot(df['tip_amount'], orient='h')"
   ]
  },
  {
   "cell_type": "code",
   "execution_count": 81,
   "metadata": {},
   "outputs": [
    {
     "name": "stdout",
     "output_type": "stream",
     "text": [
      "\n",
      "      Initial data: 53722\n",
      "      Processed data: 53690\n",
      "      Data dropped: 32\n"
     ]
    }
   ],
   "source": [
    "df = df[df['tip_amount']<(df['fare_amount']*1.5)]\n",
    "\n",
    "print(f'''\n",
    "      Initial data: {len(initial)}\n",
    "      Processed data: {len(df)}\n",
    "      Data dropped: {len(initial)-len(df)}''')"
   ]
  },
  {
   "cell_type": "code",
   "execution_count": 82,
   "metadata": {},
   "outputs": [
    {
     "data": {
      "text/plain": [
       "<Axes: >"
      ]
     },
     "execution_count": 82,
     "metadata": {},
     "output_type": "execute_result"
    },
    {
     "data": {
      "image/png": "[encoded data removed]",
      "text/plain": [
       "<Figure size 1000x200 with 1 Axes>"
      ]
     },
     "metadata": {},
     "output_type": "display_data"
    }
   ],
   "source": [
    "plt.figure(figsize=(10,2))\n",
    "sns.boxplot(df['tip_amount'], orient='h')"
   ]
  },
  {
   "cell_type": "markdown",
   "metadata": {},
   "source": [
    "### `total_amount`\n",
    "***\n",
    "- If the total amount is negative, then it will be assigned to it's absolute counterparts (positive), this might resulted because of earlier missing data (`fare_amount` or `trip_amount`)\n",
    "- If the total of `fare_amount` + `tip_amount` is larger than `total_amount` it will be dropped.\n",
    "- If the total amount in 0 then it will be dropped.\n",
    "\n",
    "> The total amount of the longest trip distance is 160"
   ]
  },
  {
   "cell_type": "code",
   "execution_count": 83,
   "metadata": {},
   "outputs": [
    {
     "data": {
      "text/plain": [
       "<Axes: >"
      ]
     },
     "execution_count": 83,
     "metadata": {},
     "output_type": "execute_result"
    },
    {
     "data": {
      "image/png": "[encoded data removed]",
      "text/plain": [
       "<Figure size 1000x200 with 1 Axes>"
      ]
     },
     "metadata": {},
     "output_type": "display_data"
    }
   ],
   "source": [
    "plt.figure(figsize=(10,2))\n",
    "sns.boxplot(df['total_amount'], orient='h')"
   ]
  },
  {
   "cell_type": "code",
   "execution_count": 84,
   "metadata": {},
   "outputs": [
    {
     "name": "stdout",
     "output_type": "stream",
     "text": [
      "\n",
      "      Initial data: 53722\n",
      "      Processed data: 53690\n",
      "      Data dropped: 32\n"
     ]
    }
   ],
   "source": [
    "df['total_amount'] = np.where(df['total_amount']<0, df['total_amount']*-1, \n",
    "                              np.where(((df['total_amount']<(df['fare_amount']+df['tip_amount'])) | df['total_amount']==0), np.nan, df['total_amount']))\n",
    "df.dropna(subset='total_amount',inplace=True)\n",
    "\n",
    "print(f'''\n",
    "      Initial data: {len(initial)}\n",
    "      Processed data: {len(df)}\n",
    "      Data dropped: {len(initial)-len(df)}''')"
   ]
  },
  {
   "cell_type": "code",
   "execution_count": 85,
   "metadata": {},
   "outputs": [
    {
     "data": {
      "text/plain": [
       "<Axes: >"
      ]
     },
     "execution_count": 85,
     "metadata": {},
     "output_type": "execute_result"
    },
    {
     "data": {
      "image/png": "[encoded data removed]",
      "text/plain": [
       "<Figure size 1000x200 with 1 Axes>"
      ]
     },
     "metadata": {},
     "output_type": "display_data"
    }
   ],
   "source": [
    "plt.figure(figsize=(10,2))\n",
    "sns.boxplot(df['total_amount'], orient='h')"
   ]
  },
  {
   "cell_type": "markdown",
   "metadata": {},
   "source": [
    "### `payment_type`\n",
    "***\n",
    "- Assigning the NaN values into 'unknown'\n",
    "- The ones with the value 'No charge' are going to be dropped. Since it has no relenvant in the analysis."
   ]
  },
  {
   "cell_type": "code",
   "execution_count": 86,
   "metadata": {},
   "outputs": [
    {
     "data": {
      "text/plain": [
       "array(['Credit card', 'Cash', 'No charge', 'Dispute', nan], dtype=object)"
      ]
     },
     "execution_count": 86,
     "metadata": {},
     "output_type": "execute_result"
    }
   ],
   "source": [
    "df['payment_type'].unique()"
   ]
  },
  {
   "cell_type": "code",
   "execution_count": 87,
   "metadata": {},
   "outputs": [],
   "source": [
    "df['payment_type'].fillna('unknown', inplace=True)\n",
    "df.drop(df[df['payment_type']=='No charge'].index, inplace=True)"
   ]
  },
  {
   "cell_type": "code",
   "execution_count": 88,
   "metadata": {},
   "outputs": [
    {
     "data": {
      "text/plain": [
       "array(['Credit card', 'Cash', 'Dispute', 'unknown'], dtype=object)"
      ]
     },
     "execution_count": 88,
     "metadata": {},
     "output_type": "execute_result"
    }
   ],
   "source": [
    "df['payment_type'].unique()"
   ]
  },
  {
   "cell_type": "markdown",
   "metadata": {},
   "source": [
    "### `trip_type`\n",
    "***\n",
    "- Assigning the NaN values into 'street hail' assuming that if the order was made via dispatch, it is more likely to be recorded."
   ]
  },
  {
   "cell_type": "code",
   "execution_count": 89,
   "metadata": {},
   "outputs": [
    {
     "data": {
      "text/plain": [
       "array(['street hail', 'dispatch', nan], dtype=object)"
      ]
     },
     "execution_count": 89,
     "metadata": {},
     "output_type": "execute_result"
    }
   ],
   "source": [
    "df['trip_type'].unique()"
   ]
  },
  {
   "cell_type": "code",
   "execution_count": 90,
   "metadata": {},
   "outputs": [],
   "source": [
    "df['trip_type'].fillna('street hail', inplace=True)"
   ]
  },
  {
   "cell_type": "code",
   "execution_count": 91,
   "metadata": {},
   "outputs": [
    {
     "data": {
      "text/plain": [
       "array(['street hail', 'dispatch'], dtype=object)"
      ]
     },
     "execution_count": 91,
     "metadata": {},
     "output_type": "execute_result"
    }
   ],
   "source": [
    "df['trip_type'].unique()"
   ]
  },
  {
   "cell_type": "markdown",
   "metadata": {},
   "source": [
    "### `congestion_surcharge`\n",
    "***\n",
    "- The values will be assigned to a 'Y' and 'N' value.\n",
    "- The NaN values will be assigned to 'N'"
   ]
  },
  {
   "cell_type": "code",
   "execution_count": 92,
   "metadata": {},
   "outputs": [],
   "source": [
    "df['congestion_surcharge'].fillna(0)\n",
    "\n",
    "df['congestion_surcharge'] = np.where(df['congestion_surcharge']==0, 'N', 'Y')\n",
    "df.rename(columns={'congestion_surcharge': 'congestion'}, inplace=True)"
   ]
  },
  {
   "cell_type": "code",
   "execution_count": 93,
   "metadata": {},
   "outputs": [
    {
     "data": {
      "text/plain": [
       "array(['Y', 'N'], dtype=object)"
      ]
     },
     "execution_count": 93,
     "metadata": {},
     "output_type": "execute_result"
    }
   ],
   "source": [
    "df['congestion'].unique()"
   ]
  },
  {
   "cell_type": "markdown",
   "metadata": {},
   "source": [
    "## **Cleaned Data**"
   ]
  },
  {
   "cell_type": "code",
   "execution_count": 94,
   "metadata": {},
   "outputs": [],
   "source": [
    "# resorting and reformating cleaned data\n",
    "\n",
    "df.sort_values(by=['PUdate', 'PUtime'], inplace=True)\n",
    "df.reset_index(drop=True,inplace=True)"
   ]
  },
  {
   "cell_type": "code",
   "execution_count": 95,
   "metadata": {},
   "outputs": [
    {
     "data": {
      "text/html": [
       "<div>\n",
       "<style scoped>\n",
       "    .dataframe tbody tr th:only-of-type {\n",
       "        vertical-align: middle;\n",
       "    }\n",
       "\n",
       "    .dataframe tbody tr th {\n",
       "        vertical-align: top;\n",
       "    }\n",
       "\n",
       "    .dataframe thead th {\n",
       "        text-align: right;\n",
       "    }\n",
       "</style>\n",
       "<table border=\"1\" class=\"dataframe\">\n",
       "  <thead>\n",
       "    <tr style=\"text-align: right;\">\n",
       "      <th></th>\n",
       "      <th>PUdate</th>\n",
       "      <th>DOdate</th>\n",
       "      <th>PUtime</th>\n",
       "      <th>DOtime</th>\n",
       "      <th>day</th>\n",
       "      <th>RatecodeID</th>\n",
       "      <th>PUzone</th>\n",
       "      <th>PUborough</th>\n",
       "      <th>DOzone</th>\n",
       "      <th>DOborough</th>\n",
       "      <th>duration_min</th>\n",
       "      <th>passenger_count</th>\n",
       "      <th>trip_distance</th>\n",
       "      <th>fare_amount</th>\n",
       "      <th>tip_amount</th>\n",
       "      <th>total_amount</th>\n",
       "      <th>payment_type</th>\n",
       "      <th>trip_type</th>\n",
       "      <th>congestion</th>\n",
       "    </tr>\n",
       "  </thead>\n",
       "  <tbody>\n",
       "    <tr>\n",
       "      <th>0</th>\n",
       "      <td>2023-01-01</td>\n",
       "      <td>2023-01-01</td>\n",
       "      <td>00:01:31</td>\n",
       "      <td>00:16:02</td>\n",
       "      <td>Sunday</td>\n",
       "      <td>Standard rate</td>\n",
       "      <td>Morningside Heights</td>\n",
       "      <td>Manhattan</td>\n",
       "      <td>Washington Heights South</td>\n",
       "      <td>Manhattan</td>\n",
       "      <td>14.52</td>\n",
       "      <td>1.0</td>\n",
       "      <td>2.48</td>\n",
       "      <td>16.30</td>\n",
       "      <td>3.76</td>\n",
       "      <td>22.56</td>\n",
       "      <td>Credit card</td>\n",
       "      <td>street hail</td>\n",
       "      <td>N</td>\n",
       "    </tr>\n",
       "    <tr>\n",
       "      <th>1</th>\n",
       "      <td>2023-01-01</td>\n",
       "      <td>2023-01-01</td>\n",
       "      <td>00:04:25</td>\n",
       "      <td>00:17:50</td>\n",
       "      <td>Sunday</td>\n",
       "      <td>Standard rate</td>\n",
       "      <td>Williamsburg (North Side)</td>\n",
       "      <td>Brooklyn</td>\n",
       "      <td>Long Island City/Queens Plaza</td>\n",
       "      <td>Queens</td>\n",
       "      <td>13.42</td>\n",
       "      <td>1.0</td>\n",
       "      <td>2.80</td>\n",
       "      <td>16.30</td>\n",
       "      <td>2.80</td>\n",
       "      <td>21.60</td>\n",
       "      <td>Credit card</td>\n",
       "      <td>street hail</td>\n",
       "      <td>N</td>\n",
       "    </tr>\n",
       "    <tr>\n",
       "      <th>2</th>\n",
       "      <td>2023-01-01</td>\n",
       "      <td>2023-01-01</td>\n",
       "      <td>00:08:05</td>\n",
       "      <td>00:13:26</td>\n",
       "      <td>Sunday</td>\n",
       "      <td>Standard rate</td>\n",
       "      <td>Central Harlem</td>\n",
       "      <td>Manhattan</td>\n",
       "      <td>East Harlem South</td>\n",
       "      <td>Manhattan</td>\n",
       "      <td>5.35</td>\n",
       "      <td>4.0</td>\n",
       "      <td>1.05</td>\n",
       "      <td>5.50</td>\n",
       "      <td>1.36</td>\n",
       "      <td>8.16</td>\n",
       "      <td>Credit card</td>\n",
       "      <td>street hail</td>\n",
       "      <td>N</td>\n",
       "    </tr>\n",
       "    <tr>\n",
       "      <th>3</th>\n",
       "      <td>2023-01-01</td>\n",
       "      <td>2023-01-01</td>\n",
       "      <td>00:08:43</td>\n",
       "      <td>00:17:08</td>\n",
       "      <td>Sunday</td>\n",
       "      <td>Standard rate</td>\n",
       "      <td>East Harlem South</td>\n",
       "      <td>Manhattan</td>\n",
       "      <td>Lenox Hill East</td>\n",
       "      <td>Manhattan</td>\n",
       "      <td>8.42</td>\n",
       "      <td>1.0</td>\n",
       "      <td>1.99</td>\n",
       "      <td>11.40</td>\n",
       "      <td>3.33</td>\n",
       "      <td>19.98</td>\n",
       "      <td>Credit card</td>\n",
       "      <td>street hail</td>\n",
       "      <td>Y</td>\n",
       "    </tr>\n",
       "    <tr>\n",
       "      <th>4</th>\n",
       "      <td>2023-01-01</td>\n",
       "      <td>2023-01-01</td>\n",
       "      <td>00:09:14</td>\n",
       "      <td>00:26:39</td>\n",
       "      <td>Sunday</td>\n",
       "      <td>Standard rate</td>\n",
       "      <td>Park Slope</td>\n",
       "      <td>Brooklyn</td>\n",
       "      <td>Chinatown</td>\n",
       "      <td>Manhattan</td>\n",
       "      <td>17.42</td>\n",
       "      <td>2.0</td>\n",
       "      <td>3.80</td>\n",
       "      <td>19.10</td>\n",
       "      <td>4.85</td>\n",
       "      <td>29.20</td>\n",
       "      <td>Credit card</td>\n",
       "      <td>street hail</td>\n",
       "      <td>Y</td>\n",
       "    </tr>\n",
       "    <tr>\n",
       "      <th>...</th>\n",
       "      <td>...</td>\n",
       "      <td>...</td>\n",
       "      <td>...</td>\n",
       "      <td>...</td>\n",
       "      <td>...</td>\n",
       "      <td>...</td>\n",
       "      <td>...</td>\n",
       "      <td>...</td>\n",
       "      <td>...</td>\n",
       "      <td>...</td>\n",
       "      <td>...</td>\n",
       "      <td>...</td>\n",
       "      <td>...</td>\n",
       "      <td>...</td>\n",
       "      <td>...</td>\n",
       "      <td>...</td>\n",
       "      <td>...</td>\n",
       "      <td>...</td>\n",
       "      <td>...</td>\n",
       "    </tr>\n",
       "    <tr>\n",
       "      <th>53598</th>\n",
       "      <td>2023-01-31</td>\n",
       "      <td>2023-02-01</td>\n",
       "      <td>23:46:00</td>\n",
       "      <td>00:02:00</td>\n",
       "      <td>Tuesday</td>\n",
       "      <td>Standard rate</td>\n",
       "      <td>DUMBO/Vinegar Hill</td>\n",
       "      <td>Brooklyn</td>\n",
       "      <td>Bushwick South</td>\n",
       "      <td>Brooklyn</td>\n",
       "      <td>16.00</td>\n",
       "      <td>4.0</td>\n",
       "      <td>3.44</td>\n",
       "      <td>16.53</td>\n",
       "      <td>3.51</td>\n",
       "      <td>21.04</td>\n",
       "      <td>unknown</td>\n",
       "      <td>street hail</td>\n",
       "      <td>Y</td>\n",
       "    </tr>\n",
       "    <tr>\n",
       "      <th>53599</th>\n",
       "      <td>2023-01-31</td>\n",
       "      <td>2023-02-01</td>\n",
       "      <td>23:51:00</td>\n",
       "      <td>00:07:00</td>\n",
       "      <td>Tuesday</td>\n",
       "      <td>Standard rate</td>\n",
       "      <td>Williamsburg (South Side)</td>\n",
       "      <td>Brooklyn</td>\n",
       "      <td>Lenox Hill East</td>\n",
       "      <td>Manhattan</td>\n",
       "      <td>16.00</td>\n",
       "      <td>4.0</td>\n",
       "      <td>5.82</td>\n",
       "      <td>23.65</td>\n",
       "      <td>2.00</td>\n",
       "      <td>29.40</td>\n",
       "      <td>unknown</td>\n",
       "      <td>street hail</td>\n",
       "      <td>Y</td>\n",
       "    </tr>\n",
       "    <tr>\n",
       "      <th>53600</th>\n",
       "      <td>2023-01-31</td>\n",
       "      <td>2023-02-01</td>\n",
       "      <td>23:53:41</td>\n",
       "      <td>00:31:14</td>\n",
       "      <td>Tuesday</td>\n",
       "      <td>Standard rate</td>\n",
       "      <td>Elmhurst</td>\n",
       "      <td>Queens</td>\n",
       "      <td>Elmhurst/Maspeth</td>\n",
       "      <td>Queens</td>\n",
       "      <td>37.55</td>\n",
       "      <td>2.0</td>\n",
       "      <td>6.44</td>\n",
       "      <td>38.00</td>\n",
       "      <td>0.00</td>\n",
       "      <td>40.50</td>\n",
       "      <td>Cash</td>\n",
       "      <td>street hail</td>\n",
       "      <td>N</td>\n",
       "    </tr>\n",
       "    <tr>\n",
       "      <th>53601</th>\n",
       "      <td>2023-01-31</td>\n",
       "      <td>2023-02-01</td>\n",
       "      <td>23:56:16</td>\n",
       "      <td>00:03:16</td>\n",
       "      <td>Tuesday</td>\n",
       "      <td>Standard rate</td>\n",
       "      <td>Forest Hills</td>\n",
       "      <td>Queens</td>\n",
       "      <td>Rego Park</td>\n",
       "      <td>Queens</td>\n",
       "      <td>7.00</td>\n",
       "      <td>1.0</td>\n",
       "      <td>1.16</td>\n",
       "      <td>8.60</td>\n",
       "      <td>2.22</td>\n",
       "      <td>13.32</td>\n",
       "      <td>Credit card</td>\n",
       "      <td>street hail</td>\n",
       "      <td>N</td>\n",
       "    </tr>\n",
       "    <tr>\n",
       "      <th>53602</th>\n",
       "      <td>2023-01-31</td>\n",
       "      <td>2023-02-01</td>\n",
       "      <td>23:58:23</td>\n",
       "      <td>00:07:16</td>\n",
       "      <td>Tuesday</td>\n",
       "      <td>Standard rate</td>\n",
       "      <td>Forest Hills</td>\n",
       "      <td>Queens</td>\n",
       "      <td>Kew Gardens Hills</td>\n",
       "      <td>Queens</td>\n",
       "      <td>8.88</td>\n",
       "      <td>1.0</td>\n",
       "      <td>1.39</td>\n",
       "      <td>10.70</td>\n",
       "      <td>2.64</td>\n",
       "      <td>15.84</td>\n",
       "      <td>Credit card</td>\n",
       "      <td>street hail</td>\n",
       "      <td>N</td>\n",
       "    </tr>\n",
       "  </tbody>\n",
       "</table>\n",
       "<p>53603 rows × 19 columns</p>\n",
       "</div>"
      ],
      "text/plain": [
       "          PUdate     DOdate    PUtime    DOtime      day     RatecodeID  \\\n",
       "0     2023-01-01 2023-01-01  00:01:31  00:16:02   Sunday  Standard rate   \n",
       "1     2023-01-01 2023-01-01  00:04:25  00:17:50   Sunday  Standard rate   \n",
       "2     2023-01-01 2023-01-01  00:08:05  00:13:26   Sunday  Standard rate   \n",
       "3     2023-01-01 2023-01-01  00:08:43  00:17:08   Sunday  Standard rate   \n",
       "4     2023-01-01 2023-01-01  00:09:14  00:26:39   Sunday  Standard rate   \n",
       "...          ...        ...       ...       ...      ...            ...   \n",
       "53598 2023-01-31 2023-02-01  23:46:00  00:02:00  Tuesday  Standard rate   \n",
       "53599 2023-01-31 2023-02-01  23:51:00  00:07:00  Tuesday  Standard rate   \n",
       "53600 2023-01-31 2023-02-01  23:53:41  00:31:14  Tuesday  Standard rate   \n",
       "53601 2023-01-31 2023-02-01  23:56:16  00:03:16  Tuesday  Standard rate   \n",
       "53602 2023-01-31 2023-02-01  23:58:23  00:07:16  Tuesday  Standard rate   \n",
       "\n",
       "                          PUzone  PUborough                         DOzone  \\\n",
       "0            Morningside Heights  Manhattan       Washington Heights South   \n",
       "1      Williamsburg (North Side)   Brooklyn  Long Island City/Queens Plaza   \n",
       "2                 Central Harlem  Manhattan              East Harlem South   \n",
       "3              East Harlem South  Manhattan                Lenox Hill East   \n",
       "4                     Park Slope   Brooklyn                      Chinatown   \n",
       "...                          ...        ...                            ...   \n",
       "53598         DUMBO/Vinegar Hill   Brooklyn                 Bushwick South   \n",
       "53599  Williamsburg (South Side)   Brooklyn                Lenox Hill East   \n",
       "53600                   Elmhurst     Queens               Elmhurst/Maspeth   \n",
       "53601               Forest Hills     Queens                      Rego Park   \n",
       "53602               Forest Hills     Queens              Kew Gardens Hills   \n",
       "\n",
       "       DOborough  duration_min  passenger_count  trip_distance  fare_amount  \\\n",
       "0      Manhattan         14.52              1.0           2.48        16.30   \n",
       "1         Queens         13.42              1.0           2.80        16.30   \n",
       "2      Manhattan          5.35              4.0           1.05         5.50   \n",
       "3      Manhattan          8.42              1.0           1.99        11.40   \n",
       "4      Manhattan         17.42              2.0           3.80        19.10   \n",
       "...          ...           ...              ...            ...          ...   \n",
       "53598   Brooklyn         16.00              4.0           3.44        16.53   \n",
       "53599  Manhattan         16.00              4.0           5.82        23.65   \n",
       "53600     Queens         37.55              2.0           6.44        38.00   \n",
       "53601     Queens          7.00              1.0           1.16         8.60   \n",
       "53602     Queens          8.88              1.0           1.39        10.70   \n",
       "\n",
       "       tip_amount  total_amount payment_type    trip_type congestion  \n",
       "0            3.76         22.56  Credit card  street hail          N  \n",
       "1            2.80         21.60  Credit card  street hail          N  \n",
       "2            1.36          8.16  Credit card  street hail          N  \n",
       "3            3.33         19.98  Credit card  street hail          Y  \n",
       "4            4.85         29.20  Credit card  street hail          Y  \n",
       "...           ...           ...          ...          ...        ...  \n",
       "53598        3.51         21.04      unknown  street hail          Y  \n",
       "53599        2.00         29.40      unknown  street hail          Y  \n",
       "53600        0.00         40.50         Cash  street hail          N  \n",
       "53601        2.22         13.32  Credit card  street hail          N  \n",
       "53602        2.64         15.84  Credit card  street hail          N  \n",
       "\n",
       "[53603 rows x 19 columns]"
      ]
     },
     "execution_count": 95,
     "metadata": {},
     "output_type": "execute_result"
    }
   ],
   "source": [
    "df"
   ]
  },
  {
   "cell_type": "code",
   "execution_count": 96,
   "metadata": {},
   "outputs": [
    {
     "data": {
      "text/html": [
       "<div>\n",
       "<style scoped>\n",
       "    .dataframe tbody tr th:only-of-type {\n",
       "        vertical-align: middle;\n",
       "    }\n",
       "\n",
       "    .dataframe tbody tr th {\n",
       "        vertical-align: top;\n",
       "    }\n",
       "\n",
       "    .dataframe thead th {\n",
       "        text-align: right;\n",
       "    }\n",
       "</style>\n",
       "<table border=\"1\" class=\"dataframe\">\n",
       "  <thead>\n",
       "    <tr style=\"text-align: right;\">\n",
       "      <th></th>\n",
       "      <th>Column Name</th>\n",
       "      <th>Number of Unique</th>\n",
       "      <th>isna</th>\n",
       "      <th>dtype</th>\n",
       "      <th>Unique Sample</th>\n",
       "    </tr>\n",
       "  </thead>\n",
       "  <tbody>\n",
       "    <tr>\n",
       "      <th>0</th>\n",
       "      <td>PUdate</td>\n",
       "      <td>31</td>\n",
       "      <td>False</td>\n",
       "      <td>datetime64[ns]</td>\n",
       "      <td>[2023-01-01 00:00:00, 2023-01-02 00:00:00, 202...</td>\n",
       "    </tr>\n",
       "    <tr>\n",
       "      <th>1</th>\n",
       "      <td>DOdate</td>\n",
       "      <td>32</td>\n",
       "      <td>False</td>\n",
       "      <td>datetime64[ns]</td>\n",
       "      <td>[2023-01-01 00:00:00, 2023-01-02 00:00:00, 202...</td>\n",
       "    </tr>\n",
       "    <tr>\n",
       "      <th>2</th>\n",
       "      <td>PUtime</td>\n",
       "      <td>35268</td>\n",
       "      <td>False</td>\n",
       "      <td>object</td>\n",
       "      <td>[00:01:31, 00:04:25, 00:08:05, 00:08:43, 00:09...</td>\n",
       "    </tr>\n",
       "    <tr>\n",
       "      <th>3</th>\n",
       "      <td>DOtime</td>\n",
       "      <td>35434</td>\n",
       "      <td>False</td>\n",
       "      <td>object</td>\n",
       "      <td>[00:16:02, 00:17:50, 00:13:26, 00:17:08, 00:26...</td>\n",
       "    </tr>\n",
       "    <tr>\n",
       "      <th>4</th>\n",
       "      <td>day</td>\n",
       "      <td>7</td>\n",
       "      <td>False</td>\n",
       "      <td>object</td>\n",
       "      <td>[Sunday, Monday, Tuesday, Wednesday, Thursday,...</td>\n",
       "    </tr>\n",
       "    <tr>\n",
       "      <th>5</th>\n",
       "      <td>RatecodeID</td>\n",
       "      <td>5</td>\n",
       "      <td>False</td>\n",
       "      <td>object</td>\n",
       "      <td>[Standard rate, Negotiated fare, Newark Airpor...</td>\n",
       "    </tr>\n",
       "    <tr>\n",
       "      <th>6</th>\n",
       "      <td>PUzone</td>\n",
       "      <td>191</td>\n",
       "      <td>False</td>\n",
       "      <td>object</td>\n",
       "      <td>[Morningside Heights, Williamsburg (North Side...</td>\n",
       "    </tr>\n",
       "    <tr>\n",
       "      <th>7</th>\n",
       "      <td>PUborough</td>\n",
       "      <td>5</td>\n",
       "      <td>False</td>\n",
       "      <td>object</td>\n",
       "      <td>[Manhattan, Brooklyn, Queens, Bronx, Staten Is...</td>\n",
       "    </tr>\n",
       "    <tr>\n",
       "      <th>8</th>\n",
       "      <td>DOzone</td>\n",
       "      <td>241</td>\n",
       "      <td>False</td>\n",
       "      <td>object</td>\n",
       "      <td>[Washington Heights South, Long Island City/Qu...</td>\n",
       "    </tr>\n",
       "    <tr>\n",
       "      <th>9</th>\n",
       "      <td>DOborough</td>\n",
       "      <td>6</td>\n",
       "      <td>False</td>\n",
       "      <td>object</td>\n",
       "      <td>[Manhattan, Queens, Brooklyn, Bronx, Staten Is...</td>\n",
       "    </tr>\n",
       "    <tr>\n",
       "      <th>10</th>\n",
       "      <td>duration_min</td>\n",
       "      <td>2831</td>\n",
       "      <td>False</td>\n",
       "      <td>float64</td>\n",
       "      <td>[14.52, 13.42, 5.35, 8.42, 17.42, 8.87, 27.0, ...</td>\n",
       "    </tr>\n",
       "    <tr>\n",
       "      <th>11</th>\n",
       "      <td>passenger_count</td>\n",
       "      <td>4</td>\n",
       "      <td>False</td>\n",
       "      <td>float64</td>\n",
       "      <td>[1.0, 4.0, 2.0, 3.0]</td>\n",
       "    </tr>\n",
       "    <tr>\n",
       "      <th>12</th>\n",
       "      <td>trip_distance</td>\n",
       "      <td>1586</td>\n",
       "      <td>False</td>\n",
       "      <td>float64</td>\n",
       "      <td>[2.48, 2.8, 1.05, 1.99, 3.8, 1.3, 7.3, 1.88, 3...</td>\n",
       "    </tr>\n",
       "    <tr>\n",
       "      <th>13</th>\n",
       "      <td>fare_amount</td>\n",
       "      <td>2261</td>\n",
       "      <td>False</td>\n",
       "      <td>float64</td>\n",
       "      <td>[16.3, 5.5, 11.4, 19.1, 15.0, 25.5, 14.2, 6.5,...</td>\n",
       "    </tr>\n",
       "    <tr>\n",
       "      <th>14</th>\n",
       "      <td>tip_amount</td>\n",
       "      <td>1384</td>\n",
       "      <td>False</td>\n",
       "      <td>float64</td>\n",
       "      <td>[3.76, 2.8, 1.36, 3.33, 4.85, 0.0, 7.55, 1.7, ...</td>\n",
       "    </tr>\n",
       "    <tr>\n",
       "      <th>15</th>\n",
       "      <td>total_amount</td>\n",
       "      <td>4110</td>\n",
       "      <td>False</td>\n",
       "      <td>float64</td>\n",
       "      <td>[22.56, 21.6, 8.16, 19.98, 29.2, 15.0, 37.8, 1...</td>\n",
       "    </tr>\n",
       "    <tr>\n",
       "      <th>16</th>\n",
       "      <td>payment_type</td>\n",
       "      <td>4</td>\n",
       "      <td>False</td>\n",
       "      <td>object</td>\n",
       "      <td>[Credit card, Cash, unknown, Dispute]</td>\n",
       "    </tr>\n",
       "    <tr>\n",
       "      <th>17</th>\n",
       "      <td>trip_type</td>\n",
       "      <td>2</td>\n",
       "      <td>False</td>\n",
       "      <td>object</td>\n",
       "      <td>[street hail, dispatch]</td>\n",
       "    </tr>\n",
       "    <tr>\n",
       "      <th>18</th>\n",
       "      <td>congestion</td>\n",
       "      <td>2</td>\n",
       "      <td>False</td>\n",
       "      <td>object</td>\n",
       "      <td>[N, Y]</td>\n",
       "    </tr>\n",
       "  </tbody>\n",
       "</table>\n",
       "</div>"
      ],
      "text/plain": [
       "        Column Name  Number of Unique   isna           dtype  \\\n",
       "0            PUdate                31  False  datetime64[ns]   \n",
       "1            DOdate                32  False  datetime64[ns]   \n",
       "2            PUtime             35268  False          object   \n",
       "3            DOtime             35434  False          object   \n",
       "4               day                 7  False          object   \n",
       "5        RatecodeID                 5  False          object   \n",
       "6            PUzone               191  False          object   \n",
       "7         PUborough                 5  False          object   \n",
       "8            DOzone               241  False          object   \n",
       "9         DOborough                 6  False          object   \n",
       "10     duration_min              2831  False         float64   \n",
       "11  passenger_count                 4  False         float64   \n",
       "12    trip_distance              1586  False         float64   \n",
       "13      fare_amount              2261  False         float64   \n",
       "14       tip_amount              1384  False         float64   \n",
       "15     total_amount              4110  False         float64   \n",
       "16     payment_type                 4  False          object   \n",
       "17        trip_type                 2  False          object   \n",
       "18       congestion                 2  False          object   \n",
       "\n",
       "                                        Unique Sample  \n",
       "0   [2023-01-01 00:00:00, 2023-01-02 00:00:00, 202...  \n",
       "1   [2023-01-01 00:00:00, 2023-01-02 00:00:00, 202...  \n",
       "2   [00:01:31, 00:04:25, 00:08:05, 00:08:43, 00:09...  \n",
       "3   [00:16:02, 00:17:50, 00:13:26, 00:17:08, 00:26...  \n",
       "4   [Sunday, Monday, Tuesday, Wednesday, Thursday,...  \n",
       "5   [Standard rate, Negotiated fare, Newark Airpor...  \n",
       "6   [Morningside Heights, Williamsburg (North Side...  \n",
       "7   [Manhattan, Brooklyn, Queens, Bronx, Staten Is...  \n",
       "8   [Washington Heights South, Long Island City/Qu...  \n",
       "9   [Manhattan, Queens, Brooklyn, Bronx, Staten Is...  \n",
       "10  [14.52, 13.42, 5.35, 8.42, 17.42, 8.87, 27.0, ...  \n",
       "11                               [1.0, 4.0, 2.0, 3.0]  \n",
       "12  [2.48, 2.8, 1.05, 1.99, 3.8, 1.3, 7.3, 1.88, 3...  \n",
       "13  [16.3, 5.5, 11.4, 19.1, 15.0, 25.5, 14.2, 6.5,...  \n",
       "14  [3.76, 2.8, 1.36, 3.33, 4.85, 0.0, 7.55, 1.7, ...  \n",
       "15  [22.56, 21.6, 8.16, 19.98, 29.2, 15.0, 37.8, 1...  \n",
       "16              [Credit card, Cash, unknown, Dispute]  \n",
       "17                            [street hail, dispatch]  \n",
       "18                                             [N, Y]  "
      ]
     },
     "execution_count": 96,
     "metadata": {},
     "output_type": "execute_result"
    }
   ],
   "source": [
    "columnindex(df)"
   ]
  },
  {
   "cell_type": "code",
   "execution_count": 97,
   "metadata": {},
   "outputs": [
    {
     "name": "stdout",
     "output_type": "stream",
     "text": [
      "<class 'pandas.core.frame.DataFrame'>\n",
      "RangeIndex: 53603 entries, 0 to 53602\n",
      "Data columns (total 19 columns):\n",
      " #   Column           Non-Null Count  Dtype         \n",
      "---  ------           --------------  -----         \n",
      " 0   PUdate           53603 non-null  datetime64[ns]\n",
      " 1   DOdate           53603 non-null  datetime64[ns]\n",
      " 2   PUtime           53603 non-null  object        \n",
      " 3   DOtime           53603 non-null  object        \n",
      " 4   day              53603 non-null  object        \n",
      " 5   RatecodeID       53603 non-null  object        \n",
      " 6   PUzone           53603 non-null  object        \n",
      " 7   PUborough        53603 non-null  object        \n",
      " 8   DOzone           53603 non-null  object        \n",
      " 9   DOborough        53603 non-null  object        \n",
      " 10  duration_min     53603 non-null  float64       \n",
      " 11  passenger_count  53603 non-null  float64       \n",
      " 12  trip_distance    53603 non-null  float64       \n",
      " 13  fare_amount      53603 non-null  float64       \n",
      " 14  tip_amount       53603 non-null  float64       \n",
      " 15  total_amount     53603 non-null  float64       \n",
      " 16  payment_type     53603 non-null  object        \n",
      " 17  trip_type        53603 non-null  object        \n",
      " 18  congestion       53603 non-null  object        \n",
      "dtypes: datetime64[ns](2), float64(6), object(11)\n",
      "memory usage: 7.8+ MB\n"
     ]
    }
   ],
   "source": [
    "df.info()"
   ]
  },
  {
   "cell_type": "code",
   "execution_count": 98,
   "metadata": {},
   "outputs": [],
   "source": [
    "df.to_csv(r\"data/NYC TLC Trip Record (CLEAN).csv\", index = None, header=True)"
   ]
  }
 ],
 "metadata": {
  "kernelspec": {
   "display_name": "Python 3",
   "language": "python",
   "name": "python3"
  },
  "language_info": {
   "codemirror_mode": {
    "name": "ipython",
    "version": 3
   },
   "file_extension": ".py",
   "mimetype": "text/x-python",
   "name": "python",
   "nbconvert_exporter": "python",
   "pygments_lexer": "ipython3",
   "version": "3.11.4"
  }
 },
 "nbformat": 4,
 "nbformat_minor": 2
}
