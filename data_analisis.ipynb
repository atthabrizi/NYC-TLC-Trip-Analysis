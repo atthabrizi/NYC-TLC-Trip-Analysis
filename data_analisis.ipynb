{
 "cells": [
  {
   "cell_type": "markdown",
   "metadata": {},
   "source": [
    "# ***Data Analysis***\n",
    "***"
   ]
  },
  {
   "cell_type": "markdown",
   "metadata": {},
   "source": [
    "**Background**\n",
    "----\n",
    "\n",
    "As one of the busiest city in the world, NYC's street are synonymous with it's high-paced mobility. One of this traits are represented in the numerous quantity of public transportation, like subway, trems and buses, but the most iconic has to be the NYC's yellow taxi. These cabs are a testament to New York's inclusivity, welcoming passengers from all walks of life, from wall street executives to tourists navigating the city's concrete jungle streets.  Behind this armada of yellow automobile, there are regulators in the form of the Taxi and Limousine Commision (TLC), that oversees all the operations of the NYC taxi cabs.  \n"
   ]
  },
  {
   "cell_type": "markdown",
   "metadata": {},
   "source": [
    "**Problem Identification**\n",
    "------\n",
    "\n",
    "As one of the backbone of NYC's economics, public transportation is a dynamic and ever-evolving subject of the city's infrastructure. So continuous innovation and improvement of the public transportation system are crucial to meeting the needs of the city's residents and visitors. These taxi cabs are not just a public transportation, rather it is a representation of NYC's culture and diversity. However with the highly populated and never-ending urbanization. \n",
    "\n",
    "And as new products and iteration of these public transportations keeps on coming, TLC needs to innovate and maintain the high status and reputation of these green and yellow taxis by always innovating on their products and servies. \n",
    "\n",
    "The objective of this analysis is to provide insights that will empower the TLC and emerging taxi companies to better comprehend the demographics and behaviors of their service users, thus enabling more informed decision-making and continued service improvement"
   ]
  },
  {
   "cell_type": "markdown",
   "metadata": {},
   "source": [
    "**Limitations**\n",
    "------\n",
    "- This project's dataset are limited only to January 2023.\n",
    "- There are no further data about the individual demographic of each passengers.\n",
    "- There are no other public transportation datasets used as comparisons"
   ]
  },
  {
   "cell_type": "markdown",
   "metadata": {},
   "source": [
    "## About Data"
   ]
  },
  {
   "cell_type": "markdown",
   "metadata": {},
   "source": [
    "**Importing data**"
   ]
  },
  {
   "cell_type": "code",
   "execution_count": 94,
   "metadata": {},
   "outputs": [],
   "source": [
    "import pandas as pd\n",
    "import numpy as np\n",
    "import matplotlib.pyplot as plt\n",
    "import folium\n",
    "import seaborn as sns\n",
    "from scipy.stats import ttest_ind\n",
    "from scipy.stats import pearsonr\n",
    "import plotly.graph_objects as go\n",
    "import plotly.express as px\n",
    "from scipy import stats\n",
    "import warnings\n",
    "warnings.filterwarnings('ignore')"
   ]
  },
  {
   "cell_type": "markdown",
   "metadata": {},
   "source": [
    "***Data Understanding***\n",
    "\n",
    "These are the data of the trips recorded by the NYC TLC. Consisting the data of taxi trips in January of 2023.\n"
   ]
  },
  {
   "cell_type": "code",
   "execution_count": 95,
   "metadata": {},
   "outputs": [
    {
     "data": {
      "text/html": [
       "<div>\n",
       "<style scoped>\n",
       "    .dataframe tbody tr th:only-of-type {\n",
       "        vertical-align: middle;\n",
       "    }\n",
       "\n",
       "    .dataframe tbody tr th {\n",
       "        vertical-align: top;\n",
       "    }\n",
       "\n",
       "    .dataframe thead th {\n",
       "        text-align: right;\n",
       "    }\n",
       "</style>\n",
       "<table border=\"1\" class=\"dataframe\">\n",
       "  <thead>\n",
       "    <tr style=\"text-align: right;\">\n",
       "      <th></th>\n",
       "      <th>PUdate</th>\n",
       "      <th>DOdate</th>\n",
       "      <th>PUtime</th>\n",
       "      <th>DOtime</th>\n",
       "      <th>day</th>\n",
       "      <th>RatecodeID</th>\n",
       "      <th>PUzone</th>\n",
       "      <th>PUborough</th>\n",
       "      <th>DOzone</th>\n",
       "      <th>DOborough</th>\n",
       "      <th>duration_min</th>\n",
       "      <th>passenger_count</th>\n",
       "      <th>trip_distance</th>\n",
       "      <th>fare_amount</th>\n",
       "      <th>tip_amount</th>\n",
       "      <th>congestion</th>\n",
       "      <th>total_amount</th>\n",
       "      <th>payment_type</th>\n",
       "      <th>trip_type</th>\n",
       "    </tr>\n",
       "  </thead>\n",
       "  <tbody>\n",
       "    <tr>\n",
       "      <th>0</th>\n",
       "      <td>2023-01-01</td>\n",
       "      <td>2023-01-01</td>\n",
       "      <td>00:01:31</td>\n",
       "      <td>00:16:02</td>\n",
       "      <td>Sunday</td>\n",
       "      <td>Standard rate</td>\n",
       "      <td>Morningside Heights</td>\n",
       "      <td>Manhattan</td>\n",
       "      <td>Washington Heights South</td>\n",
       "      <td>Manhattan</td>\n",
       "      <td>14.52</td>\n",
       "      <td>1.0</td>\n",
       "      <td>2.48</td>\n",
       "      <td>16.3</td>\n",
       "      <td>3.76</td>\n",
       "      <td>0.0</td>\n",
       "      <td>22.56</td>\n",
       "      <td>Credit card</td>\n",
       "      <td>street hail</td>\n",
       "    </tr>\n",
       "    <tr>\n",
       "      <th>1</th>\n",
       "      <td>2023-01-01</td>\n",
       "      <td>2023-01-01</td>\n",
       "      <td>00:04:25</td>\n",
       "      <td>00:17:50</td>\n",
       "      <td>Sunday</td>\n",
       "      <td>Standard rate</td>\n",
       "      <td>Williamsburg (North Side)</td>\n",
       "      <td>Brooklyn</td>\n",
       "      <td>Long Island City/Queens Plaza</td>\n",
       "      <td>Queens</td>\n",
       "      <td>13.42</td>\n",
       "      <td>1.0</td>\n",
       "      <td>2.80</td>\n",
       "      <td>16.3</td>\n",
       "      <td>2.80</td>\n",
       "      <td>0.0</td>\n",
       "      <td>21.60</td>\n",
       "      <td>Credit card</td>\n",
       "      <td>street hail</td>\n",
       "    </tr>\n",
       "    <tr>\n",
       "      <th>2</th>\n",
       "      <td>2023-01-01</td>\n",
       "      <td>2023-01-01</td>\n",
       "      <td>00:08:05</td>\n",
       "      <td>00:13:26</td>\n",
       "      <td>Sunday</td>\n",
       "      <td>Standard rate</td>\n",
       "      <td>Central Harlem</td>\n",
       "      <td>Manhattan</td>\n",
       "      <td>East Harlem South</td>\n",
       "      <td>Manhattan</td>\n",
       "      <td>5.35</td>\n",
       "      <td>4.0</td>\n",
       "      <td>1.05</td>\n",
       "      <td>5.5</td>\n",
       "      <td>1.36</td>\n",
       "      <td>0.0</td>\n",
       "      <td>8.16</td>\n",
       "      <td>Credit card</td>\n",
       "      <td>street hail</td>\n",
       "    </tr>\n",
       "    <tr>\n",
       "      <th>3</th>\n",
       "      <td>2023-01-01</td>\n",
       "      <td>2023-01-01</td>\n",
       "      <td>00:08:43</td>\n",
       "      <td>00:17:08</td>\n",
       "      <td>Sunday</td>\n",
       "      <td>Standard rate</td>\n",
       "      <td>East Harlem South</td>\n",
       "      <td>Manhattan</td>\n",
       "      <td>Lenox Hill East</td>\n",
       "      <td>Manhattan</td>\n",
       "      <td>8.42</td>\n",
       "      <td>1.0</td>\n",
       "      <td>1.99</td>\n",
       "      <td>11.4</td>\n",
       "      <td>3.33</td>\n",
       "      <td>1.0</td>\n",
       "      <td>19.98</td>\n",
       "      <td>Credit card</td>\n",
       "      <td>street hail</td>\n",
       "    </tr>\n",
       "    <tr>\n",
       "      <th>4</th>\n",
       "      <td>2023-01-01</td>\n",
       "      <td>2023-01-01</td>\n",
       "      <td>00:09:14</td>\n",
       "      <td>00:26:39</td>\n",
       "      <td>Sunday</td>\n",
       "      <td>Standard rate</td>\n",
       "      <td>Park Slope</td>\n",
       "      <td>Brooklyn</td>\n",
       "      <td>Chinatown</td>\n",
       "      <td>Manhattan</td>\n",
       "      <td>17.42</td>\n",
       "      <td>2.0</td>\n",
       "      <td>3.80</td>\n",
       "      <td>19.1</td>\n",
       "      <td>4.85</td>\n",
       "      <td>1.0</td>\n",
       "      <td>29.20</td>\n",
       "      <td>Credit card</td>\n",
       "      <td>street hail</td>\n",
       "    </tr>\n",
       "  </tbody>\n",
       "</table>\n",
       "</div>"
      ],
      "text/plain": [
       "       PUdate      DOdate    PUtime    DOtime     day     RatecodeID  \\\n",
       "0  2023-01-01  2023-01-01  00:01:31  00:16:02  Sunday  Standard rate   \n",
       "1  2023-01-01  2023-01-01  00:04:25  00:17:50  Sunday  Standard rate   \n",
       "2  2023-01-01  2023-01-01  00:08:05  00:13:26  Sunday  Standard rate   \n",
       "3  2023-01-01  2023-01-01  00:08:43  00:17:08  Sunday  Standard rate   \n",
       "4  2023-01-01  2023-01-01  00:09:14  00:26:39  Sunday  Standard rate   \n",
       "\n",
       "                      PUzone  PUborough                         DOzone  \\\n",
       "0        Morningside Heights  Manhattan       Washington Heights South   \n",
       "1  Williamsburg (North Side)   Brooklyn  Long Island City/Queens Plaza   \n",
       "2             Central Harlem  Manhattan              East Harlem South   \n",
       "3          East Harlem South  Manhattan                Lenox Hill East   \n",
       "4                 Park Slope   Brooklyn                      Chinatown   \n",
       "\n",
       "   DOborough  duration_min  passenger_count  trip_distance  fare_amount  \\\n",
       "0  Manhattan         14.52              1.0           2.48         16.3   \n",
       "1     Queens         13.42              1.0           2.80         16.3   \n",
       "2  Manhattan          5.35              4.0           1.05          5.5   \n",
       "3  Manhattan          8.42              1.0           1.99         11.4   \n",
       "4  Manhattan         17.42              2.0           3.80         19.1   \n",
       "\n",
       "   tip_amount  congestion  total_amount payment_type    trip_type  \n",
       "0        3.76         0.0         22.56  Credit card  street hail  \n",
       "1        2.80         0.0         21.60  Credit card  street hail  \n",
       "2        1.36         0.0          8.16  Credit card  street hail  \n",
       "3        3.33         1.0         19.98  Credit card  street hail  \n",
       "4        4.85         1.0         29.20  Credit card  street hail  "
      ]
     },
     "execution_count": 95,
     "metadata": {},
     "output_type": "execute_result"
    }
   ],
   "source": [
    "df = pd.read_csv('data/NYC TLC Trip Record (CLEAN).csv')\n",
    "df.head()"
   ]
  },
  {
   "cell_type": "markdown",
   "metadata": {},
   "source": [
    "- `PUdate`: The date on which the taxi trip was picked up.\n",
    "- `DOdate`: The date on which the taxi trip was dropped off.\n",
    "- `PUtime`: The time of day (hours) the taxi trip was picked up.\n",
    "- `DOtime`: The time of day (hours) the taxi trip was dropped off.\n",
    "- `day`: The day in which the taxi trip occurred.\n",
    "- `RatecodeID`: The rate code or payment rate used for the taxi trip.\n",
    "- `PUzone`: The specific pickup zone or location where the passenger was picked up.\n",
    "- `PUborough`: The borough of NYC where the pickup occurred.\n",
    "- `DOzone`: The specific dropoff zone or location where the passenger was dropped off.\n",
    "- `DOborough`: The borough of NYC where the dropoff occurred.\n",
    "- `duration_min`: The duration (minutes) of the taxi trip.\n",
    "- `passenger_count`: The number of passengers in the taxi.\n",
    "- `trip_distance`: The distance traveled (miles) during the taxi trip.\n",
    "- `fare_amount`: The base fare amount charged for the taxi trip.\n",
    "- `tip_amount`: The amount of tip or gratuity added to the fare by the passenger.\n",
    "- `congestion`: Represent a measure of traffic congestion during the trip.\n",
    "- `total_amount`: The total cost of the taxi trip, including the base fare, additional charges, and tips.\n",
    "- `payment_type`: The method of payment used for the taxi trip (does not include cash tip)\n",
    "- `trip_type`: A code indicating whether the trip was a street hail or a dispatch that is automatically assigned based on the metered rate in use but can be altered by the driver."
   ]
  },
  {
   "cell_type": "code",
   "execution_count": 96,
   "metadata": {},
   "outputs": [],
   "source": [
    "# reformatting these columns to datetime format\n",
    "df = df.astype({\n",
    "    'PUtime': 'datetime64[s]',\n",
    "    'PUdate': 'datetime64[s]',\n",
    "    'DOtime': 'datetime64[s]',\n",
    "    'DOdate': 'datetime64[s]'})\n",
    "\n",
    "# making new supporting columns for analysis\n",
    "df['weekday/end'] = np.where(df['day'].isin(['Saturday','Sunday']),'Weekend','Weekday')\n",
    "df['hour'] = df['PUtime'].dt.hour\n",
    "df['other_fare'] = df['total_amount'] - (df['tip_amount'] + df['fare_amount'])\n",
    "df['tip%'] = (df['tip_amount'] / df['total_amount']) * 100 # tip % to total amount\""
   ]
  },
  {
   "cell_type": "markdown",
   "metadata": {},
   "source": [
    "- `hour`: the hour of the day.\n",
    "- `weekday/end`: Whether the trip was done in Weekday or Weekend.\n",
    "- `other_fare`: The extra cost of taxi trips that are charged (tax, toll  and extra charges)\n",
    "- `tip%`: Tip amount ratio to total amount"
   ]
  },
  {
   "cell_type": "markdown",
   "metadata": {},
   "source": [
    "**To know more about the data you can read the pdf file in `guidelines\\Guideline.pdf`**"
   ]
  },
  {
   "cell_type": "markdown",
   "metadata": {},
   "source": [
    "*supporting variables*"
   ]
  },
  {
   "cell_type": "code",
   "execution_count": 97,
   "metadata": {},
   "outputs": [],
   "source": [
    "# sorting list for categorical datas\n",
    "boroughsFull = ['Manhattan', 'Brooklyn', 'Queens', 'Bronx','Staten Island', 'EWR']\n",
    "df['DOborough'] = pd.Categorical(df['DOborough'], categories=boroughsFull, ordered=True)\n",
    "df['PUborough'] = pd.Categorical(df['PUborough'], categories=boroughsFull, ordered=True)\n",
    "boroughs = ['Manhattan', 'Brooklyn', 'Queens', 'Bronx']\n",
    "viridis = plt.cm.viridis(np.linspace(0, 1, 6))\n",
    "lengthsorted = ['Very Short','Short','Medium','Long','Very Long'] \n",
    "classsorted = ['Cash','No tip','Modest','Moderate','Generous','Very Generous']\n",
    "daysorted = ['Monday','Tuesday','Wednesday','Thursday','Friday','Saturday','Sunday']"
   ]
  },
  {
   "cell_type": "markdown",
   "metadata": {},
   "source": [
    "## **Data Analysis** "
   ]
  },
  {
   "cell_type": "markdown",
   "metadata": {},
   "source": [
    "### ***NYC's Culture Towards Taxi Rides***\n",
    "\n",
    "New York City are a very large state consisting of very diverse number of people, NYC are made up of 5 major borough that is Manhattan, Brooklyn, Queens, the Bronx and Staten Island. Separated by sprawling urban landscapes and meandering rivers, these boroughs have their own society, culture and stereotypes. These unique cultural differences plays a pivotal role in unraveling the approach of these New Yorker when it comes to their habit of public trasportarion.\n",
    "\n",
    "[About NYC's boroughs](https://www.pods.com/blog/nyc-moving-guide-the-new-york-city-boroughs-explained)"
   ]
  },
  {
   "cell_type": "code",
   "execution_count": 98,
   "metadata": {},
   "outputs": [
    {
     "data": {
      "text/html": [
       "<div style=\"width:100%;\"><div style=\"position:relative;width:100%;height:0;padding-bottom:60%;\"><span style=\"color:#565656\">Make this Notebook Trusted to load map: File -> Trust Notebook</span><iframe srcdoc=\"&lt;!DOCTYPE html&gt;\n",
       "&lt;html&gt;\n",
       "&lt;head&gt;\n",
       "    \n",
       "    &lt;meta http-equiv=&quot;content-type&quot; content=&quot;text/html; charset=UTF-8&quot; /&gt;\n",
       "    \n",
       "        &lt;script&gt;\n",
       "            L_NO_TOUCH = false;\n",
       "            L_DISABLE_3D = false;\n",
       "        &lt;/script&gt;\n",
       "    \n",
       "    &lt;style&gt;html, body {width: 100%;height: 100%;margin: 0;padding: 0;}&lt;/style&gt;\n",
       "    &lt;style&gt;#map {position:absolute;top:0;bottom:0;right:0;left:0;}&lt;/style&gt;\n",
       "    &lt;script src=&quot;https://cdn.jsdelivr.net/npm/leaflet@1.9.3/dist/leaflet.js&quot;&gt;&lt;/script&gt;\n",
       "    &lt;script src=&quot;https://code.jquery.com/jquery-1.12.4.min.js&quot;&gt;&lt;/script&gt;\n",
       "    &lt;script src=&quot;https://cdn.jsdelivr.net/npm/bootstrap@5.2.2/dist/js/bootstrap.bundle.min.js&quot;&gt;&lt;/script&gt;\n",
       "    &lt;script src=&quot;https://cdnjs.cloudflare.com/ajax/libs/Leaflet.awesome-markers/2.0.2/leaflet.awesome-markers.js&quot;&gt;&lt;/script&gt;\n",
       "    &lt;link rel=&quot;stylesheet&quot; href=&quot;https://cdn.jsdelivr.net/npm/leaflet@1.9.3/dist/leaflet.css&quot;/&gt;\n",
       "    &lt;link rel=&quot;stylesheet&quot; href=&quot;https://cdn.jsdelivr.net/npm/bootstrap@5.2.2/dist/css/bootstrap.min.css&quot;/&gt;\n",
       "    &lt;link rel=&quot;stylesheet&quot; href=&quot;https://netdna.bootstrapcdn.com/bootstrap/3.0.0/css/bootstrap.min.css&quot;/&gt;\n",
       "    &lt;link rel=&quot;stylesheet&quot; href=&quot;https://cdn.jsdelivr.net/npm/@fortawesome/fontawesome-free@6.2.0/css/all.min.css&quot;/&gt;\n",
       "    &lt;link rel=&quot;stylesheet&quot; href=&quot;https://cdnjs.cloudflare.com/ajax/libs/Leaflet.awesome-markers/2.0.2/leaflet.awesome-markers.css&quot;/&gt;\n",
       "    &lt;link rel=&quot;stylesheet&quot; href=&quot;https://cdn.jsdelivr.net/gh/python-visualization/folium/folium/templates/leaflet.awesome.rotate.min.css&quot;/&gt;\n",
       "    \n",
       "            &lt;meta name=&quot;viewport&quot; content=&quot;width=device-width,\n",
       "                initial-scale=1.0, maximum-scale=1.0, user-scalable=no&quot; /&gt;\n",
       "            &lt;style&gt;\n",
       "                #map_5c9d68688ddf9b12227a3c6307fa43bd {\n",
       "                    position: relative;\n",
       "                    width: 100.0%;\n",
       "                    height: 100.0%;\n",
       "                    left: 0.0%;\n",
       "                    top: 0.0%;\n",
       "                }\n",
       "                .leaflet-container { font-size: 1rem; }\n",
       "            &lt;/style&gt;\n",
       "        \n",
       "&lt;/head&gt;\n",
       "&lt;body&gt;\n",
       "    \n",
       "    \n",
       "            &lt;div class=&quot;folium-map&quot; id=&quot;map_5c9d68688ddf9b12227a3c6307fa43bd&quot; &gt;&lt;/div&gt;\n",
       "        \n",
       "&lt;/body&gt;\n",
       "&lt;script&gt;\n",
       "    \n",
       "    \n",
       "            var map_5c9d68688ddf9b12227a3c6307fa43bd = L.map(\n",
       "                &quot;map_5c9d68688ddf9b12227a3c6307fa43bd&quot;,\n",
       "                {\n",
       "                    center: [40.7128, -74.006],\n",
       "                    crs: L.CRS.EPSG3857,\n",
       "                    zoom: 11,\n",
       "                    zoomControl: true,\n",
       "                    preferCanvas: false,\n",
       "                }\n",
       "            );\n",
       "\n",
       "            \n",
       "\n",
       "        \n",
       "    \n",
       "            var tile_layer_db3bc6892d708913f1fa9d3fb06b499f = L.tileLayer(\n",
       "                &quot;https://{s}.tile.openstreetmap.org/{z}/{x}/{y}.png&quot;,\n",
       "                {&quot;attribution&quot;: &quot;Data by \\u0026copy; \\u003ca target=\\&quot;_blank\\&quot; href=\\&quot;http://openstreetmap.org\\&quot;\\u003eOpenStreetMap\\u003c/a\\u003e, under \\u003ca target=\\&quot;_blank\\&quot; href=\\&quot;http://www.openstreetmap.org/copyright\\&quot;\\u003eODbL\\u003c/a\\u003e.&quot;, &quot;detectRetina&quot;: false, &quot;maxNativeZoom&quot;: 18, &quot;maxZoom&quot;: 18, &quot;minZoom&quot;: 0, &quot;noWrap&quot;: false, &quot;opacity&quot;: 1, &quot;subdomains&quot;: &quot;abc&quot;, &quot;tms&quot;: false}\n",
       "            ).addTo(map_5c9d68688ddf9b12227a3c6307fa43bd);\n",
       "        \n",
       "    \n",
       "            var marker_0fbfbab55bdb0f8118551c8a11011357 = L.marker(\n",
       "                [40.7831, -73.9712],\n",
       "                {}\n",
       "            ).addTo(map_5c9d68688ddf9b12227a3c6307fa43bd);\n",
       "        \n",
       "    \n",
       "            var icon_38ea61a2f46cf7080676eb309dd4c5aa = L.AwesomeMarkers.icon(\n",
       "                {&quot;extraClasses&quot;: &quot;fa-rotate-0&quot;, &quot;icon&quot;: &quot;info-sign&quot;, &quot;iconColor&quot;: &quot;white&quot;, &quot;markerColor&quot;: &quot;red&quot;, &quot;prefix&quot;: &quot;glyphicon&quot;}\n",
       "            );\n",
       "            marker_0fbfbab55bdb0f8118551c8a11011357.setIcon(icon_38ea61a2f46cf7080676eb309dd4c5aa);\n",
       "        \n",
       "    \n",
       "        var popup_0e701dd0192e0118090413972cff91ba = L.popup({&quot;maxWidth&quot;: &quot;100%&quot;});\n",
       "\n",
       "        \n",
       "            \n",
       "                var html_366463589dfff18b26dbf7372bd521fd = $(`&lt;div id=&quot;html_366463589dfff18b26dbf7372bd521fd&quot; style=&quot;width: 100.0%; height: 100.0%;&quot;&gt;Manhattan&lt;/div&gt;`)[0];\n",
       "                popup_0e701dd0192e0118090413972cff91ba.setContent(html_366463589dfff18b26dbf7372bd521fd);\n",
       "            \n",
       "        \n",
       "\n",
       "        marker_0fbfbab55bdb0f8118551c8a11011357.bindPopup(popup_0e701dd0192e0118090413972cff91ba)\n",
       "        ;\n",
       "\n",
       "        \n",
       "    \n",
       "    \n",
       "            var marker_cbc80f7e0fa5a4e5ade1d3274b97ec2d = L.marker(\n",
       "                [40.6782, -73.9442],\n",
       "                {}\n",
       "            ).addTo(map_5c9d68688ddf9b12227a3c6307fa43bd);\n",
       "        \n",
       "    \n",
       "            var icon_46117e188067b68a17e4f7759ea7df70 = L.AwesomeMarkers.icon(\n",
       "                {&quot;extraClasses&quot;: &quot;fa-rotate-0&quot;, &quot;icon&quot;: &quot;info-sign&quot;, &quot;iconColor&quot;: &quot;white&quot;, &quot;markerColor&quot;: &quot;blue&quot;, &quot;prefix&quot;: &quot;glyphicon&quot;}\n",
       "            );\n",
       "            marker_cbc80f7e0fa5a4e5ade1d3274b97ec2d.setIcon(icon_46117e188067b68a17e4f7759ea7df70);\n",
       "        \n",
       "    \n",
       "        var popup_f9ceb97f02a5a063b1e6497091e46fc4 = L.popup({&quot;maxWidth&quot;: &quot;100%&quot;});\n",
       "\n",
       "        \n",
       "            \n",
       "                var html_afde512a15b6e5a377935474f9bd1ec1 = $(`&lt;div id=&quot;html_afde512a15b6e5a377935474f9bd1ec1&quot; style=&quot;width: 100.0%; height: 100.0%;&quot;&gt;Brooklyn&lt;/div&gt;`)[0];\n",
       "                popup_f9ceb97f02a5a063b1e6497091e46fc4.setContent(html_afde512a15b6e5a377935474f9bd1ec1);\n",
       "            \n",
       "        \n",
       "\n",
       "        marker_cbc80f7e0fa5a4e5ade1d3274b97ec2d.bindPopup(popup_f9ceb97f02a5a063b1e6497091e46fc4)\n",
       "        ;\n",
       "\n",
       "        \n",
       "    \n",
       "    \n",
       "            var marker_f1d766e7fb9a3aa22b8dd6a5b94b8bda = L.marker(\n",
       "                [40.7282, -73.7949],\n",
       "                {}\n",
       "            ).addTo(map_5c9d68688ddf9b12227a3c6307fa43bd);\n",
       "        \n",
       "    \n",
       "            var icon_ad1350c84432247b052cdc454a96085b = L.AwesomeMarkers.icon(\n",
       "                {&quot;extraClasses&quot;: &quot;fa-rotate-0&quot;, &quot;icon&quot;: &quot;info-sign&quot;, &quot;iconColor&quot;: &quot;white&quot;, &quot;markerColor&quot;: &quot;green&quot;, &quot;prefix&quot;: &quot;glyphicon&quot;}\n",
       "            );\n",
       "            marker_f1d766e7fb9a3aa22b8dd6a5b94b8bda.setIcon(icon_ad1350c84432247b052cdc454a96085b);\n",
       "        \n",
       "    \n",
       "        var popup_c8c77eab5e217fad2a727142bc5b8d4f = L.popup({&quot;maxWidth&quot;: &quot;100%&quot;});\n",
       "\n",
       "        \n",
       "            \n",
       "                var html_3c8b752ac00d071cce28d5475c45404c = $(`&lt;div id=&quot;html_3c8b752ac00d071cce28d5475c45404c&quot; style=&quot;width: 100.0%; height: 100.0%;&quot;&gt;Queens&lt;/div&gt;`)[0];\n",
       "                popup_c8c77eab5e217fad2a727142bc5b8d4f.setContent(html_3c8b752ac00d071cce28d5475c45404c);\n",
       "            \n",
       "        \n",
       "\n",
       "        marker_f1d766e7fb9a3aa22b8dd6a5b94b8bda.bindPopup(popup_c8c77eab5e217fad2a727142bc5b8d4f)\n",
       "        ;\n",
       "\n",
       "        \n",
       "    \n",
       "    \n",
       "            var marker_07bcd0191048ca69b27a51c16642f55d = L.marker(\n",
       "                [40.8448, -73.8648],\n",
       "                {}\n",
       "            ).addTo(map_5c9d68688ddf9b12227a3c6307fa43bd);\n",
       "        \n",
       "    \n",
       "            var icon_58c61fa5b9335c35d1b760f689699991 = L.AwesomeMarkers.icon(\n",
       "                {&quot;extraClasses&quot;: &quot;fa-rotate-0&quot;, &quot;icon&quot;: &quot;info-sign&quot;, &quot;iconColor&quot;: &quot;white&quot;, &quot;markerColor&quot;: &quot;purple&quot;, &quot;prefix&quot;: &quot;glyphicon&quot;}\n",
       "            );\n",
       "            marker_07bcd0191048ca69b27a51c16642f55d.setIcon(icon_58c61fa5b9335c35d1b760f689699991);\n",
       "        \n",
       "    \n",
       "        var popup_2015e4e098967db9088d6fbc3c3079ff = L.popup({&quot;maxWidth&quot;: &quot;100%&quot;});\n",
       "\n",
       "        \n",
       "            \n",
       "                var html_59df96769154275f787c5859f58f87ff = $(`&lt;div id=&quot;html_59df96769154275f787c5859f58f87ff&quot; style=&quot;width: 100.0%; height: 100.0%;&quot;&gt;The Bronx&lt;/div&gt;`)[0];\n",
       "                popup_2015e4e098967db9088d6fbc3c3079ff.setContent(html_59df96769154275f787c5859f58f87ff);\n",
       "            \n",
       "        \n",
       "\n",
       "        marker_07bcd0191048ca69b27a51c16642f55d.bindPopup(popup_2015e4e098967db9088d6fbc3c3079ff)\n",
       "        ;\n",
       "\n",
       "        \n",
       "    \n",
       "    \n",
       "            var marker_d40134545dac4ba6ac9bcdf5e4562077 = L.marker(\n",
       "                [40.5795, -74.1502],\n",
       "                {}\n",
       "            ).addTo(map_5c9d68688ddf9b12227a3c6307fa43bd);\n",
       "        \n",
       "    \n",
       "            var icon_7daa806c5b872262678d0b9a61eeed40 = L.AwesomeMarkers.icon(\n",
       "                {&quot;extraClasses&quot;: &quot;fa-rotate-0&quot;, &quot;icon&quot;: &quot;info-sign&quot;, &quot;iconColor&quot;: &quot;white&quot;, &quot;markerColor&quot;: &quot;orange&quot;, &quot;prefix&quot;: &quot;glyphicon&quot;}\n",
       "            );\n",
       "            marker_d40134545dac4ba6ac9bcdf5e4562077.setIcon(icon_7daa806c5b872262678d0b9a61eeed40);\n",
       "        \n",
       "    \n",
       "        var popup_098bfd434e1b9385adc805b0bc815d04 = L.popup({&quot;maxWidth&quot;: &quot;100%&quot;});\n",
       "\n",
       "        \n",
       "            \n",
       "                var html_987f6943191f9f007c85eafebca02c7c = $(`&lt;div id=&quot;html_987f6943191f9f007c85eafebca02c7c&quot; style=&quot;width: 100.0%; height: 100.0%;&quot;&gt;Staten Island&lt;/div&gt;`)[0];\n",
       "                popup_098bfd434e1b9385adc805b0bc815d04.setContent(html_987f6943191f9f007c85eafebca02c7c);\n",
       "            \n",
       "        \n",
       "\n",
       "        marker_d40134545dac4ba6ac9bcdf5e4562077.bindPopup(popup_098bfd434e1b9385adc805b0bc815d04)\n",
       "        ;\n",
       "\n",
       "        \n",
       "    \n",
       "&lt;/script&gt;\n",
       "&lt;/html&gt;\" style=\"position:absolute;width:100%;height:100%;left:0;top:0;border:none !important;\" allowfullscreen webkitallowfullscreen mozallowfullscreen></iframe></div></div>"
      ],
      "text/plain": [
       "<folium.folium.Map at 0x27183b33e90>"
      ]
     },
     "execution_count": 98,
     "metadata": {},
     "output_type": "execute_result"
    }
   ],
   "source": [
    "nyc_map = folium.Map(location=[40.7128, -74.0060], zoom_start=11)\n",
    "boroughsloc = {\n",
    "    'Manhattan': {'location': [40.7831, -73.9712]},\n",
    "    'Brooklyn': {'location': [40.6782, -73.9442]},\n",
    "    'Queens': {'location': [40.7282, -73.7949]},\n",
    "    'The Bronx': {'location': [40.8448, -73.8648]},\n",
    "    'Staten Island': {'location': [40.5795, -74.1502]}\n",
    "}\n",
    "\n",
    "colors = ['red', 'blue', 'green', 'purple', 'orange']\n",
    "for i, (borough, data) in enumerate(boroughsloc.items()):\n",
    "    folium.Marker(\n",
    "        location=data['location'],\n",
    "        popup=borough,\n",
    "        icon=folium.Icon(color=colors[i])\n",
    "    ).add_to(nyc_map)\n",
    "\n",
    "nyc_map\n"
   ]
  },
  {
   "cell_type": "markdown",
   "metadata": {},
   "source": [
    "\n",
    "**First let's take a look at their proportion of total trips**, this will show how much each borough contributes to the total of taxi trips pickups in their areas"
   ]
  },
  {
   "cell_type": "code",
   "execution_count": 99,
   "metadata": {},
   "outputs": [
    {
     "data": {
      "image/png": "[encoded data removed]",
      "text/plain": [
       "<Figure size 600x600 with 1 Axes>"
      ]
     },
     "metadata": {},
     "output_type": "display_data"
    }
   ],
   "source": [
    "# grouping trips by borough\n",
    "tripsbyborough = pd.DataFrame(df.groupby(by=['PUborough', 'DOborough'])['PUdate'].count().reset_index())\n",
    "tripsbyborough = tripsbyborough.rename(columns={'PUdate': 'total trips'})\n",
    "tripsbyborough = tripsbyborough.groupby(by='PUborough')['total trips'].sum().to_frame()\n",
    "total_trips = tripsbyborough['total trips']\n",
    "\n",
    "\n",
    "# filtering the autopct, so that only the top 3 value are shown\n",
    "largest_indices = sorted(range(len(total_trips)), key=lambda i: total_trips[i], reverse=True)[:3]\n",
    "autopct_labels = ['%1.1f%%' % (val / sum(total_trips) * 100) if i in largest_indices else '' for i, val in enumerate(total_trips)]\n",
    "\n",
    "# creating a pie chart\n",
    "plt.figure(figsize=(6, 6))\n",
    "plt.pie(tripsbyborough['total trips'], \n",
    "autopct=lambda x: autopct_labels.pop(0), \n",
    "# autopct='%1.2f%%',\n",
    "startangle=140, pctdistance=0.75, textprops={'color': 'white'}, \n",
    "colors=viridis, explode=[0.05]*len(tripsbyborough))\n",
    "plt.title('Proportion of Total Trips by Borough', fontsize=18)\n",
    "\n",
    "# adding center circle\n",
    "fig = plt.gcf()\n",
    "centre_circle = plt.Circle((0,0), 0.5, fc='white')\n",
    "fig.gca().add_artist(centre_circle)\n",
    "plt.tight_layout()\n",
    "\n",
    "plt.legend(labels=tripsbyborough.index, loc='lower right')\n",
    "plt.show()"
   ]
  },
  {
   "cell_type": "markdown",
   "metadata": {},
   "source": [
    "**From this graphic we can conclude:**\n",
    "- Taxi trips in NYC are not very well distributed in every boroughs.\n",
    "- More than half of the taxi trips recorded are from Manhattan (58.6%).\n",
    "- These proportions are followed by Queens (26.2%) and Brooklyn (13.5%) with a significant decrease.\n",
    "- Staten Island (0.02%) and Bronx (1.65%) does not contribute much taxi trips in NYC."
   ]
  },
  {
   "cell_type": "markdown",
   "metadata": {},
   "source": [
    "\n",
    "**Analyzing NYC Fare Revenue Distribution**, this will show how much each borough contributes to the total fare revenue of taxi trips in their areas."
   ]
  },
  {
   "cell_type": "code",
   "execution_count": 100,
   "metadata": {},
   "outputs": [],
   "source": [
    "# Grouping fare amount by Borough\n",
    "farebyborough = pd.DataFrame(df.groupby(by=['PUborough', 'DOborough'])['fare_amount'].sum())\n",
    "farebyborough = farebyborough.rename(columns={'fare_amount': 'fare value'})\n",
    "\n",
    "farebyboroughAll =  farebyborough.groupby(by='PUborough')['fare value'].sum().to_frame().reset_index()"
   ]
  },
  {
   "cell_type": "code",
   "execution_count": 101,
   "metadata": {},
   "outputs": [
    {
     "data": {
      "text/plain": [
       "<function matplotlib.pyplot.show(close=None, block=None)>"
      ]
     },
     "execution_count": 101,
     "metadata": {},
     "output_type": "execute_result"
    },
    {
     "data": {
      "image/png": "[encoded data removed]",
      "text/plain": [
       "<Figure size 1600x600 with 2 Axes>"
      ]
     },
     "metadata": {},
     "output_type": "display_data"
    }
   ],
   "source": [
    "# making a  subplots of NYC fare datas\n",
    "fig, axes = plt.subplots(1, 2, figsize=(16, 6), gridspec_kw={'width_ratios': [1.5, 1]})\n",
    "plt.suptitle('NYC Taxi Fare Revenue Distribution and Total Amount',size=17)\n",
    "\n",
    "fare_value = farebyboroughAll['fare value']\n",
    "PUborough = farebyboroughAll['PUborough']\n",
    "\n",
    "# \n",
    "largest = sorted(range(len(fare_value)), key=lambda i: fare_value[i], reverse=True)[:3]\n",
    "autopct= ['%1.1f%%' % (val / sum(fare_value) * 100) if i in largest else '' for i, val in enumerate(fare_value)]\n",
    "explode = [0.02] * len(farebyboroughAll)\n",
    "\n",
    "# pie chart to show the distribution\n",
    "axes[1].pie(fare_value, labels=PUborough, autopct=lambda x: autopct.pop(0), startangle=140, colors=viridis, explode=explode,  textprops={'color': 'white', 'fontsize': 12})\n",
    "axes[1].axis('equal')\n",
    "axes[1].set_title('Total Fare Value by Pickup Boroughs')\n",
    "\n",
    "# farebyborough = farebyborough[farebyborough.index != 'EWR']\n",
    "pivoted = farebyborough.pivot_table(index='PUborough', columns='DOborough', values='fare value', aggfunc='sum', fill_value=0)\n",
    "pivoted.drop(index=['EWR','Staten Island'], inplace=True) # dropping EWR and Staten Island because the value proportion are too low to visualize\n",
    "# stacked bar chart show the fare proportion from each destination borough \n",
    "pivoted.plot(kind='bar', stacked=True, ax=axes[0], color=viridis)\n",
    "\n",
    "# Customize the chart\n",
    "axes[0].set_xlabel('Pick-Up Borough')\n",
    "axes[0].set_ylabel('Fare Value')\n",
    "axes[0].set_title('Fare Value by Drop-Off Boroughs')\n",
    "axes[0].legend(title='Drop-Off Borough')\n",
    "\n",
    "plt.tight_layout()\n",
    "plt.show\n"
   ]
  },
  {
   "cell_type": "markdown",
   "metadata": {},
   "source": [
    "**From this graphic we can conclude:**\n",
    "- Linear to the total trips, Manhattan still holds the most contribution to the fare revenue generated by this taxi trips.\n",
    "- Brooklyn's proportion towards the fare revenue increases by (2.6%) from the total trips.\n",
    "- Most of these trips are done intra-district, meaning that the trips are more likely to occur inside the same borough.\n",
    "- Brooklyn has a larger contribution of inter-district travels, mainly towards Manhattan.\n",
    "- Manhattan has the most significance in terms of being a inter-city trips destinations."
   ]
  },
  {
   "cell_type": "markdown",
   "metadata": {},
   "source": [
    "\n",
    "**Pickup to Dropoff Ratio**, this ratio will show for each borough, how many people are going in and out using taxis."
   ]
  },
  {
   "cell_type": "code",
   "execution_count": 102,
   "metadata": {},
   "outputs": [
    {
     "data": {
      "text/plain": [
       "<Figure size 500x500 with 0 Axes>"
      ]
     },
     "metadata": {},
     "output_type": "display_data"
    },
    {
     "data": {
      "image/png": "[encoded data removed]",
      "text/plain": [
       "<Figure size 640x480 with 1 Axes>"
      ]
     },
     "metadata": {},
     "output_type": "display_data"
    }
   ],
   "source": [
    "# Making a table of DO / PU ratio\n",
    "PUtoDO = pd.DataFrame(df.groupby(by=['PUborough'])['PUdate'].count().reset_index())\n",
    "PUtoDO = PUtoDO.rename(columns={'PUborough':'borough','PUdate': 'total PU'})\n",
    "DOtoPU = pd.DataFrame(df.groupby(by=['DOborough'])['DOdate'].count().reset_index())\n",
    "DOtoPU = DOtoPU.rename(columns={'DOborough':'borough','DOdate': 'total DO'})\n",
    "\n",
    "PUtoDO = PUtoDO.merge(DOtoPU, on='borough', how='outer')\n",
    "PUtoDO['Pick-up'] = PUtoDO['total PU'] / (PUtoDO['total PU'] + PUtoDO['total DO'])\n",
    "PUtoDO['Drop-off'] = PUtoDO['total DO'] / (PUtoDO['total PU'] + PUtoDO['total DO'])\n",
    "PUtoDO = PUtoDO[~PUtoDO['borough'].isin(['EWR', 'Staten Island'])] # dropping Staten Island and EWR since it doesnt have much significance\n",
    "PUtoDO.set_index('borough', inplace=True)\n",
    "\n",
    "# Pickup / Drop off Ratio\n",
    "plt.figure(figsize=(5,5))\n",
    "bar2 = PUtoDO[['Pick-up', 'Drop-off']].plot(kind='barh', stacked=True, color=viridis[3:5])\n",
    "bar2.set_title('NYC Taxi Pick-up / Drop-off Ratio')\n",
    "bar2.set_xlabel('Percentage')\n",
    "bar2.set_ylabel('Borough')\n",
    "bar2.legend(title='', bbox_to_anchor=(1, 1))\n",
    "\n",
    "plt.tight_layout()\n",
    "plt.show()"
   ]
  },
  {
   "cell_type": "markdown",
   "metadata": {},
   "source": [
    "**From this graphic we can conclude:**\n",
    "- The only borough that have more dropoff ratio are Bronx, this indicates that most people from Bronx are not using the taxi services yet, but people who wants to go to Bronx does."
   ]
  },
  {
   "cell_type": "markdown",
   "metadata": {},
   "source": [
    "**Classifying each borough trip length**, \n",
    "\n",
    "we are going to classify the trip distance into a few categories:\n",
    "\n",
    "| Trip Distance | Trip Length |\n",
    "|-------------|-------------|\n",
    "| 0.5-1 miles          | Very Short |\n",
    "| 1-2 miles          | Short      |\n",
    "| 2-3 miles          | Medium     |\n",
    "| 3-5 miles          | Long       |\n",
    "| > 5 miles          | Very Long  |\n",
    "\n",
    "This will help us understand the culture and pattern of trip distance in each borough."
   ]
  },
  {
   "cell_type": "code",
   "execution_count": 103,
   "metadata": {},
   "outputs": [
    {
     "data": {
      "text/plain": [
       "<Figure size 600x600 with 0 Axes>"
      ]
     },
     "metadata": {},
     "output_type": "display_data"
    },
    {
     "data": {
      "image/png": "[encoded data removed]",
      "text/plain": [
       "<Figure size 1000x600 with 1 Axes>"
      ]
     },
     "metadata": {},
     "output_type": "display_data"
    },
    {
     "data": {
      "text/plain": [
       "<Figure size 640x480 with 0 Axes>"
      ]
     },
     "metadata": {},
     "output_type": "display_data"
    }
   ],
   "source": [
    "# mapping the trip length\n",
    "df['trip_length'] = np.where((df['trip_distance'] >= 0.5) & (df['trip_distance'] < 1), 'Very Short',\n",
    "                              np.where((df['trip_distance'] >= 1) & (df['trip_distance'] < 2), 'Short',\n",
    "                              np.where((df['trip_distance'] >= 2) & (df['trip_distance'] < 3), 'Medium',\n",
    "                              np.where((df['trip_distance'] >= 3) & (df['trip_distance'] < 5), 'Long', 'Very Long'))))\n",
    "df['trip_length'] = pd.Categorical(df['trip_length'], categories=lengthsorted, ordered=True)\n",
    "\n",
    "# making a stacked bar for trip length\n",
    "borlength = df.groupby(by=['trip_length','PUborough'])['PUtime'].count().to_frame().reset_index()\n",
    "borlength = borlength[~borlength['PUborough'].isin(['EWR', 'Staten Island'])]\n",
    "pivoted = borlength.pivot(index='PUborough', columns='trip_length', values='PUtime').fillna(0)\n",
    "\n",
    "percentage = pivoted.div(pivoted.sum(axis=1), axis=0) * 100\n",
    "\n",
    "plt.figure(figsize=(6,6))\n",
    "ax = percentage.plot(kind='barh', stacked=True, figsize=(10, 6), width=0.5, colormap='Purples')\n",
    "\n",
    "ax.set_title('Trip Length by Borough')\n",
    "ax.set_xlabel('Borough')\n",
    "ax.set_ylabel('Percentage')\n",
    "plt.legend(title='Trip Length', loc='upper left', bbox_to_anchor=(1, 1))\n",
    "plt.show()\n",
    "\n",
    "plt.tight_layout()\n",
    "plt.show()"
   ]
  },
  {
   "cell_type": "markdown",
   "metadata": {},
   "source": [
    "**From this graphic we can conclude:**\n",
    "- Each borough have a different patterns of trip length.\n",
    "- The taxis in Manhattan rarely took long distance trips compared to those shorter trips.\n",
    "- Bronx has the most proportion of Very Long trip."
   ]
  },
  {
   "cell_type": "markdown",
   "metadata": {},
   "source": [
    "**Understanding Payment Type**, each bar represents a borough's approach in taxi payments."
   ]
  },
  {
   "cell_type": "code",
   "execution_count": 104,
   "metadata": {},
   "outputs": [
    {
     "data": {
      "image/png": "[encoded data removed]",
      "text/plain": [
       "<Figure size 1000x600 with 1 Axes>"
      ]
     },
     "metadata": {},
     "output_type": "display_data"
    }
   ],
   "source": [
    "boroughpayment =df.groupby(['payment_type','PUborough'])['PUdate'].count().to_frame().reset_index()\n",
    "boroughpayment = boroughpayment[~boroughpayment['PUborough'].isin(['EWR','Staten Island'])] \n",
    "pivot_data = boroughpayment.pivot_table(index='PUborough', columns='payment_type', values='PUdate', fill_value=0)\n",
    "percentage = pivot_data.div(pivot_data.sum(axis=1), axis=0) * 100\n",
    "\n",
    "fig, ax = plt.subplots(figsize=(10, 6))\n",
    "percentage.plot(kind='bar', stacked=True, ax=ax, alpha=1)\n",
    "\n",
    "ax.set_xlabel('PUborough')\n",
    "ax.set_ylabel('Count')\n",
    "ax.set_title('Borough Payment Type')\n",
    "ax.legend(loc='upper left', bbox_to_anchor=(1, 1))\n",
    "plt.show()\n"
   ]
  },
  {
   "cell_type": "markdown",
   "metadata": {},
   "source": [
    "**From this graphic we can conclude:**\n",
    "- Most of the payments in **Manhattan** and **Brooklyn** are done with Credit Card, this shows that the people using the taxi are people who are more financially secured.\n",
    "- In **Queens** and **Bronx** Cash are still the preferable option to pay. "
   ]
  },
  {
   "cell_type": "markdown",
   "metadata": {},
   "source": [
    "**Insights**\n",
    "\n",
    "- Although NYC is a very big city, the culture or using taxis as a daily public transportation still centered towards **Manhattan**, that consist mainly of short to medium trips inside the district that distances in less that 3 miles and rarely gets on a long trip, so currently Manhattan is TLC's biggest consumer. \n",
    "- Most of the trips are done inside the district\n",
    "\n",
    "- **Brooklyn** does have a higher average of percentage of fare contribution, meaning that even though the trips occurs way less frequent, but each of the trips are more valuable financially. This opens up many opportunities for new markets.\n",
    "\n",
    "- Many inter-district trip are destinating towards Manhattan.\n",
    "\n",
    "- **Staten Island** is culturally very distant from the other districts.\n",
    "\n",
    "- Looking at the dropoff ratio, **Bronx** show that they have the needs for public transportation, it's just that the current taxi cab is not their first choice for pickup points. \n",
    "\n",
    "- **Staten Island** and **Bronx** are not a daily consumer of NYC's taxi services. It is an option to research further their market to see if thay are a liable options for expansions.\n",
    "\n",
    "- Most people in **Manhattan** have already use Credit Cards as the preferable options of payments, showing their strength in financial security. This habit can be analyzed deeper to understand how to improve and innovate the financial system of the taxis."
   ]
  },
  {
   "cell_type": "markdown",
   "metadata": {},
   "source": [
    "### ***NYC's Taxis Trips Time Distribution***"
   ]
  },
  {
   "cell_type": "markdown",
   "metadata": {},
   "source": [
    "**Daily trip distribution**, to understand the pattern of NYC taxis' busiest schedule we can make a plot distribution of each hours."
   ]
  },
  {
   "cell_type": "code",
   "execution_count": 105,
   "metadata": {},
   "outputs": [
    {
     "data": {
      "image/png": "[encoded data removed]",
      "text/plain": [
       "<Figure size 1500x500 with 1 Axes>"
      ]
     },
     "metadata": {},
     "output_type": "display_data"
    }
   ],
   "source": [
    "# making a plot of nyc taxi trips\n",
    "trips = df.groupby(['PUdate','day']).count().reset_index()\n",
    "trips['PUdate'] = trips['PUdate'].dt.day\n",
    "\n",
    "plt.figure(figsize=(15,5))\n",
    "\n",
    "plt.title('NYC Taxi Trip Timeframe', size=16)\n",
    "plt.plot(trips['PUdate'],trips['PUtime'],markersize=40, color='seagreen')\n",
    "\n",
    "plt.show()"
   ]
  },
  {
   "cell_type": "markdown",
   "metadata": {},
   "source": [
    "**From this graphic we can conclude:**\n",
    "- Most of the taxi trips came from the weekdays, with every weekends the volume of trips dip significantly.\n",
    "- The taxi distributions each weeks are similar, indicating that there are pattern and reccuring customers using taxi daily."
   ]
  },
  {
   "cell_type": "markdown",
   "metadata": {},
   "source": [
    "**Hourly trip distribution per borough**, an hourly countplot of each boroughs to understand the trip pattern in hourly intervals."
   ]
  },
  {
   "cell_type": "code",
   "execution_count": 106,
   "metadata": {},
   "outputs": [
    {
     "data": {
      "image/png": "[encoded data removed]",
      "text/plain": [
       "<Figure size 2000x800 with 4 Axes>"
      ]
     },
     "metadata": {},
     "output_type": "display_data"
    }
   ],
   "source": [
    "\n",
    "# making a countplot of trips in each hour of each borough\n",
    "fig, axes = plt.subplots(2, 2, figsize=(20, 8))\n",
    "plt.suptitle('Trips per Hour')\n",
    "\n",
    "for i, borough in enumerate(boroughs):\n",
    "    ax = axes[i // 2, i % 2]\n",
    "    data_borough = df[df['PUborough'] == borough]\n",
    "    \n",
    "    # Count the number of trips per hour in this borough\n",
    "    hour_counts = data_borough['hour'].value_counts().sort_index()\n",
    "    hours = hour_counts.index\n",
    "    counts = hour_counts.values\n",
    "\n",
    "    # Create a bar plot using plt.bar\n",
    "    ax.bar(hours, counts, color=viridis[i])\n",
    "    ax.set_title(f' {borough}')\n",
    "    ax.set_xlabel('Hour')\n",
    "    ax.set_ylabel('Count')\n",
    "\n",
    "# Adjust the layout and display the subplots\n",
    "plt.tight_layout()\n",
    "plt.show()"
   ]
  },
  {
   "cell_type": "markdown",
   "metadata": {},
   "source": [
    "**From this graphic we can conclude:**\n",
    "- In terms of trip counts NYC's borough have various distribution.\n",
    " \n",
    "- **Manhattan** has the busiest trip distribution throughout the day, ranging a high volume within 8AM to 8PM (workhour) making it the busiest borough of all.\n",
    "- **Brooklyn** and **Queens** has a closely similar distribution, the busy hours are between 3PM to 8PM which is after work hours.\n",
    "- **Bronx**'s distribution are quite different from the other, ranging a high volume at 10AM to 3PM."
   ]
  },
  {
   "cell_type": "markdown",
   "metadata": {},
   "source": [
    "\n",
    "**Congestion distribution**, to understand the pattern of NYC taxis' busiest schedule we can make a countplot distribution of each hours."
   ]
  },
  {
   "cell_type": "code",
   "execution_count": 107,
   "metadata": {},
   "outputs": [
    {
     "data": {
      "image/png": "[encoded data removed]",
      "text/plain": [
       "<Figure size 2000x1000 with 4 Axes>"
      ]
     },
     "metadata": {},
     "output_type": "display_data"
    }
   ],
   "source": [
    "# making a countplot of congestion in each hour of each borough\n",
    "fig, axes = plt.subplots(2, 2, figsize=(20, 10))\n",
    "plt.suptitle('Congestion Distribution')\n",
    "\n",
    "for i, borough in enumerate(boroughs):\n",
    "    ax = axes[i // 2, i % 2]\n",
    "    data_borough = df[df['PUborough'] == borough]\n",
    "\n",
    "    congestionsum = data_borough.groupby('hour')['congestion'].sum()\n",
    "    hours = congestionsum.index\n",
    "    counts = congestionsum.values\n",
    "\n",
    "    ax.bar(hours, counts, color=viridis[i])\n",
    "    ax.set_title(f'{borough}')\n",
    "    ax.set_xlabel('hour')\n",
    "    ax.set_ylabel('Count')\n",
    "\n",
    "plt.show()"
   ]
  },
  {
   "cell_type": "markdown",
   "metadata": {},
   "source": [
    "**From this graphic we can conclude:**\n",
    "- Manhattan and Bronx has similar distribution of trips and congestions.\n",
    "\n",
    "- Brooklyn and Queens's congestion distribution differs from the trips, particularly in the morning to noon. This might indicates that there are a correlation between congestion condition and their demand of trips."
   ]
  },
  {
   "cell_type": "markdown",
   "metadata": {},
   "source": [
    "***Correlation Testing : `congestion and trip volume`*** <br>"
   ]
  },
  {
   "cell_type": "code",
   "execution_count": 108,
   "metadata": {},
   "outputs": [
    {
     "data": {
      "image/png": "[encoded data removed]",
      "text/plain": [
       "<Figure size 640x480 with 1 Axes>"
      ]
     },
     "metadata": {},
     "output_type": "display_data"
    }
   ],
   "source": [
    "# making a scatterplot \n",
    "congestrip = df[['hour','congestion','PUborough']]\n",
    "congestrip['trip'] = 1\n",
    "congestrip = congestrip.groupby(['hour','PUborough'])[['trip','congestion']].sum().reset_index()\n",
    "congestrip = congestrip[congestrip['PUborough'].isin(['Brooklyn','Queens'])]\n",
    "\n",
    "plt.figure()\n",
    "plt.title('Correlation Scatter Plot: Congestion and Trip ')\n",
    "plt.scatter(congestrip['congestion'],congestrip['trip'])\n",
    "plt.tight_layout()\n",
    "plt.show()"
   ]
  },
  {
   "cell_type": "code",
   "execution_count": 109,
   "metadata": {},
   "outputs": [
    {
     "name": "stdout",
     "output_type": "stream",
     "text": [
      "Pearson correlation coefficient: 0.15042022741223635\n",
      "p-value: 0.3074950875697181\n"
     ]
    }
   ],
   "source": [
    "# using pearson method to find correlation\n",
    "correlation, p_value = pearsonr(congestrip['congestion'],congestrip['trip'])\n",
    "\n",
    "print(\"Pearson correlation coefficient:\", correlation)\n",
    "print(\"p-value:\", p_value)"
   ]
  },
  {
   "cell_type": "markdown",
   "metadata": {},
   "source": [
    "- The results of the correlation test shows that the congestion and trip type are **weakly correlated** which means that the hypothesis that congestion might be the reasons why there are decrease of demand is false. The low p-value suggests that this correlation are most likely happens randomly. <br >And it shows that the demand of taxi trips are not directly influenced by the congestion condition. "
   ]
  },
  {
   "cell_type": "markdown",
   "metadata": {},
   "source": [
    "**Insight**\n",
    "\n",
    "- The signicant trip volume dip in the weekends shows that in NYC taxis are mainly used by the working class for daily purposes.\n",
    "\n",
    "- **Manhattan**'s distribution of trips throughout the day ranges from work hour towards the evening, this might indicate that the high volume of usage comes from short to medium business trips.\n",
    "\n",
    "- **Brooklyn** and **Queens**'s distribution shows a left skewed graph, indicating that taxi rides are more popular during afterhours and are not the primary mode of transportation for going to work in the morning.\n",
    "\n",
    "- Congestion doesn't play a huge part in taxi trip's demand.\n"
   ]
  },
  {
   "cell_type": "markdown",
   "metadata": {},
   "source": [
    "### ***Inter District vs Intra District trips***\n",
    "\n",
    "The NYC taxi lets you do both inter and intra district trips with their cabs, in this part we are going to analyze the proportion of those trips and how they correlate with the time and day."
   ]
  },
  {
   "cell_type": "code",
   "execution_count": 110,
   "metadata": {},
   "outputs": [],
   "source": [
    "inter = df[['PUdate','PUborough','DOborough','day','hour','weekday/end']]\n",
    "inter['inter/intra'] = np.where(df['PUborough']==df['DOborough'],'Intra','Inter')\n",
    "inter = inter.groupby(by=['inter/intra','weekday/end','hour'])['PUdate'].count().to_frame().reset_index()\n",
    "inter.rename(columns={'PUdate':'trip'}, inplace=True)\n",
    "inter_weekday = inter[(inter['weekday/end'] == 'Weekday') & (inter['inter/intra'] == 'Inter')].set_index('hour')\n",
    "inter_weekend = inter[(inter['weekday/end'] == 'Weekend') & (inter['inter/intra'] == 'Inter')].set_index('hour')\n",
    "intra_weekday = inter[(inter['weekday/end'] == 'Weekday') & (inter['inter/intra'] == 'Intra')].set_index('hour')\n",
    "intra_weekend = inter[(inter['weekday/end'] == 'Weekend') & (inter['inter/intra'] == 'Intra')].set_index('hour')"
   ]
  },
  {
   "cell_type": "code",
   "execution_count": 111,
   "metadata": {},
   "outputs": [
    {
     "data": {
      "image/png": "[encoded data removed]",
      "text/plain": [
       "<Figure size 1500x1200 with 2 Axes>"
      ]
     },
     "metadata": {},
     "output_type": "display_data"
    }
   ],
   "source": [
    "# makign a count plot of intra and inter district trips\n",
    "plt.figure(figsize=(15, 12))\n",
    "plt.subplot(2,1,1)\n",
    "sns.set(style=\"whitegrid\")\n",
    "\n",
    "intra_weekday['trip'].plot(kind='bar',color='skyblue',label='weekday',alpha=1,bottom=intra_weekend['trip'])\n",
    "intra_weekend['trip'].plot(kind='bar', color='seagreen',label='weekend',alpha=1)\n",
    "plt.ylabel('Count')\n",
    "plt.title('Intra-district Trips',size=15)\n",
    "plt.legend()\n",
    "\n",
    "plt.subplot(2,1,2)\n",
    "sns.set(style=\"whitegrid\")\n",
    "\n",
    "inter_weekday['trip'].plot(kind='bar', color='skyblue',label='Weekday',alpha=1,bottom=inter_weekend['trip'])\n",
    "inter_weekend['trip'].plot(kind='bar',color='blue',label='Weekend',alpha=0.7)\n",
    "\n",
    "plt.xlabel('Hour')\n",
    "plt.ylabel('Count')\n",
    "plt.title('Inter-district Trips',size=15)\n",
    "plt.legend()\n",
    "plt.show()"
   ]
  },
  {
   "cell_type": "markdown",
   "metadata": {},
   "source": [
    "\n",
    "**From this graphic we can conclude:**\n",
    "- Most of the trips in NYC are happening inside the district.\n",
    "\n",
    "- Inter-district tips has a higher proportion in the weekends.\n",
    "- Inter-district trips that occur before 4AM are likely to happen in the weekend"
   ]
  },
  {
   "cell_type": "markdown",
   "metadata": {},
   "source": [
    "***Hypothesis Testing : `weekend intercity trip`*** <br>\n",
    "\n",
    "Null Hypothesis (H0): In the weekend the proportion of inter trips = intra trips\n",
    "\n",
    "Alternative Hypothesis (H1):  In the weekend the proportion of inter trips >  intra trips\n",
    "\n",
    "To test this hypothesis, we are going to use the ***Two-sample Independent T-test*** method."
   ]
  },
  {
   "cell_type": "code",
   "execution_count": 112,
   "metadata": {},
   "outputs": [
    {
     "name": "stdout",
     "output_type": "stream",
     "text": [
      "P-Value: 0.0065885848150949835\n",
      "H0 Rejected\n"
     ]
    }
   ],
   "source": [
    "inter['proportion'] = inter.groupby('inter/intra')['trip'].transform(lambda x: x / x.sum())\n",
    "# making proportion\n",
    "inter2 = inter[inter['inter/intra']=='Inter']  # filtering intra/inter\n",
    "intra = inter[inter['inter/intra']=='Intra'] # filtering intra/inter\n",
    "# two sample independent t-test\n",
    "test_result = ttest_ind(\n",
    "              a=inter2[inter2['weekday/end'] == 'Weekend']['proportion'],\n",
    "              b=intra[intra['weekday/end'] == 'Weekend']['proportion'],\n",
    "              equal_var=False, \n",
    "              alternative='greater',\n",
    "            )\n",
    "\n",
    "print('P-Value:', test_result.pvalue)\n",
    "\n",
    "if test_result.pvalue < 0.05:\n",
    "    print('H0 Rejected')\n",
    "else:\n",
    "    print('H0 Acceped')"
   ]
  },
  {
   "cell_type": "markdown",
   "metadata": {},
   "source": [
    "- The results of the hypothesis testing shows that in the weekend, the proportion of inter-district trips are higher than intra-district trips."
   ]
  },
  {
   "cell_type": "markdown",
   "metadata": {},
   "source": [
    "**Insight:**\n",
    "- Using the Two-sample Independent T-test, the null hypothesis was rejected, this indicates that there are enough evidence that the proportion of inter trips is higher the weekend rather than the weekdays.\n",
    "\n",
    "- This means that in the weekends, taxi is a preferable options of transportation for inter-district trips. "
   ]
  },
  {
   "cell_type": "markdown",
   "metadata": {},
   "source": [
    "### ***NYC's Attitude Towards Tipping***\n",
    "\n",
    "Tipping has been an essential aspect in taxi cabs, besides generating extra cash for the drivers, tipping also a representation about the passenger financial decision-making. "
   ]
  },
  {
   "cell_type": "markdown",
   "metadata": {},
   "source": [
    "#### Central of Tendencies"
   ]
  },
  {
   "cell_type": "code",
   "execution_count": 113,
   "metadata": {},
   "outputs": [
    {
     "name": "stdout",
     "output_type": "stream",
     "text": [
      "\n",
      "NYC Taxi Tipping :\n",
      "----------------------------\n",
      "Range : 0.01 - 33.94\n",
      "Median : 1.8\n",
      "Mean : 2.14\n",
      "----------------------------\n",
      "Range : 0.01 % -  46.0 %\n",
      "Median : 9.0 %\n",
      "Mean : 9.09 %\n",
      "      \n"
     ]
    }
   ],
   "source": [
    "\n",
    "# a summary of df's central of tendency\n",
    "print(f'''\n",
    "NYC Taxi Tipping :\n",
    "----------------------------\n",
    "Range : {df[df['tip_amount']!=0]['tip_amount'].min()} - {df['tip_amount'].max()}\n",
    "Median : {df['tip_amount'].median()}\n",
    "Mean : {df['tip_amount'].mean().round(2)}\n",
    "----------------------------\n",
    "Range : {df[df['tip%']!=0]['tip_amount'].min()} % -  {df['tip%'].max().round()} %\n",
    "Median : {df['tip%'].median().round()} %\n",
    "Mean : {df['tip%'].mean().round(2)} %\n",
    "      ''')"
   ]
  },
  {
   "cell_type": "code",
   "execution_count": 114,
   "metadata": {},
   "outputs": [
    {
     "data": {
      "image/png": "[encoded data removed]",
      "text/plain": [
       "<Figure size 1600x600 with 2 Axes>"
      ]
     },
     "metadata": {},
     "output_type": "display_data"
    }
   ],
   "source": [
    "tip_amount = df[df['tip_amount'] != 0]['tip_amount']\n",
    "fig, axes = plt.subplots(1, 2, figsize=(16, 6))\n",
    "plt.suptitle('Distribution of Tip Amount')\n",
    "\n",
    "axes[0].hist(tip_amount, bins=100, color='skyblue', edgecolor='black')\n",
    "axes[0].set_xlabel('Tip Amount')\n",
    "axes[0].set_ylabel('frequency')\n",
    "\n",
    "sns.kdeplot(tip_amount, color='orange', shade=True, ax=axes[1])\n",
    "axes[1].set_xlabel('Tip Amount')\n",
    "axes[1].set_ylabel('frequency')\n",
    "\n",
    "\n",
    "plt.tight_layout()\n",
    "plt.show()\n"
   ]
  },
  {
   "cell_type": "markdown",
   "metadata": {},
   "source": [
    "**From these graphic we can conclude:**\n",
    "- The distribution of the tips is right skewed, and the mean and median are not very far.\n",
    "- This shows that the tipping pattern of NYC are akin.\n",
    "- The Central Tendency shows that the tips are ranging in the value of 0$-33$\n",
    "- The Central Tendency shows that the tips percentage are ranging in the value of 0.0.1%-46%"
   ]
  },
  {
   "cell_type": "markdown",
   "metadata": {},
   "source": [
    "\n",
    "**Tip to total amount**, the area graph are used to see the trends of tips value in comparisons to the fare amount and other fare."
   ]
  },
  {
   "cell_type": "code",
   "execution_count": 115,
   "metadata": {},
   "outputs": [
    {
     "data": {
      "application/vnd.plotly.v1+json": {
       "config": {
        "plotlyServerURL": "https://plot.ly"
       },
       "data": [
        {
         "fillpattern": {
          "shape": ""
         },
         "hovertemplate": "variable=fare_amount<br>hour=%{x}<br>value=%{y}<extra></extra>",
         "legendgroup": "fare_amount",
         "line": {
          "color": "#636efa"
         },
         "marker": {
          "symbol": "circle"
         },
         "mode": "lines",
         "name": "fare_amount",
         "orientation": "v",
         "showlegend": true,
         "stackgroup": "1",
         "type": "scatter",
         "x": [
          0,
          1,
          2,
          3,
          4,
          5,
          6,
          7,
          8,
          9,
          10,
          11,
          12,
          13,
          14,
          15,
          16,
          17,
          18,
          19,
          20,
          21,
          22,
          23
         ],
         "xaxis": "x",
         "y": [
          4344.86,
          3046.05,
          1962.93,
          1124.05,
          1216.99,
          2803.53,
          9545.73,
          28386.7,
          34743.23,
          37109.74,
          36461.7,
          36712.13,
          36222.24,
          36575.44,
          41528.16,
          45214.35,
          45015.73,
          41984.35,
          40400.82,
          29635.76,
          21606.87,
          15509.56,
          11333.51,
          8245.32
         ],
         "yaxis": "y"
        },
        {
         "fillpattern": {
          "shape": ""
         },
         "hovertemplate": "variable=other_fare<br>hour=%{x}<br>value=%{y}<extra></extra>",
         "legendgroup": "other_fare",
         "line": {
          "color": "#EF553B"
         },
         "marker": {
          "symbol": "circle"
         },
         "mode": "lines",
         "name": "other_fare",
         "orientation": "v",
         "showlegend": true,
         "stackgroup": "1",
         "type": "scatter",
         "x": [
          0,
          1,
          2,
          3,
          4,
          5,
          6,
          7,
          8,
          9,
          10,
          11,
          12,
          13,
          14,
          15,
          16,
          17,
          18,
          19,
          20,
          21,
          22,
          23
         ],
         "xaxis": "x",
         "y": [
          916.5500000000001,
          652.4,
          361.2,
          199.64999999999998,
          188.39999999999998,
          649.9,
          1900.9499999999998,
          5062,
          6002.75,
          6774.25,
          6858.85,
          6742.45,
          6792.4,
          6605,
          7217.5,
          8344.65,
          13462.95,
          13097.48,
          12944.1,
          9557.65,
          5687.1,
          3939.15,
          2743.5,
          1970.85
         ],
         "yaxis": "y"
        },
        {
         "fillpattern": {
          "shape": ""
         },
         "hovertemplate": "variable=tip_amount<br>hour=%{x}<br>value=%{y}<extra></extra>",
         "legendgroup": "tip_amount",
         "line": {
          "color": "#00cc96"
         },
         "marker": {
          "symbol": "circle"
         },
         "mode": "lines",
         "name": "tip_amount",
         "orientation": "v",
         "showlegend": true,
         "stackgroup": "1",
         "type": "scatter",
         "x": [
          0,
          1,
          2,
          3,
          4,
          5,
          6,
          7,
          8,
          9,
          10,
          11,
          12,
          13,
          14,
          15,
          16,
          17,
          18,
          19,
          20,
          21,
          22,
          23
         ],
         "xaxis": "x",
         "y": [
          513.26,
          384.88,
          233.05,
          95.24,
          159.81,
          373.85,
          1376.6,
          4133.67,
          5129.52,
          5413.07,
          5208.24,
          5312.48,
          5205.67,
          4949.74,
          5845.39,
          6329.19,
          7500.13,
          7356.22,
          7239.45,
          5281.11,
          3720.07,
          2559.22,
          1756.1,
          1121.95
         ],
         "yaxis": "y"
        }
       ],
       "layout": {
        "height": 300,
        "legend": {
         "title": {
          "text": "variable"
         },
         "tracegroupgap": 0
        },
        "margin": {
         "t": 60
        },
        "template": {
         "data": {
          "bar": [
           {
            "error_x": {
             "color": "#2a3f5f"
            },
            "error_y": {
             "color": "#2a3f5f"
            },
            "marker": {
             "line": {
              "color": "#E5ECF6",
              "width": 0.5
             },
             "pattern": {
              "fillmode": "overlay",
              "size": 10,
              "solidity": 0.2
             }
            },
            "type": "bar"
           }
          ],
          "barpolar": [
           {
            "marker": {
             "line": {
              "color": "#E5ECF6",
              "width": 0.5
             },
             "pattern": {
              "fillmode": "overlay",
              "size": 10,
              "solidity": 0.2
             }
            },
            "type": "barpolar"
           }
          ],
          "carpet": [
           {
            "aaxis": {
             "endlinecolor": "#2a3f5f",
             "gridcolor": "white",
             "linecolor": "white",
             "minorgridcolor": "white",
             "startlinecolor": "#2a3f5f"
            },
            "baxis": {
             "endlinecolor": "#2a3f5f",
             "gridcolor": "white",
             "linecolor": "white",
             "minorgridcolor": "white",
             "startlinecolor": "#2a3f5f"
            },
            "type": "carpet"
           }
          ],
          "choropleth": [
           {
            "colorbar": {
             "outlinewidth": 0,
             "ticks": ""
            },
            "type": "choropleth"
           }
          ],
          "contour": [
           {
            "colorbar": {
             "outlinewidth": 0,
             "ticks": ""
            },
            "colorscale": [
             [
              0,
              "#0d0887"
             ],
             [
              0.1111111111111111,
              "#46039f"
             ],
             [
              0.2222222222222222,
              "#7201a8"
             ],
             [
              0.3333333333333333,
              "#9c179e"
             ],
             [
              0.4444444444444444,
              "#bd3786"
             ],
             [
              0.5555555555555556,
              "#d8576b"
             ],
             [
              0.6666666666666666,
              "#ed7953"
             ],
             [
              0.7777777777777778,
              "#fb9f3a"
             ],
             [
              0.8888888888888888,
              "#fdca26"
             ],
             [
              1,
              "#f0f921"
             ]
            ],
            "type": "contour"
           }
          ],
          "contourcarpet": [
           {
            "colorbar": {
             "outlinewidth": 0,
             "ticks": ""
            },
            "type": "contourcarpet"
           }
          ],
          "heatmap": [
           {
            "colorbar": {
             "outlinewidth": 0,
             "ticks": ""
            },
            "colorscale": [
             [
              0,
              "#0d0887"
             ],
             [
              0.1111111111111111,
              "#46039f"
             ],
             [
              0.2222222222222222,
              "#7201a8"
             ],
             [
              0.3333333333333333,
              "#9c179e"
             ],
             [
              0.4444444444444444,
              "#bd3786"
             ],
             [
              0.5555555555555556,
              "#d8576b"
             ],
             [
              0.6666666666666666,
              "#ed7953"
             ],
             [
              0.7777777777777778,
              "#fb9f3a"
             ],
             [
              0.8888888888888888,
              "#fdca26"
             ],
             [
              1,
              "#f0f921"
             ]
            ],
            "type": "heatmap"
           }
          ],
          "heatmapgl": [
           {
            "colorbar": {
             "outlinewidth": 0,
             "ticks": ""
            },
            "colorscale": [
             [
              0,
              "#0d0887"
             ],
             [
              0.1111111111111111,
              "#46039f"
             ],
             [
              0.2222222222222222,
              "#7201a8"
             ],
             [
              0.3333333333333333,
              "#9c179e"
             ],
             [
              0.4444444444444444,
              "#bd3786"
             ],
             [
              0.5555555555555556,
              "#d8576b"
             ],
             [
              0.6666666666666666,
              "#ed7953"
             ],
             [
              0.7777777777777778,
              "#fb9f3a"
             ],
             [
              0.8888888888888888,
              "#fdca26"
             ],
             [
              1,
              "#f0f921"
             ]
            ],
            "type": "heatmapgl"
           }
          ],
          "histogram": [
           {
            "marker": {
             "pattern": {
              "fillmode": "overlay",
              "size": 10,
              "solidity": 0.2
             }
            },
            "type": "histogram"
           }
          ],
          "histogram2d": [
           {
            "colorbar": {
             "outlinewidth": 0,
             "ticks": ""
            },
            "colorscale": [
             [
              0,
              "#0d0887"
             ],
             [
              0.1111111111111111,
              "#46039f"
             ],
             [
              0.2222222222222222,
              "#7201a8"
             ],
             [
              0.3333333333333333,
              "#9c179e"
             ],
             [
              0.4444444444444444,
              "#bd3786"
             ],
             [
              0.5555555555555556,
              "#d8576b"
             ],
             [
              0.6666666666666666,
              "#ed7953"
             ],
             [
              0.7777777777777778,
              "#fb9f3a"
             ],
             [
              0.8888888888888888,
              "#fdca26"
             ],
             [
              1,
              "#f0f921"
             ]
            ],
            "type": "histogram2d"
           }
          ],
          "histogram2dcontour": [
           {
            "colorbar": {
             "outlinewidth": 0,
             "ticks": ""
            },
            "colorscale": [
             [
              0,
              "#0d0887"
             ],
             [
              0.1111111111111111,
              "#46039f"
             ],
             [
              0.2222222222222222,
              "#7201a8"
             ],
             [
              0.3333333333333333,
              "#9c179e"
             ],
             [
              0.4444444444444444,
              "#bd3786"
             ],
             [
              0.5555555555555556,
              "#d8576b"
             ],
             [
              0.6666666666666666,
              "#ed7953"
             ],
             [
              0.7777777777777778,
              "#fb9f3a"
             ],
             [
              0.8888888888888888,
              "#fdca26"
             ],
             [
              1,
              "#f0f921"
             ]
            ],
            "type": "histogram2dcontour"
           }
          ],
          "mesh3d": [
           {
            "colorbar": {
             "outlinewidth": 0,
             "ticks": ""
            },
            "type": "mesh3d"
           }
          ],
          "parcoords": [
           {
            "line": {
             "colorbar": {
              "outlinewidth": 0,
              "ticks": ""
             }
            },
            "type": "parcoords"
           }
          ],
          "pie": [
           {
            "automargin": true,
            "type": "pie"
           }
          ],
          "scatter": [
           {
            "fillpattern": {
             "fillmode": "overlay",
             "size": 10,
             "solidity": 0.2
            },
            "type": "scatter"
           }
          ],
          "scatter3d": [
           {
            "line": {
             "colorbar": {
              "outlinewidth": 0,
              "ticks": ""
             }
            },
            "marker": {
             "colorbar": {
              "outlinewidth": 0,
              "ticks": ""
             }
            },
            "type": "scatter3d"
           }
          ],
          "scattercarpet": [
           {
            "marker": {
             "colorbar": {
              "outlinewidth": 0,
              "ticks": ""
             }
            },
            "type": "scattercarpet"
           }
          ],
          "scattergeo": [
           {
            "marker": {
             "colorbar": {
              "outlinewidth": 0,
              "ticks": ""
             }
            },
            "type": "scattergeo"
           }
          ],
          "scattergl": [
           {
            "marker": {
             "colorbar": {
              "outlinewidth": 0,
              "ticks": ""
             }
            },
            "type": "scattergl"
           }
          ],
          "scattermapbox": [
           {
            "marker": {
             "colorbar": {
              "outlinewidth": 0,
              "ticks": ""
             }
            },
            "type": "scattermapbox"
           }
          ],
          "scatterpolar": [
           {
            "marker": {
             "colorbar": {
              "outlinewidth": 0,
              "ticks": ""
             }
            },
            "type": "scatterpolar"
           }
          ],
          "scatterpolargl": [
           {
            "marker": {
             "colorbar": {
              "outlinewidth": 0,
              "ticks": ""
             }
            },
            "type": "scatterpolargl"
           }
          ],
          "scatterternary": [
           {
            "marker": {
             "colorbar": {
              "outlinewidth": 0,
              "ticks": ""
             }
            },
            "type": "scatterternary"
           }
          ],
          "surface": [
           {
            "colorbar": {
             "outlinewidth": 0,
             "ticks": ""
            },
            "colorscale": [
             [
              0,
              "#0d0887"
             ],
             [
              0.1111111111111111,
              "#46039f"
             ],
             [
              0.2222222222222222,
              "#7201a8"
             ],
             [
              0.3333333333333333,
              "#9c179e"
             ],
             [
              0.4444444444444444,
              "#bd3786"
             ],
             [
              0.5555555555555556,
              "#d8576b"
             ],
             [
              0.6666666666666666,
              "#ed7953"
             ],
             [
              0.7777777777777778,
              "#fb9f3a"
             ],
             [
              0.8888888888888888,
              "#fdca26"
             ],
             [
              1,
              "#f0f921"
             ]
            ],
            "type": "surface"
           }
          ],
          "table": [
           {
            "cells": {
             "fill": {
              "color": "#EBF0F8"
             },
             "line": {
              "color": "white"
             }
            },
            "header": {
             "fill": {
              "color": "#C8D4E3"
             },
             "line": {
              "color": "white"
             }
            },
            "type": "table"
           }
          ]
         },
         "layout": {
          "annotationdefaults": {
           "arrowcolor": "#2a3f5f",
           "arrowhead": 0,
           "arrowwidth": 1
          },
          "autotypenumbers": "strict",
          "coloraxis": {
           "colorbar": {
            "outlinewidth": 0,
            "ticks": ""
           }
          },
          "colorscale": {
           "diverging": [
            [
             0,
             "#8e0152"
            ],
            [
             0.1,
             "#c51b7d"
            ],
            [
             0.2,
             "#de77ae"
            ],
            [
             0.3,
             "#f1b6da"
            ],
            [
             0.4,
             "#fde0ef"
            ],
            [
             0.5,
             "#f7f7f7"
            ],
            [
             0.6,
             "#e6f5d0"
            ],
            [
             0.7,
             "#b8e186"
            ],
            [
             0.8,
             "#7fbc41"
            ],
            [
             0.9,
             "#4d9221"
            ],
            [
             1,
             "#276419"
            ]
           ],
           "sequential": [
            [
             0,
             "#0d0887"
            ],
            [
             0.1111111111111111,
             "#46039f"
            ],
            [
             0.2222222222222222,
             "#7201a8"
            ],
            [
             0.3333333333333333,
             "#9c179e"
            ],
            [
             0.4444444444444444,
             "#bd3786"
            ],
            [
             0.5555555555555556,
             "#d8576b"
            ],
            [
             0.6666666666666666,
             "#ed7953"
            ],
            [
             0.7777777777777778,
             "#fb9f3a"
            ],
            [
             0.8888888888888888,
             "#fdca26"
            ],
            [
             1,
             "#f0f921"
            ]
           ],
           "sequentialminus": [
            [
             0,
             "#0d0887"
            ],
            [
             0.1111111111111111,
             "#46039f"
            ],
            [
             0.2222222222222222,
             "#7201a8"
            ],
            [
             0.3333333333333333,
             "#9c179e"
            ],
            [
             0.4444444444444444,
             "#bd3786"
            ],
            [
             0.5555555555555556,
             "#d8576b"
            ],
            [
             0.6666666666666666,
             "#ed7953"
            ],
            [
             0.7777777777777778,
             "#fb9f3a"
            ],
            [
             0.8888888888888888,
             "#fdca26"
            ],
            [
             1,
             "#f0f921"
            ]
           ]
          },
          "colorway": [
           "#636efa",
           "#EF553B",
           "#00cc96",
           "#ab63fa",
           "#FFA15A",
           "#19d3f3",
           "#FF6692",
           "#B6E880",
           "#FF97FF",
           "#FECB52"
          ],
          "font": {
           "color": "#2a3f5f"
          },
          "geo": {
           "bgcolor": "white",
           "lakecolor": "white",
           "landcolor": "#E5ECF6",
           "showlakes": true,
           "showland": true,
           "subunitcolor": "white"
          },
          "hoverlabel": {
           "align": "left"
          },
          "hovermode": "closest",
          "mapbox": {
           "style": "light"
          },
          "paper_bgcolor": "white",
          "plot_bgcolor": "#E5ECF6",
          "polar": {
           "angularaxis": {
            "gridcolor": "white",
            "linecolor": "white",
            "ticks": ""
           },
           "bgcolor": "#E5ECF6",
           "radialaxis": {
            "gridcolor": "white",
            "linecolor": "white",
            "ticks": ""
           }
          },
          "scene": {
           "xaxis": {
            "backgroundcolor": "#E5ECF6",
            "gridcolor": "white",
            "gridwidth": 2,
            "linecolor": "white",
            "showbackground": true,
            "ticks": "",
            "zerolinecolor": "white"
           },
           "yaxis": {
            "backgroundcolor": "#E5ECF6",
            "gridcolor": "white",
            "gridwidth": 2,
            "linecolor": "white",
            "showbackground": true,
            "ticks": "",
            "zerolinecolor": "white"
           },
           "zaxis": {
            "backgroundcolor": "#E5ECF6",
            "gridcolor": "white",
            "gridwidth": 2,
            "linecolor": "white",
            "showbackground": true,
            "ticks": "",
            "zerolinecolor": "white"
           }
          },
          "shapedefaults": {
           "line": {
            "color": "#2a3f5f"
           }
          },
          "ternary": {
           "aaxis": {
            "gridcolor": "white",
            "linecolor": "white",
            "ticks": ""
           },
           "baxis": {
            "gridcolor": "white",
            "linecolor": "white",
            "ticks": ""
           },
           "bgcolor": "#E5ECF6",
           "caxis": {
            "gridcolor": "white",
            "linecolor": "white",
            "ticks": ""
           }
          },
          "title": {
           "x": 0.05
          },
          "xaxis": {
           "automargin": true,
           "gridcolor": "white",
           "linecolor": "white",
           "ticks": "",
           "title": {
            "standoff": 15
           },
           "zerolinecolor": "white",
           "zerolinewidth": 2
          },
          "yaxis": {
           "automargin": true,
           "gridcolor": "white",
           "linecolor": "white",
           "ticks": "",
           "title": {
            "standoff": 15
           },
           "zerolinecolor": "white",
           "zerolinewidth": 2
          }
         }
        },
        "width": 1000,
        "xaxis": {
         "anchor": "y",
         "domain": [
          0,
          1
         ],
         "title": {
          "text": "hour"
         }
        },
        "yaxis": {
         "anchor": "x",
         "domain": [
          0,
          1
         ],
         "title": {
          "text": "value"
         }
        }
       }
      }
     },
     "metadata": {},
     "output_type": "display_data"
    },
    {
     "data": {
      "application/vnd.plotly.v1+json": {
       "config": {
        "plotlyServerURL": "https://plot.ly"
       },
       "data": [
        {
         "fillpattern": {
          "shape": ""
         },
         "hovertemplate": "variable=fare_amount<br>hour=%{x}<br>value=%{y}<extra></extra>",
         "legendgroup": "fare_amount",
         "line": {
          "color": "#636efa"
         },
         "marker": {
          "symbol": "circle"
         },
         "mode": "lines",
         "name": "fare_amount",
         "orientation": "v",
         "showlegend": true,
         "stackgroup": "1",
         "type": "scatter",
         "x": [
          0,
          1,
          2,
          3,
          4,
          5,
          6,
          7,
          8,
          9,
          10,
          11,
          12,
          13,
          14,
          15,
          16,
          17,
          18,
          19,
          20,
          21,
          22,
          23
         ],
         "xaxis": "x",
         "y": [
          4718.19,
          4583.39,
          4370.8,
          3782.77,
          2644.65,
          1830.67,
          2289.3,
          4778.17,
          7031.79,
          7213.22,
          7985.34,
          8366.56,
          9101.07,
          10087.48,
          10164.34,
          11461.26,
          11509.15,
          11562.66,
          12248.97,
          10899.07,
          9534.21,
          7639.38,
          6432.12,
          5446.13
         ],
         "yaxis": "y"
        },
        {
         "fillpattern": {
          "shape": ""
         },
         "hovertemplate": "variable=other_fare<br>hour=%{x}<br>value=%{y}<extra></extra>",
         "legendgroup": "other_fare",
         "line": {
          "color": "#EF553B"
         },
         "marker": {
          "symbol": "circle"
         },
         "mode": "lines",
         "name": "other_fare",
         "orientation": "v",
         "showlegend": true,
         "stackgroup": "1",
         "type": "scatter",
         "x": [
          0,
          1,
          2,
          3,
          4,
          5,
          6,
          7,
          8,
          9,
          10,
          11,
          12,
          13,
          14,
          15,
          16,
          17,
          18,
          19,
          20,
          21,
          22,
          23
         ],
         "xaxis": "x",
         "y": [
          693.6999999999999,
          665.95,
          598.35,
          464.09999999999997,
          317.79999999999995,
          161.25,
          216.79999999999998,
          386.20000000000005,
          649.5,
          723.3,
          809.3000000000001,
          762.8,
          883.85,
          928.8,
          921.65,
          1116.65,
          1727.85,
          1939.85,
          2216.75,
          2023.55,
          1459,
          1266,
          984.35,
          823.65
         ],
         "yaxis": "y"
        },
        {
         "fillpattern": {
          "shape": ""
         },
         "hovertemplate": "variable=tip_amount<br>hour=%{x}<br>value=%{y}<extra></extra>",
         "legendgroup": "tip_amount",
         "line": {
          "color": "#00cc96"
         },
         "marker": {
          "symbol": "circle"
         },
         "mode": "lines",
         "name": "tip_amount",
         "orientation": "v",
         "showlegend": true,
         "stackgroup": "1",
         "type": "scatter",
         "x": [
          0,
          1,
          2,
          3,
          4,
          5,
          6,
          7,
          8,
          9,
          10,
          11,
          12,
          13,
          14,
          15,
          16,
          17,
          18,
          19,
          20,
          21,
          22,
          23
         ],
         "xaxis": "x",
         "y": [
          758.59,
          745.1,
          723.88,
          568.14,
          379.14,
          251.02,
          313.49,
          649.36,
          919.49,
          946.09,
          1005,
          1064.02,
          1096.99,
          1258.11,
          1202.73,
          1387.55,
          1704.99,
          1542.87,
          1891.01,
          1619.69,
          1439.61,
          1226.07,
          1098.72,
          864.76
         ],
         "yaxis": "y"
        }
       ],
       "layout": {
        "height": 300,
        "legend": {
         "title": {
          "text": "variable"
         },
         "tracegroupgap": 0
        },
        "margin": {
         "t": 60
        },
        "template": {
         "data": {
          "bar": [
           {
            "error_x": {
             "color": "#2a3f5f"
            },
            "error_y": {
             "color": "#2a3f5f"
            },
            "marker": {
             "line": {
              "color": "#E5ECF6",
              "width": 0.5
             },
             "pattern": {
              "fillmode": "overlay",
              "size": 10,
              "solidity": 0.2
             }
            },
            "type": "bar"
           }
          ],
          "barpolar": [
           {
            "marker": {
             "line": {
              "color": "#E5ECF6",
              "width": 0.5
             },
             "pattern": {
              "fillmode": "overlay",
              "size": 10,
              "solidity": 0.2
             }
            },
            "type": "barpolar"
           }
          ],
          "carpet": [
           {
            "aaxis": {
             "endlinecolor": "#2a3f5f",
             "gridcolor": "white",
             "linecolor": "white",
             "minorgridcolor": "white",
             "startlinecolor": "#2a3f5f"
            },
            "baxis": {
             "endlinecolor": "#2a3f5f",
             "gridcolor": "white",
             "linecolor": "white",
             "minorgridcolor": "white",
             "startlinecolor": "#2a3f5f"
            },
            "type": "carpet"
           }
          ],
          "choropleth": [
           {
            "colorbar": {
             "outlinewidth": 0,
             "ticks": ""
            },
            "type": "choropleth"
           }
          ],
          "contour": [
           {
            "colorbar": {
             "outlinewidth": 0,
             "ticks": ""
            },
            "colorscale": [
             [
              0,
              "#0d0887"
             ],
             [
              0.1111111111111111,
              "#46039f"
             ],
             [
              0.2222222222222222,
              "#7201a8"
             ],
             [
              0.3333333333333333,
              "#9c179e"
             ],
             [
              0.4444444444444444,
              "#bd3786"
             ],
             [
              0.5555555555555556,
              "#d8576b"
             ],
             [
              0.6666666666666666,
              "#ed7953"
             ],
             [
              0.7777777777777778,
              "#fb9f3a"
             ],
             [
              0.8888888888888888,
              "#fdca26"
             ],
             [
              1,
              "#f0f921"
             ]
            ],
            "type": "contour"
           }
          ],
          "contourcarpet": [
           {
            "colorbar": {
             "outlinewidth": 0,
             "ticks": ""
            },
            "type": "contourcarpet"
           }
          ],
          "heatmap": [
           {
            "colorbar": {
             "outlinewidth": 0,
             "ticks": ""
            },
            "colorscale": [
             [
              0,
              "#0d0887"
             ],
             [
              0.1111111111111111,
              "#46039f"
             ],
             [
              0.2222222222222222,
              "#7201a8"
             ],
             [
              0.3333333333333333,
              "#9c179e"
             ],
             [
              0.4444444444444444,
              "#bd3786"
             ],
             [
              0.5555555555555556,
              "#d8576b"
             ],
             [
              0.6666666666666666,
              "#ed7953"
             ],
             [
              0.7777777777777778,
              "#fb9f3a"
             ],
             [
              0.8888888888888888,
              "#fdca26"
             ],
             [
              1,
              "#f0f921"
             ]
            ],
            "type": "heatmap"
           }
          ],
          "heatmapgl": [
           {
            "colorbar": {
             "outlinewidth": 0,
             "ticks": ""
            },
            "colorscale": [
             [
              0,
              "#0d0887"
             ],
             [
              0.1111111111111111,
              "#46039f"
             ],
             [
              0.2222222222222222,
              "#7201a8"
             ],
             [
              0.3333333333333333,
              "#9c179e"
             ],
             [
              0.4444444444444444,
              "#bd3786"
             ],
             [
              0.5555555555555556,
              "#d8576b"
             ],
             [
              0.6666666666666666,
              "#ed7953"
             ],
             [
              0.7777777777777778,
              "#fb9f3a"
             ],
             [
              0.8888888888888888,
              "#fdca26"
             ],
             [
              1,
              "#f0f921"
             ]
            ],
            "type": "heatmapgl"
           }
          ],
          "histogram": [
           {
            "marker": {
             "pattern": {
              "fillmode": "overlay",
              "size": 10,
              "solidity": 0.2
             }
            },
            "type": "histogram"
           }
          ],
          "histogram2d": [
           {
            "colorbar": {
             "outlinewidth": 0,
             "ticks": ""
            },
            "colorscale": [
             [
              0,
              "#0d0887"
             ],
             [
              0.1111111111111111,
              "#46039f"
             ],
             [
              0.2222222222222222,
              "#7201a8"
             ],
             [
              0.3333333333333333,
              "#9c179e"
             ],
             [
              0.4444444444444444,
              "#bd3786"
             ],
             [
              0.5555555555555556,
              "#d8576b"
             ],
             [
              0.6666666666666666,
              "#ed7953"
             ],
             [
              0.7777777777777778,
              "#fb9f3a"
             ],
             [
              0.8888888888888888,
              "#fdca26"
             ],
             [
              1,
              "#f0f921"
             ]
            ],
            "type": "histogram2d"
           }
          ],
          "histogram2dcontour": [
           {
            "colorbar": {
             "outlinewidth": 0,
             "ticks": ""
            },
            "colorscale": [
             [
              0,
              "#0d0887"
             ],
             [
              0.1111111111111111,
              "#46039f"
             ],
             [
              0.2222222222222222,
              "#7201a8"
             ],
             [
              0.3333333333333333,
              "#9c179e"
             ],
             [
              0.4444444444444444,
              "#bd3786"
             ],
             [
              0.5555555555555556,
              "#d8576b"
             ],
             [
              0.6666666666666666,
              "#ed7953"
             ],
             [
              0.7777777777777778,
              "#fb9f3a"
             ],
             [
              0.8888888888888888,
              "#fdca26"
             ],
             [
              1,
              "#f0f921"
             ]
            ],
            "type": "histogram2dcontour"
           }
          ],
          "mesh3d": [
           {
            "colorbar": {
             "outlinewidth": 0,
             "ticks": ""
            },
            "type": "mesh3d"
           }
          ],
          "parcoords": [
           {
            "line": {
             "colorbar": {
              "outlinewidth": 0,
              "ticks": ""
             }
            },
            "type": "parcoords"
           }
          ],
          "pie": [
           {
            "automargin": true,
            "type": "pie"
           }
          ],
          "scatter": [
           {
            "fillpattern": {
             "fillmode": "overlay",
             "size": 10,
             "solidity": 0.2
            },
            "type": "scatter"
           }
          ],
          "scatter3d": [
           {
            "line": {
             "colorbar": {
              "outlinewidth": 0,
              "ticks": ""
             }
            },
            "marker": {
             "colorbar": {
              "outlinewidth": 0,
              "ticks": ""
             }
            },
            "type": "scatter3d"
           }
          ],
          "scattercarpet": [
           {
            "marker": {
             "colorbar": {
              "outlinewidth": 0,
              "ticks": ""
             }
            },
            "type": "scattercarpet"
           }
          ],
          "scattergeo": [
           {
            "marker": {
             "colorbar": {
              "outlinewidth": 0,
              "ticks": ""
             }
            },
            "type": "scattergeo"
           }
          ],
          "scattergl": [
           {
            "marker": {
             "colorbar": {
              "outlinewidth": 0,
              "ticks": ""
             }
            },
            "type": "scattergl"
           }
          ],
          "scattermapbox": [
           {
            "marker": {
             "colorbar": {
              "outlinewidth": 0,
              "ticks": ""
             }
            },
            "type": "scattermapbox"
           }
          ],
          "scatterpolar": [
           {
            "marker": {
             "colorbar": {
              "outlinewidth": 0,
              "ticks": ""
             }
            },
            "type": "scatterpolar"
           }
          ],
          "scatterpolargl": [
           {
            "marker": {
             "colorbar": {
              "outlinewidth": 0,
              "ticks": ""
             }
            },
            "type": "scatterpolargl"
           }
          ],
          "scatterternary": [
           {
            "marker": {
             "colorbar": {
              "outlinewidth": 0,
              "ticks": ""
             }
            },
            "type": "scatterternary"
           }
          ],
          "surface": [
           {
            "colorbar": {
             "outlinewidth": 0,
             "ticks": ""
            },
            "colorscale": [
             [
              0,
              "#0d0887"
             ],
             [
              0.1111111111111111,
              "#46039f"
             ],
             [
              0.2222222222222222,
              "#7201a8"
             ],
             [
              0.3333333333333333,
              "#9c179e"
             ],
             [
              0.4444444444444444,
              "#bd3786"
             ],
             [
              0.5555555555555556,
              "#d8576b"
             ],
             [
              0.6666666666666666,
              "#ed7953"
             ],
             [
              0.7777777777777778,
              "#fb9f3a"
             ],
             [
              0.8888888888888888,
              "#fdca26"
             ],
             [
              1,
              "#f0f921"
             ]
            ],
            "type": "surface"
           }
          ],
          "table": [
           {
            "cells": {
             "fill": {
              "color": "#EBF0F8"
             },
             "line": {
              "color": "white"
             }
            },
            "header": {
             "fill": {
              "color": "#C8D4E3"
             },
             "line": {
              "color": "white"
             }
            },
            "type": "table"
           }
          ]
         },
         "layout": {
          "annotationdefaults": {
           "arrowcolor": "#2a3f5f",
           "arrowhead": 0,
           "arrowwidth": 1
          },
          "autotypenumbers": "strict",
          "coloraxis": {
           "colorbar": {
            "outlinewidth": 0,
            "ticks": ""
           }
          },
          "colorscale": {
           "diverging": [
            [
             0,
             "#8e0152"
            ],
            [
             0.1,
             "#c51b7d"
            ],
            [
             0.2,
             "#de77ae"
            ],
            [
             0.3,
             "#f1b6da"
            ],
            [
             0.4,
             "#fde0ef"
            ],
            [
             0.5,
             "#f7f7f7"
            ],
            [
             0.6,
             "#e6f5d0"
            ],
            [
             0.7,
             "#b8e186"
            ],
            [
             0.8,
             "#7fbc41"
            ],
            [
             0.9,
             "#4d9221"
            ],
            [
             1,
             "#276419"
            ]
           ],
           "sequential": [
            [
             0,
             "#0d0887"
            ],
            [
             0.1111111111111111,
             "#46039f"
            ],
            [
             0.2222222222222222,
             "#7201a8"
            ],
            [
             0.3333333333333333,
             "#9c179e"
            ],
            [
             0.4444444444444444,
             "#bd3786"
            ],
            [
             0.5555555555555556,
             "#d8576b"
            ],
            [
             0.6666666666666666,
             "#ed7953"
            ],
            [
             0.7777777777777778,
             "#fb9f3a"
            ],
            [
             0.8888888888888888,
             "#fdca26"
            ],
            [
             1,
             "#f0f921"
            ]
           ],
           "sequentialminus": [
            [
             0,
             "#0d0887"
            ],
            [
             0.1111111111111111,
             "#46039f"
            ],
            [
             0.2222222222222222,
             "#7201a8"
            ],
            [
             0.3333333333333333,
             "#9c179e"
            ],
            [
             0.4444444444444444,
             "#bd3786"
            ],
            [
             0.5555555555555556,
             "#d8576b"
            ],
            [
             0.6666666666666666,
             "#ed7953"
            ],
            [
             0.7777777777777778,
             "#fb9f3a"
            ],
            [
             0.8888888888888888,
             "#fdca26"
            ],
            [
             1,
             "#f0f921"
            ]
           ]
          },
          "colorway": [
           "#636efa",
           "#EF553B",
           "#00cc96",
           "#ab63fa",
           "#FFA15A",
           "#19d3f3",
           "#FF6692",
           "#B6E880",
           "#FF97FF",
           "#FECB52"
          ],
          "font": {
           "color": "#2a3f5f"
          },
          "geo": {
           "bgcolor": "white",
           "lakecolor": "white",
           "landcolor": "#E5ECF6",
           "showlakes": true,
           "showland": true,
           "subunitcolor": "white"
          },
          "hoverlabel": {
           "align": "left"
          },
          "hovermode": "closest",
          "mapbox": {
           "style": "light"
          },
          "paper_bgcolor": "white",
          "plot_bgcolor": "#E5ECF6",
          "polar": {
           "angularaxis": {
            "gridcolor": "white",
            "linecolor": "white",
            "ticks": ""
           },
           "bgcolor": "#E5ECF6",
           "radialaxis": {
            "gridcolor": "white",
            "linecolor": "white",
            "ticks": ""
           }
          },
          "scene": {
           "xaxis": {
            "backgroundcolor": "#E5ECF6",
            "gridcolor": "white",
            "gridwidth": 2,
            "linecolor": "white",
            "showbackground": true,
            "ticks": "",
            "zerolinecolor": "white"
           },
           "yaxis": {
            "backgroundcolor": "#E5ECF6",
            "gridcolor": "white",
            "gridwidth": 2,
            "linecolor": "white",
            "showbackground": true,
            "ticks": "",
            "zerolinecolor": "white"
           },
           "zaxis": {
            "backgroundcolor": "#E5ECF6",
            "gridcolor": "white",
            "gridwidth": 2,
            "linecolor": "white",
            "showbackground": true,
            "ticks": "",
            "zerolinecolor": "white"
           }
          },
          "shapedefaults": {
           "line": {
            "color": "#2a3f5f"
           }
          },
          "ternary": {
           "aaxis": {
            "gridcolor": "white",
            "linecolor": "white",
            "ticks": ""
           },
           "baxis": {
            "gridcolor": "white",
            "linecolor": "white",
            "ticks": ""
           },
           "bgcolor": "#E5ECF6",
           "caxis": {
            "gridcolor": "white",
            "linecolor": "white",
            "ticks": ""
           }
          },
          "title": {
           "x": 0.05
          },
          "xaxis": {
           "automargin": true,
           "gridcolor": "white",
           "linecolor": "white",
           "ticks": "",
           "title": {
            "standoff": 15
           },
           "zerolinecolor": "white",
           "zerolinewidth": 2
          },
          "yaxis": {
           "automargin": true,
           "gridcolor": "white",
           "linecolor": "white",
           "ticks": "",
           "title": {
            "standoff": 15
           },
           "zerolinecolor": "white",
           "zerolinewidth": 2
          }
         }
        },
        "width": 1000,
        "xaxis": {
         "anchor": "y",
         "domain": [
          0,
          1
         ],
         "title": {
          "text": "hour"
         }
        },
        "yaxis": {
         "anchor": "x",
         "domain": [
          0,
          1
         ],
         "title": {
          "text": "value"
         }
        }
       }
      }
     },
     "metadata": {},
     "output_type": "display_data"
    },
    {
     "data": {
      "application/vnd.plotly.v1+json": {
       "config": {
        "plotlyServerURL": "https://plot.ly"
       },
       "data": [
        {
         "fillpattern": {
          "shape": ""
         },
         "hovertemplate": "variable=fare_amount<br>hour=%{x}<br>value=%{y}<extra></extra>",
         "legendgroup": "fare_amount",
         "line": {
          "color": "#636efa"
         },
         "marker": {
          "symbol": "circle"
         },
         "mode": "lines",
         "name": "fare_amount",
         "orientation": "v",
         "showlegend": true,
         "stackgroup": "1",
         "type": "scatter",
         "x": [
          0,
          1,
          2,
          3,
          4,
          5,
          6,
          7,
          8,
          9,
          10,
          11,
          12,
          13,
          14,
          15,
          16,
          17,
          18,
          19,
          20,
          21,
          22,
          23
         ],
         "xaxis": "x",
         "y": [
          8193.22,
          6039.22,
          5015.01,
          5324.58,
          4436.77,
          2896.58,
          3628.11,
          6233.52,
          8812.2,
          9886.36,
          11114.85,
          13011.29,
          13436.99,
          15012.08,
          17168.22,
          20853.48,
          22559.15,
          25205.97,
          23717.25,
          17685.96,
          14773.55,
          11337.59,
          10663.45,
          8695.54
         ],
         "yaxis": "y"
        },
        {
         "fillpattern": {
          "shape": ""
         },
         "hovertemplate": "variable=other_fare<br>hour=%{x}<br>value=%{y}<extra></extra>",
         "legendgroup": "other_fare",
         "line": {
          "color": "#EF553B"
         },
         "marker": {
          "symbol": "circle"
         },
         "mode": "lines",
         "name": "other_fare",
         "orientation": "v",
         "showlegend": true,
         "stackgroup": "1",
         "type": "scatter",
         "x": [
          0,
          1,
          2,
          3,
          4,
          5,
          6,
          7,
          8,
          9,
          10,
          11,
          12,
          13,
          14,
          15,
          16,
          17,
          18,
          19,
          20,
          21,
          22,
          23
         ],
         "xaxis": "x",
         "y": [
          1310.75,
          1033.8,
          702.75,
          810.5,
          650.9,
          481.2,
          352.05,
          680.8,
          947.6,
          1139.35,
          1164.6,
          1617.45,
          1657.2,
          1877,
          1924.8999999999999,
          2365.04,
          4865.85,
          5439.35,
          5374.7,
          4186.15,
          2591.8,
          1996.65,
          1836.6999999999998,
          1487.1
         ],
         "yaxis": "y"
        },
        {
         "fillpattern": {
          "shape": ""
         },
         "hovertemplate": "variable=tip_amount<br>hour=%{x}<br>value=%{y}<extra></extra>",
         "legendgroup": "tip_amount",
         "line": {
          "color": "#00cc96"
         },
         "marker": {
          "symbol": "circle"
         },
         "mode": "lines",
         "name": "tip_amount",
         "orientation": "v",
         "showlegend": true,
         "stackgroup": "1",
         "type": "scatter",
         "x": [
          0,
          1,
          2,
          3,
          4,
          5,
          6,
          7,
          8,
          9,
          10,
          11,
          12,
          13,
          14,
          15,
          16,
          17,
          18,
          19,
          20,
          21,
          22,
          23
         ],
         "xaxis": "x",
         "y": [
          785.32,
          674.71,
          393.08,
          348.3,
          398.15,
          223.34,
          338.33,
          539.28,
          730.5,
          760.91,
          851.55,
          1061.7,
          978.92,
          1259.7,
          1391.85,
          1610.98,
          1905.87,
          2560.69,
          2615.79,
          1862.7,
          1624.3,
          1157.11,
          1137.57,
          950.49
         ],
         "yaxis": "y"
        }
       ],
       "layout": {
        "height": 300,
        "legend": {
         "title": {
          "text": "variable"
         },
         "tracegroupgap": 0
        },
        "margin": {
         "t": 60
        },
        "template": {
         "data": {
          "bar": [
           {
            "error_x": {
             "color": "#2a3f5f"
            },
            "error_y": {
             "color": "#2a3f5f"
            },
            "marker": {
             "line": {
              "color": "#E5ECF6",
              "width": 0.5
             },
             "pattern": {
              "fillmode": "overlay",
              "size": 10,
              "solidity": 0.2
             }
            },
            "type": "bar"
           }
          ],
          "barpolar": [
           {
            "marker": {
             "line": {
              "color": "#E5ECF6",
              "width": 0.5
             },
             "pattern": {
              "fillmode": "overlay",
              "size": 10,
              "solidity": 0.2
             }
            },
            "type": "barpolar"
           }
          ],
          "carpet": [
           {
            "aaxis": {
             "endlinecolor": "#2a3f5f",
             "gridcolor": "white",
             "linecolor": "white",
             "minorgridcolor": "white",
             "startlinecolor": "#2a3f5f"
            },
            "baxis": {
             "endlinecolor": "#2a3f5f",
             "gridcolor": "white",
             "linecolor": "white",
             "minorgridcolor": "white",
             "startlinecolor": "#2a3f5f"
            },
            "type": "carpet"
           }
          ],
          "choropleth": [
           {
            "colorbar": {
             "outlinewidth": 0,
             "ticks": ""
            },
            "type": "choropleth"
           }
          ],
          "contour": [
           {
            "colorbar": {
             "outlinewidth": 0,
             "ticks": ""
            },
            "colorscale": [
             [
              0,
              "#0d0887"
             ],
             [
              0.1111111111111111,
              "#46039f"
             ],
             [
              0.2222222222222222,
              "#7201a8"
             ],
             [
              0.3333333333333333,
              "#9c179e"
             ],
             [
              0.4444444444444444,
              "#bd3786"
             ],
             [
              0.5555555555555556,
              "#d8576b"
             ],
             [
              0.6666666666666666,
              "#ed7953"
             ],
             [
              0.7777777777777778,
              "#fb9f3a"
             ],
             [
              0.8888888888888888,
              "#fdca26"
             ],
             [
              1,
              "#f0f921"
             ]
            ],
            "type": "contour"
           }
          ],
          "contourcarpet": [
           {
            "colorbar": {
             "outlinewidth": 0,
             "ticks": ""
            },
            "type": "contourcarpet"
           }
          ],
          "heatmap": [
           {
            "colorbar": {
             "outlinewidth": 0,
             "ticks": ""
            },
            "colorscale": [
             [
              0,
              "#0d0887"
             ],
             [
              0.1111111111111111,
              "#46039f"
             ],
             [
              0.2222222222222222,
              "#7201a8"
             ],
             [
              0.3333333333333333,
              "#9c179e"
             ],
             [
              0.4444444444444444,
              "#bd3786"
             ],
             [
              0.5555555555555556,
              "#d8576b"
             ],
             [
              0.6666666666666666,
              "#ed7953"
             ],
             [
              0.7777777777777778,
              "#fb9f3a"
             ],
             [
              0.8888888888888888,
              "#fdca26"
             ],
             [
              1,
              "#f0f921"
             ]
            ],
            "type": "heatmap"
           }
          ],
          "heatmapgl": [
           {
            "colorbar": {
             "outlinewidth": 0,
             "ticks": ""
            },
            "colorscale": [
             [
              0,
              "#0d0887"
             ],
             [
              0.1111111111111111,
              "#46039f"
             ],
             [
              0.2222222222222222,
              "#7201a8"
             ],
             [
              0.3333333333333333,
              "#9c179e"
             ],
             [
              0.4444444444444444,
              "#bd3786"
             ],
             [
              0.5555555555555556,
              "#d8576b"
             ],
             [
              0.6666666666666666,
              "#ed7953"
             ],
             [
              0.7777777777777778,
              "#fb9f3a"
             ],
             [
              0.8888888888888888,
              "#fdca26"
             ],
             [
              1,
              "#f0f921"
             ]
            ],
            "type": "heatmapgl"
           }
          ],
          "histogram": [
           {
            "marker": {
             "pattern": {
              "fillmode": "overlay",
              "size": 10,
              "solidity": 0.2
             }
            },
            "type": "histogram"
           }
          ],
          "histogram2d": [
           {
            "colorbar": {
             "outlinewidth": 0,
             "ticks": ""
            },
            "colorscale": [
             [
              0,
              "#0d0887"
             ],
             [
              0.1111111111111111,
              "#46039f"
             ],
             [
              0.2222222222222222,
              "#7201a8"
             ],
             [
              0.3333333333333333,
              "#9c179e"
             ],
             [
              0.4444444444444444,
              "#bd3786"
             ],
             [
              0.5555555555555556,
              "#d8576b"
             ],
             [
              0.6666666666666666,
              "#ed7953"
             ],
             [
              0.7777777777777778,
              "#fb9f3a"
             ],
             [
              0.8888888888888888,
              "#fdca26"
             ],
             [
              1,
              "#f0f921"
             ]
            ],
            "type": "histogram2d"
           }
          ],
          "histogram2dcontour": [
           {
            "colorbar": {
             "outlinewidth": 0,
             "ticks": ""
            },
            "colorscale": [
             [
              0,
              "#0d0887"
             ],
             [
              0.1111111111111111,
              "#46039f"
             ],
             [
              0.2222222222222222,
              "#7201a8"
             ],
             [
              0.3333333333333333,
              "#9c179e"
             ],
             [
              0.4444444444444444,
              "#bd3786"
             ],
             [
              0.5555555555555556,
              "#d8576b"
             ],
             [
              0.6666666666666666,
              "#ed7953"
             ],
             [
              0.7777777777777778,
              "#fb9f3a"
             ],
             [
              0.8888888888888888,
              "#fdca26"
             ],
             [
              1,
              "#f0f921"
             ]
            ],
            "type": "histogram2dcontour"
           }
          ],
          "mesh3d": [
           {
            "colorbar": {
             "outlinewidth": 0,
             "ticks": ""
            },
            "type": "mesh3d"
           }
          ],
          "parcoords": [
           {
            "line": {
             "colorbar": {
              "outlinewidth": 0,
              "ticks": ""
             }
            },
            "type": "parcoords"
           }
          ],
          "pie": [
           {
            "automargin": true,
            "type": "pie"
           }
          ],
          "scatter": [
           {
            "fillpattern": {
             "fillmode": "overlay",
             "size": 10,
             "solidity": 0.2
            },
            "type": "scatter"
           }
          ],
          "scatter3d": [
           {
            "line": {
             "colorbar": {
              "outlinewidth": 0,
              "ticks": ""
             }
            },
            "marker": {
             "colorbar": {
              "outlinewidth": 0,
              "ticks": ""
             }
            },
            "type": "scatter3d"
           }
          ],
          "scattercarpet": [
           {
            "marker": {
             "colorbar": {
              "outlinewidth": 0,
              "ticks": ""
             }
            },
            "type": "scattercarpet"
           }
          ],
          "scattergeo": [
           {
            "marker": {
             "colorbar": {
              "outlinewidth": 0,
              "ticks": ""
             }
            },
            "type": "scattergeo"
           }
          ],
          "scattergl": [
           {
            "marker": {
             "colorbar": {
              "outlinewidth": 0,
              "ticks": ""
             }
            },
            "type": "scattergl"
           }
          ],
          "scattermapbox": [
           {
            "marker": {
             "colorbar": {
              "outlinewidth": 0,
              "ticks": ""
             }
            },
            "type": "scattermapbox"
           }
          ],
          "scatterpolar": [
           {
            "marker": {
             "colorbar": {
              "outlinewidth": 0,
              "ticks": ""
             }
            },
            "type": "scatterpolar"
           }
          ],
          "scatterpolargl": [
           {
            "marker": {
             "colorbar": {
              "outlinewidth": 0,
              "ticks": ""
             }
            },
            "type": "scatterpolargl"
           }
          ],
          "scatterternary": [
           {
            "marker": {
             "colorbar": {
              "outlinewidth": 0,
              "ticks": ""
             }
            },
            "type": "scatterternary"
           }
          ],
          "surface": [
           {
            "colorbar": {
             "outlinewidth": 0,
             "ticks": ""
            },
            "colorscale": [
             [
              0,
              "#0d0887"
             ],
             [
              0.1111111111111111,
              "#46039f"
             ],
             [
              0.2222222222222222,
              "#7201a8"
             ],
             [
              0.3333333333333333,
              "#9c179e"
             ],
             [
              0.4444444444444444,
              "#bd3786"
             ],
             [
              0.5555555555555556,
              "#d8576b"
             ],
             [
              0.6666666666666666,
              "#ed7953"
             ],
             [
              0.7777777777777778,
              "#fb9f3a"
             ],
             [
              0.8888888888888888,
              "#fdca26"
             ],
             [
              1,
              "#f0f921"
             ]
            ],
            "type": "surface"
           }
          ],
          "table": [
           {
            "cells": {
             "fill": {
              "color": "#EBF0F8"
             },
             "line": {
              "color": "white"
             }
            },
            "header": {
             "fill": {
              "color": "#C8D4E3"
             },
             "line": {
              "color": "white"
             }
            },
            "type": "table"
           }
          ]
         },
         "layout": {
          "annotationdefaults": {
           "arrowcolor": "#2a3f5f",
           "arrowhead": 0,
           "arrowwidth": 1
          },
          "autotypenumbers": "strict",
          "coloraxis": {
           "colorbar": {
            "outlinewidth": 0,
            "ticks": ""
           }
          },
          "colorscale": {
           "diverging": [
            [
             0,
             "#8e0152"
            ],
            [
             0.1,
             "#c51b7d"
            ],
            [
             0.2,
             "#de77ae"
            ],
            [
             0.3,
             "#f1b6da"
            ],
            [
             0.4,
             "#fde0ef"
            ],
            [
             0.5,
             "#f7f7f7"
            ],
            [
             0.6,
             "#e6f5d0"
            ],
            [
             0.7,
             "#b8e186"
            ],
            [
             0.8,
             "#7fbc41"
            ],
            [
             0.9,
             "#4d9221"
            ],
            [
             1,
             "#276419"
            ]
           ],
           "sequential": [
            [
             0,
             "#0d0887"
            ],
            [
             0.1111111111111111,
             "#46039f"
            ],
            [
             0.2222222222222222,
             "#7201a8"
            ],
            [
             0.3333333333333333,
             "#9c179e"
            ],
            [
             0.4444444444444444,
             "#bd3786"
            ],
            [
             0.5555555555555556,
             "#d8576b"
            ],
            [
             0.6666666666666666,
             "#ed7953"
            ],
            [
             0.7777777777777778,
             "#fb9f3a"
            ],
            [
             0.8888888888888888,
             "#fdca26"
            ],
            [
             1,
             "#f0f921"
            ]
           ],
           "sequentialminus": [
            [
             0,
             "#0d0887"
            ],
            [
             0.1111111111111111,
             "#46039f"
            ],
            [
             0.2222222222222222,
             "#7201a8"
            ],
            [
             0.3333333333333333,
             "#9c179e"
            ],
            [
             0.4444444444444444,
             "#bd3786"
            ],
            [
             0.5555555555555556,
             "#d8576b"
            ],
            [
             0.6666666666666666,
             "#ed7953"
            ],
            [
             0.7777777777777778,
             "#fb9f3a"
            ],
            [
             0.8888888888888888,
             "#fdca26"
            ],
            [
             1,
             "#f0f921"
            ]
           ]
          },
          "colorway": [
           "#636efa",
           "#EF553B",
           "#00cc96",
           "#ab63fa",
           "#FFA15A",
           "#19d3f3",
           "#FF6692",
           "#B6E880",
           "#FF97FF",
           "#FECB52"
          ],
          "font": {
           "color": "#2a3f5f"
          },
          "geo": {
           "bgcolor": "white",
           "lakecolor": "white",
           "landcolor": "#E5ECF6",
           "showlakes": true,
           "showland": true,
           "subunitcolor": "white"
          },
          "hoverlabel": {
           "align": "left"
          },
          "hovermode": "closest",
          "mapbox": {
           "style": "light"
          },
          "paper_bgcolor": "white",
          "plot_bgcolor": "#E5ECF6",
          "polar": {
           "angularaxis": {
            "gridcolor": "white",
            "linecolor": "white",
            "ticks": ""
           },
           "bgcolor": "#E5ECF6",
           "radialaxis": {
            "gridcolor": "white",
            "linecolor": "white",
            "ticks": ""
           }
          },
          "scene": {
           "xaxis": {
            "backgroundcolor": "#E5ECF6",
            "gridcolor": "white",
            "gridwidth": 2,
            "linecolor": "white",
            "showbackground": true,
            "ticks": "",
            "zerolinecolor": "white"
           },
           "yaxis": {
            "backgroundcolor": "#E5ECF6",
            "gridcolor": "white",
            "gridwidth": 2,
            "linecolor": "white",
            "showbackground": true,
            "ticks": "",
            "zerolinecolor": "white"
           },
           "zaxis": {
            "backgroundcolor": "#E5ECF6",
            "gridcolor": "white",
            "gridwidth": 2,
            "linecolor": "white",
            "showbackground": true,
            "ticks": "",
            "zerolinecolor": "white"
           }
          },
          "shapedefaults": {
           "line": {
            "color": "#2a3f5f"
           }
          },
          "ternary": {
           "aaxis": {
            "gridcolor": "white",
            "linecolor": "white",
            "ticks": ""
           },
           "baxis": {
            "gridcolor": "white",
            "linecolor": "white",
            "ticks": ""
           },
           "bgcolor": "#E5ECF6",
           "caxis": {
            "gridcolor": "white",
            "linecolor": "white",
            "ticks": ""
           }
          },
          "title": {
           "x": 0.05
          },
          "xaxis": {
           "automargin": true,
           "gridcolor": "white",
           "linecolor": "white",
           "ticks": "",
           "title": {
            "standoff": 15
           },
           "zerolinecolor": "white",
           "zerolinewidth": 2
          },
          "yaxis": {
           "automargin": true,
           "gridcolor": "white",
           "linecolor": "white",
           "ticks": "",
           "title": {
            "standoff": 15
           },
           "zerolinecolor": "white",
           "zerolinewidth": 2
          }
         }
        },
        "width": 1000,
        "xaxis": {
         "anchor": "y",
         "domain": [
          0,
          1
         ],
         "title": {
          "text": "hour"
         }
        },
        "yaxis": {
         "anchor": "x",
         "domain": [
          0,
          1
         ],
         "title": {
          "text": "value"
         }
        }
       }
      }
     },
     "metadata": {},
     "output_type": "display_data"
    },
    {
     "data": {
      "application/vnd.plotly.v1+json": {
       "config": {
        "plotlyServerURL": "https://plot.ly"
       },
       "data": [
        {
         "fillpattern": {
          "shape": ""
         },
         "hovertemplate": "variable=fare_amount<br>hour=%{x}<br>value=%{y}<extra></extra>",
         "legendgroup": "fare_amount",
         "line": {
          "color": "#636efa"
         },
         "marker": {
          "symbol": "circle"
         },
         "mode": "lines",
         "name": "fare_amount",
         "orientation": "v",
         "showlegend": true,
         "stackgroup": "1",
         "type": "scatter",
         "x": [
          0,
          1,
          2,
          3,
          4,
          5,
          6,
          7,
          8,
          9,
          10,
          11,
          12,
          13,
          14,
          15,
          16,
          17,
          18,
          19,
          20,
          21,
          22,
          23
         ],
         "xaxis": "x",
         "y": [
          519.93,
          381.94,
          289.24,
          131.6,
          155.1,
          658.78,
          359.52,
          561.62,
          1082.86,
          1529.96,
          2228.2799999999997,
          2088.93,
          1606.3899999999999,
          1818.38,
          1755.42,
          1460.19,
          1018.84,
          809.06,
          1143.28,
          776.55,
          663.84,
          458.21,
          465.71000000000004,
          352.94
         ],
         "yaxis": "y"
        },
        {
         "fillpattern": {
          "shape": ""
         },
         "hovertemplate": "variable=other_fare<br>hour=%{x}<br>value=%{y}<extra></extra>",
         "legendgroup": "other_fare",
         "line": {
          "color": "#EF553B"
         },
         "marker": {
          "symbol": "circle"
         },
         "mode": "lines",
         "name": "other_fare",
         "orientation": "v",
         "showlegend": true,
         "stackgroup": "1",
         "type": "scatter",
         "x": [
          0,
          1,
          2,
          3,
          4,
          5,
          6,
          7,
          8,
          9,
          10,
          11,
          12,
          13,
          14,
          15,
          16,
          17,
          18,
          19,
          20,
          21,
          22,
          23
         ],
         "xaxis": "x",
         "y": [
          53.2,
          45.099999999999994,
          25.549999999999997,
          27.55,
          13.599999999999998,
          108.44999999999997,
          27.5,
          60.45,
          117.14999999999998,
          144.14999999999998,
          169.39000000000004,
          208.79999999999998,
          175.24999999999997,
          156.79999999999998,
          155.5,
          109.95,
          158.25,
          114.35,
          119.85000000000001,
          122.89999999999999,
          101.10000000000001,
          56.650000000000006,
          47.599999999999994,
          37.85
         ],
         "yaxis": "y"
        },
        {
         "fillpattern": {
          "shape": ""
         },
         "hovertemplate": "variable=tip_amount<br>hour=%{x}<br>value=%{y}<extra></extra>",
         "legendgroup": "tip_amount",
         "line": {
          "color": "#00cc96"
         },
         "marker": {
          "symbol": "circle"
         },
         "mode": "lines",
         "name": "tip_amount",
         "orientation": "v",
         "showlegend": true,
         "stackgroup": "1",
         "type": "scatter",
         "x": [
          0,
          1,
          2,
          3,
          4,
          5,
          6,
          7,
          8,
          9,
          10,
          11,
          12,
          13,
          14,
          15,
          16,
          17,
          18,
          19,
          20,
          21,
          22,
          23
         ],
         "xaxis": "x",
         "y": [
          38.73,
          12.18,
          18.04,
          9.1,
          0,
          10.45,
          23.29,
          44.120000000000005,
          17.98,
          55.95,
          96.51,
          62.23,
          20.64,
          49.63,
          71.12,
          32.79,
          26.05,
          14.61,
          17.630000000000003,
          31.14,
          41.2,
          37.73,
          9.62,
          9.530000000000001
         ],
         "yaxis": "y"
        }
       ],
       "layout": {
        "height": 300,
        "legend": {
         "title": {
          "text": "variable"
         },
         "tracegroupgap": 0
        },
        "margin": {
         "t": 60
        },
        "template": {
         "data": {
          "bar": [
           {
            "error_x": {
             "color": "#2a3f5f"
            },
            "error_y": {
             "color": "#2a3f5f"
            },
            "marker": {
             "line": {
              "color": "#E5ECF6",
              "width": 0.5
             },
             "pattern": {
              "fillmode": "overlay",
              "size": 10,
              "solidity": 0.2
             }
            },
            "type": "bar"
           }
          ],
          "barpolar": [
           {
            "marker": {
             "line": {
              "color": "#E5ECF6",
              "width": 0.5
             },
             "pattern": {
              "fillmode": "overlay",
              "size": 10,
              "solidity": 0.2
             }
            },
            "type": "barpolar"
           }
          ],
          "carpet": [
           {
            "aaxis": {
             "endlinecolor": "#2a3f5f",
             "gridcolor": "white",
             "linecolor": "white",
             "minorgridcolor": "white",
             "startlinecolor": "#2a3f5f"
            },
            "baxis": {
             "endlinecolor": "#2a3f5f",
             "gridcolor": "white",
             "linecolor": "white",
             "minorgridcolor": "white",
             "startlinecolor": "#2a3f5f"
            },
            "type": "carpet"
           }
          ],
          "choropleth": [
           {
            "colorbar": {
             "outlinewidth": 0,
             "ticks": ""
            },
            "type": "choropleth"
           }
          ],
          "contour": [
           {
            "colorbar": {
             "outlinewidth": 0,
             "ticks": ""
            },
            "colorscale": [
             [
              0,
              "#0d0887"
             ],
             [
              0.1111111111111111,
              "#46039f"
             ],
             [
              0.2222222222222222,
              "#7201a8"
             ],
             [
              0.3333333333333333,
              "#9c179e"
             ],
             [
              0.4444444444444444,
              "#bd3786"
             ],
             [
              0.5555555555555556,
              "#d8576b"
             ],
             [
              0.6666666666666666,
              "#ed7953"
             ],
             [
              0.7777777777777778,
              "#fb9f3a"
             ],
             [
              0.8888888888888888,
              "#fdca26"
             ],
             [
              1,
              "#f0f921"
             ]
            ],
            "type": "contour"
           }
          ],
          "contourcarpet": [
           {
            "colorbar": {
             "outlinewidth": 0,
             "ticks": ""
            },
            "type": "contourcarpet"
           }
          ],
          "heatmap": [
           {
            "colorbar": {
             "outlinewidth": 0,
             "ticks": ""
            },
            "colorscale": [
             [
              0,
              "#0d0887"
             ],
             [
              0.1111111111111111,
              "#46039f"
             ],
             [
              0.2222222222222222,
              "#7201a8"
             ],
             [
              0.3333333333333333,
              "#9c179e"
             ],
             [
              0.4444444444444444,
              "#bd3786"
             ],
             [
              0.5555555555555556,
              "#d8576b"
             ],
             [
              0.6666666666666666,
              "#ed7953"
             ],
             [
              0.7777777777777778,
              "#fb9f3a"
             ],
             [
              0.8888888888888888,
              "#fdca26"
             ],
             [
              1,
              "#f0f921"
             ]
            ],
            "type": "heatmap"
           }
          ],
          "heatmapgl": [
           {
            "colorbar": {
             "outlinewidth": 0,
             "ticks": ""
            },
            "colorscale": [
             [
              0,
              "#0d0887"
             ],
             [
              0.1111111111111111,
              "#46039f"
             ],
             [
              0.2222222222222222,
              "#7201a8"
             ],
             [
              0.3333333333333333,
              "#9c179e"
             ],
             [
              0.4444444444444444,
              "#bd3786"
             ],
             [
              0.5555555555555556,
              "#d8576b"
             ],
             [
              0.6666666666666666,
              "#ed7953"
             ],
             [
              0.7777777777777778,
              "#fb9f3a"
             ],
             [
              0.8888888888888888,
              "#fdca26"
             ],
             [
              1,
              "#f0f921"
             ]
            ],
            "type": "heatmapgl"
           }
          ],
          "histogram": [
           {
            "marker": {
             "pattern": {
              "fillmode": "overlay",
              "size": 10,
              "solidity": 0.2
             }
            },
            "type": "histogram"
           }
          ],
          "histogram2d": [
           {
            "colorbar": {
             "outlinewidth": 0,
             "ticks": ""
            },
            "colorscale": [
             [
              0,
              "#0d0887"
             ],
             [
              0.1111111111111111,
              "#46039f"
             ],
             [
              0.2222222222222222,
              "#7201a8"
             ],
             [
              0.3333333333333333,
              "#9c179e"
             ],
             [
              0.4444444444444444,
              "#bd3786"
             ],
             [
              0.5555555555555556,
              "#d8576b"
             ],
             [
              0.6666666666666666,
              "#ed7953"
             ],
             [
              0.7777777777777778,
              "#fb9f3a"
             ],
             [
              0.8888888888888888,
              "#fdca26"
             ],
             [
              1,
              "#f0f921"
             ]
            ],
            "type": "histogram2d"
           }
          ],
          "histogram2dcontour": [
           {
            "colorbar": {
             "outlinewidth": 0,
             "ticks": ""
            },
            "colorscale": [
             [
              0,
              "#0d0887"
             ],
             [
              0.1111111111111111,
              "#46039f"
             ],
             [
              0.2222222222222222,
              "#7201a8"
             ],
             [
              0.3333333333333333,
              "#9c179e"
             ],
             [
              0.4444444444444444,
              "#bd3786"
             ],
             [
              0.5555555555555556,
              "#d8576b"
             ],
             [
              0.6666666666666666,
              "#ed7953"
             ],
             [
              0.7777777777777778,
              "#fb9f3a"
             ],
             [
              0.8888888888888888,
              "#fdca26"
             ],
             [
              1,
              "#f0f921"
             ]
            ],
            "type": "histogram2dcontour"
           }
          ],
          "mesh3d": [
           {
            "colorbar": {
             "outlinewidth": 0,
             "ticks": ""
            },
            "type": "mesh3d"
           }
          ],
          "parcoords": [
           {
            "line": {
             "colorbar": {
              "outlinewidth": 0,
              "ticks": ""
             }
            },
            "type": "parcoords"
           }
          ],
          "pie": [
           {
            "automargin": true,
            "type": "pie"
           }
          ],
          "scatter": [
           {
            "fillpattern": {
             "fillmode": "overlay",
             "size": 10,
             "solidity": 0.2
            },
            "type": "scatter"
           }
          ],
          "scatter3d": [
           {
            "line": {
             "colorbar": {
              "outlinewidth": 0,
              "ticks": ""
             }
            },
            "marker": {
             "colorbar": {
              "outlinewidth": 0,
              "ticks": ""
             }
            },
            "type": "scatter3d"
           }
          ],
          "scattercarpet": [
           {
            "marker": {
             "colorbar": {
              "outlinewidth": 0,
              "ticks": ""
             }
            },
            "type": "scattercarpet"
           }
          ],
          "scattergeo": [
           {
            "marker": {
             "colorbar": {
              "outlinewidth": 0,
              "ticks": ""
             }
            },
            "type": "scattergeo"
           }
          ],
          "scattergl": [
           {
            "marker": {
             "colorbar": {
              "outlinewidth": 0,
              "ticks": ""
             }
            },
            "type": "scattergl"
           }
          ],
          "scattermapbox": [
           {
            "marker": {
             "colorbar": {
              "outlinewidth": 0,
              "ticks": ""
             }
            },
            "type": "scattermapbox"
           }
          ],
          "scatterpolar": [
           {
            "marker": {
             "colorbar": {
              "outlinewidth": 0,
              "ticks": ""
             }
            },
            "type": "scatterpolar"
           }
          ],
          "scatterpolargl": [
           {
            "marker": {
             "colorbar": {
              "outlinewidth": 0,
              "ticks": ""
             }
            },
            "type": "scatterpolargl"
           }
          ],
          "scatterternary": [
           {
            "marker": {
             "colorbar": {
              "outlinewidth": 0,
              "ticks": ""
             }
            },
            "type": "scatterternary"
           }
          ],
          "surface": [
           {
            "colorbar": {
             "outlinewidth": 0,
             "ticks": ""
            },
            "colorscale": [
             [
              0,
              "#0d0887"
             ],
             [
              0.1111111111111111,
              "#46039f"
             ],
             [
              0.2222222222222222,
              "#7201a8"
             ],
             [
              0.3333333333333333,
              "#9c179e"
             ],
             [
              0.4444444444444444,
              "#bd3786"
             ],
             [
              0.5555555555555556,
              "#d8576b"
             ],
             [
              0.6666666666666666,
              "#ed7953"
             ],
             [
              0.7777777777777778,
              "#fb9f3a"
             ],
             [
              0.8888888888888888,
              "#fdca26"
             ],
             [
              1,
              "#f0f921"
             ]
            ],
            "type": "surface"
           }
          ],
          "table": [
           {
            "cells": {
             "fill": {
              "color": "#EBF0F8"
             },
             "line": {
              "color": "white"
             }
            },
            "header": {
             "fill": {
              "color": "#C8D4E3"
             },
             "line": {
              "color": "white"
             }
            },
            "type": "table"
           }
          ]
         },
         "layout": {
          "annotationdefaults": {
           "arrowcolor": "#2a3f5f",
           "arrowhead": 0,
           "arrowwidth": 1
          },
          "autotypenumbers": "strict",
          "coloraxis": {
           "colorbar": {
            "outlinewidth": 0,
            "ticks": ""
           }
          },
          "colorscale": {
           "diverging": [
            [
             0,
             "#8e0152"
            ],
            [
             0.1,
             "#c51b7d"
            ],
            [
             0.2,
             "#de77ae"
            ],
            [
             0.3,
             "#f1b6da"
            ],
            [
             0.4,
             "#fde0ef"
            ],
            [
             0.5,
             "#f7f7f7"
            ],
            [
             0.6,
             "#e6f5d0"
            ],
            [
             0.7,
             "#b8e186"
            ],
            [
             0.8,
             "#7fbc41"
            ],
            [
             0.9,
             "#4d9221"
            ],
            [
             1,
             "#276419"
            ]
           ],
           "sequential": [
            [
             0,
             "#0d0887"
            ],
            [
             0.1111111111111111,
             "#46039f"
            ],
            [
             0.2222222222222222,
             "#7201a8"
            ],
            [
             0.3333333333333333,
             "#9c179e"
            ],
            [
             0.4444444444444444,
             "#bd3786"
            ],
            [
             0.5555555555555556,
             "#d8576b"
            ],
            [
             0.6666666666666666,
             "#ed7953"
            ],
            [
             0.7777777777777778,
             "#fb9f3a"
            ],
            [
             0.8888888888888888,
             "#fdca26"
            ],
            [
             1,
             "#f0f921"
            ]
           ],
           "sequentialminus": [
            [
             0,
             "#0d0887"
            ],
            [
             0.1111111111111111,
             "#46039f"
            ],
            [
             0.2222222222222222,
             "#7201a8"
            ],
            [
             0.3333333333333333,
             "#9c179e"
            ],
            [
             0.4444444444444444,
             "#bd3786"
            ],
            [
             0.5555555555555556,
             "#d8576b"
            ],
            [
             0.6666666666666666,
             "#ed7953"
            ],
            [
             0.7777777777777778,
             "#fb9f3a"
            ],
            [
             0.8888888888888888,
             "#fdca26"
            ],
            [
             1,
             "#f0f921"
            ]
           ]
          },
          "colorway": [
           "#636efa",
           "#EF553B",
           "#00cc96",
           "#ab63fa",
           "#FFA15A",
           "#19d3f3",
           "#FF6692",
           "#B6E880",
           "#FF97FF",
           "#FECB52"
          ],
          "font": {
           "color": "#2a3f5f"
          },
          "geo": {
           "bgcolor": "white",
           "lakecolor": "white",
           "landcolor": "#E5ECF6",
           "showlakes": true,
           "showland": true,
           "subunitcolor": "white"
          },
          "hoverlabel": {
           "align": "left"
          },
          "hovermode": "closest",
          "mapbox": {
           "style": "light"
          },
          "paper_bgcolor": "white",
          "plot_bgcolor": "#E5ECF6",
          "polar": {
           "angularaxis": {
            "gridcolor": "white",
            "linecolor": "white",
            "ticks": ""
           },
           "bgcolor": "#E5ECF6",
           "radialaxis": {
            "gridcolor": "white",
            "linecolor": "white",
            "ticks": ""
           }
          },
          "scene": {
           "xaxis": {
            "backgroundcolor": "#E5ECF6",
            "gridcolor": "white",
            "gridwidth": 2,
            "linecolor": "white",
            "showbackground": true,
            "ticks": "",
            "zerolinecolor": "white"
           },
           "yaxis": {
            "backgroundcolor": "#E5ECF6",
            "gridcolor": "white",
            "gridwidth": 2,
            "linecolor": "white",
            "showbackground": true,
            "ticks": "",
            "zerolinecolor": "white"
           },
           "zaxis": {
            "backgroundcolor": "#E5ECF6",
            "gridcolor": "white",
            "gridwidth": 2,
            "linecolor": "white",
            "showbackground": true,
            "ticks": "",
            "zerolinecolor": "white"
           }
          },
          "shapedefaults": {
           "line": {
            "color": "#2a3f5f"
           }
          },
          "ternary": {
           "aaxis": {
            "gridcolor": "white",
            "linecolor": "white",
            "ticks": ""
           },
           "baxis": {
            "gridcolor": "white",
            "linecolor": "white",
            "ticks": ""
           },
           "bgcolor": "#E5ECF6",
           "caxis": {
            "gridcolor": "white",
            "linecolor": "white",
            "ticks": ""
           }
          },
          "title": {
           "x": 0.05
          },
          "xaxis": {
           "automargin": true,
           "gridcolor": "white",
           "linecolor": "white",
           "ticks": "",
           "title": {
            "standoff": 15
           },
           "zerolinecolor": "white",
           "zerolinewidth": 2
          },
          "yaxis": {
           "automargin": true,
           "gridcolor": "white",
           "linecolor": "white",
           "ticks": "",
           "title": {
            "standoff": 15
           },
           "zerolinecolor": "white",
           "zerolinewidth": 2
          }
         }
        },
        "width": 1000,
        "xaxis": {
         "anchor": "y",
         "domain": [
          0,
          1
         ],
         "title": {
          "text": "hour"
         }
        },
        "yaxis": {
         "anchor": "x",
         "domain": [
          0,
          1
         ],
         "title": {
          "text": "value"
         }
        }
       }
      }
     },
     "metadata": {},
     "output_type": "display_data"
    }
   ],
   "source": [
    "area = df.groupby(by=['PUborough','hour'])[['fare_amount','other_fare','tip_amount','total_amount']].sum().reset_index()\n",
    "for i, borough in enumerate(boroughs):\n",
    "    fig = px.area(area[area['PUborough']==borough], x='hour', y=['fare_amount','other_fare', 'tip_amount'],\n",
    "    width=1000, height=300)\n",
    "    fig.show()"
   ]
  },
  {
   "cell_type": "markdown",
   "metadata": {},
   "source": [
    "**From these graphs we can conclude**\n",
    "\n",
    "- The tip amount are in tune with the other fare, meaning that the passengers usually tips the taxi drivers according to the amount of cost they have to pay"
   ]
  },
  {
   "cell_type": "code",
   "execution_count": 116,
   "metadata": {},
   "outputs": [
    {
     "data": {
      "image/png": "[encoded data removed]",
      "text/plain": [
       "<Figure size 900x600 with 8 Axes>"
      ]
     },
     "metadata": {},
     "output_type": "display_data"
    }
   ],
   "source": [
    "fig, axes = plt.subplots(2, 2, figsize=(9, 6))\n",
    "plt.suptitle('Average Tip Percentage Distribution')\n",
    "# making the heatmap of tips percentage\n",
    "for i, borough in enumerate(boroughs):\n",
    "    row, col = divmod(i, 2) \n",
    "    ax = axes[row, col]\n",
    "    \n",
    "    heatmap_data = df[df['PUborough'] == borough].pivot_table(index='day', columns=df['PUtime'].dt.hour, values='tip%', aggfunc='mean').reset_index()\n",
    "    \n",
    "    heatmap_data['day'] = pd.Categorical(heatmap_data['day'], categories=daysorted, ordered=True)\n",
    "    heatmap_data = heatmap_data.sort_values('day')\n",
    "    heatmap_data = heatmap_data.set_index('day')\n",
    "    heatmap_data = heatmap_data.sort_index()\n",
    "    \n",
    "    sns.heatmap(heatmap_data, cmap='YlGn', cbar_kws={'label': 'Tip Percentage (%)'}, ax=ax)\n",
    "    ax.set_title(f'{borough}')\n",
    "    ax.set_xlabel('Hour of the Day')\n",
    "    ax.set_ylabel('')\n",
    "    ax.grid(False)\n",
    "\n",
    "plt.tight_layout(rect=[0, 0, 1, 0.95])\n",
    "plt.show()\n"
   ]
  },
  {
   "cell_type": "markdown",
   "metadata": {},
   "source": [
    "**From these graphic we can conclude:**\n",
    "- **Manhattan** is the borough with the most consistency in terms of tipping. In the weekdays the tipping value have a denser volume at the work hour, while at the weekend it is denser in the afternoon all the way to midnight.\n",
    "- **Brooklyn, Queens** and **Bronx**'s tipping distribution are less consistence. Centering in a few time of the hours only without precise pattern."
   ]
  },
  {
   "cell_type": "markdown",
   "metadata": {},
   "source": [
    "**Classifying the tipping amount**,\n",
    "\n",
    "\n",
    "we are going to classify the tip amoung into a few categories:\n",
    "\n",
    "\n",
    "| Tip Class        | Tip (% of total amount)|\n",
    "|------------------|--------------|\n",
    "| Cash | 0 (with cash as payments)\n",
    "| No tip           | 0          |\n",
    "| Modest           | 0% - 10%         |\n",
    "| Moderate         | 10% - 15%       |\n",
    "| Generous         | 15% -20%       |\n",
    "| Very Generous    | > 20%        |\n",
    "\n",
    "This will help us understand the culture and pattern of tipping amount in each borough.\n"
   ]
  },
  {
   "cell_type": "code",
   "execution_count": 117,
   "metadata": {},
   "outputs": [],
   "source": [
    "# making a new column consisting of the classified trip class\n",
    "df['tip_class'] = np.where(df['tip%'] >= 20, 'Very Generous',\n",
    "            np.where(df['tip%'] >= 15, 'Generous',\n",
    "            np.where(df['tip%'] >= 10, 'Moderate',\n",
    "            np.where(df['tip%'] > 0, 'Modest',\n",
    "            np.where(df['payment_type'].isin(['Cash']),'Cash',\n",
    "            'No tip')))))\n",
    "df['tip_class'] = pd.Categorical(df['tip_class'], categories=classsorted, ordered=True)"
   ]
  },
  {
   "cell_type": "code",
   "execution_count": 118,
   "metadata": {},
   "outputs": [
    {
     "data": {
      "image/png": "[encoded data removed]",
      "text/plain": [
       "<Figure size 1000x600 with 1 Axes>"
      ]
     },
     "metadata": {},
     "output_type": "display_data"
    }
   ],
   "source": [
    "# making a stacked barplot consisting of the tip class by borough\n",
    "tipclass = df.groupby(['PUborough','tip_class'])['PUtime'].count().reset_index()\n",
    "pivot_tip = tipclass.pivot(index='PUborough', columns='tip_class', values='PUtime').fillna(0)\n",
    "\n",
    "pivot_tip_percentage = pivot_tip.div(pivot_tip.sum(axis=1), axis=0) * 100\n",
    "pivot_tip_percentage.dropna(inplace=True)\n",
    "\n",
    "ax = pivot_tip_percentage.plot(kind='barh', stacked=True, figsize=(10, 6), width=0.6, colormap='Spectral')\n",
    "\n",
    "ax.set_title('Tip Class by Borough', size=16)\n",
    "ax.set_xlabel('Borough')\n",
    "ax.set_ylabel('Percentage')\n",
    "plt.legend(title='Tip Class', loc='upper left', bbox_to_anchor=(1, 1))\n",
    "plt.show()"
   ]
  },
  {
   "cell_type": "markdown",
   "metadata": {},
   "source": [
    "**From this graphic we can conclude:**\n",
    "- More people in **Manhattan** and **Brooklyn** are giving a generous amount of trip, indirectly describing their benevolence in their financial ability.\n",
    "\n",
    "- In borough like **Queens** and **Bronx** there are less people that gives very generous amount of tips, but with their huge proportion of cash payments this might be affected the recording of the tips."
   ]
  },
  {
   "cell_type": "markdown",
   "metadata": {},
   "source": [
    "**Insights:**\n",
    "- The taxi passengers in Manhattan are more generous towards tipping, meaning that the people are more willing to pay extra cash for a service.\n",
    "\n",
    "- The tip amount is heavily relative to the fare and total amount that needed to be paid."
   ]
  },
  {
   "cell_type": "markdown",
   "metadata": {},
   "source": [
    "### **Off-to-work Hours** \n",
    "\n",
    "After analyzing the NYC trips pattern, it is concluded that most of the taxi users are people in the need of transportation going in-and-out of work. The question is now how can we use this information to reduce costs and enchance efficiency.\n",
    "\n",
    "Off-to-work hours (7AM-10AM) are the times when high number of people are going to work simultenaously. "
   ]
  },
  {
   "cell_type": "code",
   "execution_count": 119,
   "metadata": {},
   "outputs": [
    {
     "data": {
      "text/html": [
       "<div>\n",
       "<style scoped>\n",
       "    .dataframe tbody tr th:only-of-type {\n",
       "        vertical-align: middle;\n",
       "    }\n",
       "\n",
       "    .dataframe tbody tr th {\n",
       "        vertical-align: top;\n",
       "    }\n",
       "\n",
       "    .dataframe thead th {\n",
       "        text-align: right;\n",
       "    }\n",
       "</style>\n",
       "<table border=\"1\" class=\"dataframe\">\n",
       "  <thead>\n",
       "    <tr style=\"text-align: right;\">\n",
       "      <th></th>\n",
       "      <th>Trips on AVG</th>\n",
       "    </tr>\n",
       "    <tr>\n",
       "      <th>DOzone</th>\n",
       "      <th></th>\n",
       "    </tr>\n",
       "  </thead>\n",
       "  <tbody>\n",
       "    <tr>\n",
       "      <th>East Harlem South</th>\n",
       "      <td>48.0</td>\n",
       "    </tr>\n",
       "    <tr>\n",
       "      <th>East Harlem North</th>\n",
       "      <td>27.0</td>\n",
       "    </tr>\n",
       "    <tr>\n",
       "      <th>Morningside Heights</th>\n",
       "      <td>26.0</td>\n",
       "    </tr>\n",
       "    <tr>\n",
       "      <th>Upper East Side North</th>\n",
       "      <td>26.0</td>\n",
       "    </tr>\n",
       "    <tr>\n",
       "      <th>Central Harlem</th>\n",
       "      <td>22.0</td>\n",
       "    </tr>\n",
       "  </tbody>\n",
       "</table>\n",
       "</div>"
      ],
      "text/plain": [
       "                       Trips on AVG\n",
       "DOzone                             \n",
       "East Harlem South              48.0\n",
       "East Harlem North              27.0\n",
       "Morningside Heights            26.0\n",
       "Upper East Side North          26.0\n",
       "Central Harlem                 22.0"
      ]
     },
     "execution_count": 119,
     "metadata": {},
     "output_type": "execute_result"
    }
   ],
   "source": [
    "# making a aggregated table of the top 5 DOzone\n",
    "offtowork = df[df['hour'].isin([7,8,9,10])]\n",
    "offtowork = offtowork[offtowork['weekday/end']=='Weekday'] # eliminating weekends data\n",
    "offtowork = offtowork[['DOzone','hour','PUdate']]\n",
    "offtowork = offtowork.groupby(['DOzone'])['PUdate'].count().to_frame().sort_values(by='PUdate',ascending=False).head(5)\n",
    "offtowork.rename(columns={'PUdate':'Trips on AVG'}, inplace=True)\n",
    "offtowork['Trips on AVG'] = (offtowork['Trips on AVG'] / 23).round() # averaging per day - minus weekends 31 - (2*4) \n",
    "offtowork"
   ]
  },
  {
   "cell_type": "code",
   "execution_count": 120,
   "metadata": {},
   "outputs": [
    {
     "data": {
      "image/png": "[encoded data removed]",
      "text/plain": [
       "<Figure size 640x480 with 1 Axes>"
      ]
     },
     "metadata": {},
     "output_type": "display_data"
    }
   ],
   "source": [
    "offtowork.plot(kind='bar')\n",
    "plt.title('Top 10 Destination in Off-to-Work hours')\n",
    "plt.xlabel('Destination')\n",
    "plt.show()"
   ]
  },
  {
   "cell_type": "markdown",
   "metadata": {},
   "source": [
    "**Insight**\n",
    "- The top 5 destination zone in the off-to-works hours on average have 26-56 peple going to the same destination, meaning that this might be a communal or cultural trend to use taxi to these area. This indicates that NYC taxis are a preferable option of going to work transportations."
   ]
  },
  {
   "cell_type": "markdown",
   "metadata": {},
   "source": [
    "## **Conclusions and Reccomendation**"
   ]
  },
  {
   "cell_type": "markdown",
   "metadata": {},
   "source": [
    "\n",
    "***Main Takeaways:***\n",
    "***\n",
    "\n",
    "1. Although NYC Taxis are monumental and iconic towards NYC's reputation, their usage are centered mainly in **Manhattan**, and borough like Bronx and Staten Island are pretty far from reach of this public transportations.\n",
    "\n",
    "2. NYC taxis are mostly used as a **work transportation**, consisting of short to medium intra-district trips during work hours.\n",
    "\n",
    "3. For inter-district trips, NYC taxis are not preferable, this could be affected by the various less expensive public transportation in New York.\n",
    "\n",
    "4. Looking at the dropoff ratio, **Bronx** show that they have the needs for public transportation, it's just that the current taxi cab is not their first choice for pickup points. \n",
    "\n",
    "5. **Manhattan** taxi passengers are likely to be more financially secure than other, looking from their credit card payments proportions and their generous and consistent tipping behaviour.\n",
    "\n",
    "\n",
    "**Recommendations:**\n",
    "***\n",
    "\n",
    "***On district expansion:***\n",
    "- Although the trips are mostly centered in Manhattan, boroughs like **Brooklyn** and **Queens** shows that there are demands from consumers. NYC Taxi companies need to think diversely, better understanding of the culture and behaviours, the time patterns of the needed trips and the financial capabilities of the people are vital towards the process of expansions.\n",
    "\n",
    "    ***for example***\n",
    "    Based on the data, **Brooklyn and Queens** have a busy hours at afternoon (15PM-20PM) and more proportions of demand in the before dawn (12AM-4AM), so taxis at these areas can be deployed to maximize the trip supplies.\n",
    "\n",
    "\n",
    "- Boroughs like Staten Island and Bronx has less demands and interest in using taxis as public transportation, so it is better to minimize putting markers in there, which eventualy there are less odds of trips occured.\n",
    "\n",
    "\n",
    "***On off-to-work hours:***\n",
    "- During *off-to-works* hour, companies can offer **Carpooling services** where multiple people can share a taxi with splitted fare, since most of the trips occured in that time is a 1 passenger trip, this could increase the number of new passengers (considering that the demand to the destination is high) and it also cut a lot of cost for the drivers and company.\n",
    "\n",
    "    ***for example***\n",
    "    If the normal rate going to *East Harlem* is 8$ per miles for 1 persons, with carplooling 2 persons can join in togehter and pay the splitted fare of 4.5$ per persons. This cut their expenses by 45% while increasing the drivers revenue by 12%.\n",
    "\n",
    "\n",
    "***On payment system:***\n",
    "- Points system for credit cards user can be implemented, espescially in **Manhattan** where the demand and mobility is high and fast paced, this could attracts people to use the taxi more frequently for some extra miles.\n",
    "\n",
    "- In times where financial technology is dominating the money market, TLC could add a more centralized digital payment system that offers more features. Since more and more people are migrating to cashless payments and not cash-ready anymore.\n",
    "\n",
    "***On Inter-district trips:***\n",
    "- Inter-district trips are less frequent to occur likely due to other less expensive alternatives of public transportation like Subway or Trem, what the taxi companies can do is to optimize this by joining forces with them.\n",
    "\n",
    "     ***for example***\n",
    "     Make partnerships with the subway companies, where there would be a package services that consume can buy that lets them use subway for their inter-district trips and getting taxi trips from the subway station to their home or offices."
   ]
  },
  {
   "cell_type": "markdown",
   "metadata": {},
   "source": [
    "**Exporting new data for visualization**"
   ]
  },
  {
   "cell_type": "code",
   "execution_count": 121,
   "metadata": {},
   "outputs": [],
   "source": [
    "df['count'] = 1\n",
    "df.to_csv(r\"data/NYC TLC Trip Record (tableau).csv\", index=None, header=True)"
   ]
  }
 ],
 "metadata": {
  "kernelspec": {
   "display_name": "Python 3",
   "language": "python",
   "name": "python3"
  },
  "language_info": {
   "codemirror_mode": {
    "name": "ipython",
    "version": 3
   },
   "file_extension": ".py",
   "mimetype": "text/x-python",
   "name": "python",
   "nbconvert_exporter": "python",
   "pygments_lexer": "ipython3",
   "version": "3.11.4"
  }
 },
 "nbformat": 4,
 "nbformat_minor": 2
}
